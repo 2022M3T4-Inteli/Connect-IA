{
  "nbformat": 4,
  "nbformat_minor": 0,
  "metadata": {
    "colab": {
      "provenance": [],
      "collapsed_sections": [
        "LBI519YKMq6O"
      ]
    },
    "kernelspec": {
      "name": "python3",
      "display_name": "Python 3"
    },
    "language_info": {
      "name": "python"
    }
  },
  "cells": [
    {
      "cell_type": "markdown",
      "source": [
        "\n",
        "#1.0 - Tabela Utilizada no Drive\n",
        "\n",
        "Estou utilizando a ultima tabela disponibilizada pela MEDICINA USP.<br>\n",
        "Nome da Tabela: NEW-BDIPMama-INTELI(1).csv"
      ],
      "metadata": {
        "id": "vka3AUA29fN7"
      }
    },
    {
      "cell_type": "code",
      "source": [
        "from google.colab import drive\n",
        "drive.mount('/content/drive')"
      ],
      "metadata": {
        "id": "CA0ZeXbq_7LQ",
        "colab": {
          "base_uri": "https://localhost:8080/"
        },
        "outputId": "9d802952-295c-460f-f568-129b81df823f"
      },
      "execution_count": null,
      "outputs": [
        {
          "output_type": "stream",
          "name": "stdout",
          "text": [
            "Mounted at /content/drive\n"
          ]
        }
      ]
    },
    {
      "cell_type": "markdown",
      "source": [
        "# 1.1 - Buscando a tabela e importando as bibliotecas utilizadas\n",
        "Nomeei a tabela como tabela_completa"
      ],
      "metadata": {
        "id": "t1u1RC6fityW"
      }
    },
    {
      "cell_type": "code",
      "source": [
        "import pandas as pd\n",
        "tabela_completa = pd.read_csv ('/content/drive/MyDrive/DRIVE - USPMedicina/NEW-BDIPMamaV11-INTELI (3).csv',delimiter=\";\")"
      ],
      "metadata": {
        "id": "KBmxEnrztJQw",
        "colab": {
          "base_uri": "https://localhost:8080/"
        },
        "outputId": "84acd84f-e6a3-4227-a984-daa99d205f2b"
      },
      "execution_count": null,
      "outputs": [
        {
          "output_type": "stream",
          "name": "stderr",
          "text": [
            "/usr/local/lib/python3.7/dist-packages/IPython/core/interactiveshell.py:3326: DtypeWarning: Columns (22,24,25,75,76,77,78,89,90,91,92) have mixed types.Specify dtype option on import or set low_memory=False.\n",
            "  exec(code_obj, self.user_global_ns, self.user_ns)\n"
          ]
        }
      ]
    },
    {
      "cell_type": "code",
      "source": [
        "tabela_completa['redcap_repeat_instrument'].value_counts()"
      ],
      "metadata": {
        "id": "B2gDI0JYQWyF"
      },
      "execution_count": null,
      "outputs": []
    },
    {
      "cell_type": "markdown",
      "source": [
        "# 2.0 - Observando os dados válidos\n",
        "Para cada coluna da tabela, consultamos com o value_counts(), afim de consultar a quantidade de dados nas colunas, sendo assim, há a consulta para uma primeira seleção da tabela.<br><br>\n",
        "Importante destacar que todas as colunas selecionadas até o momento tem mais de 1/3 dos registros válidos.\n",
        "O restante foi ignorado devido à ausência de registros significativos."
      ],
      "metadata": {
        "id": "y_ZEvvgb67V-"
      }
    },
    {
      "cell_type": "markdown",
      "source": [
        "# 3.0 - Premissas assumidas"
      ],
      "metadata": {
        "id": "sqKZV-Fn7Tsy"
      }
    },
    {
      "cell_type": "markdown",
      "source": [
        "Assumimos que todos os NaN acima do primeiro dado numérico significa que o dado não foi preenchido no cadastro do paciente, sendo assim, transformaremos este dado nulo em 0.0<br>\n",
        "Para não perder todos os dados da amostra foi preferível substituir os nulos (Nan) pelo número 0.0 até chegar o primeiro exposto na coluna, este foi replicado na coluna abaixo até encontrar o próximo valor válido, segundo orientações docente para o entendimento dos dados. A partir deste momento, lê-se a tabela da seguinte forma:<br>\n",
        "\n",
        "*   Caso observe uma coluna onde o primeiro dado é -1, significa que este é Nan.\n",
        "\n",
        "*   Caso encontre uma coluna onde o primeiro dado é 0, este dado é lido como Não."
      ],
      "metadata": {
        "id": "woTJlQP4ANGZ"
      }
    },
    {
      "cell_type": "markdown",
      "source": [
        "Optamos por renomear a tabela completa, que está no drive, para tabela tratada, a fim de conseguir fazer consultas na tabela completa ao longo do projeto, sem prejudicar a modelagem dos dados que ocorre simultaneamente.<br><br>\n",
        "\n",
        "Utilizamos o comando fillna para buscar na coluna um valor válido e repetir nos dados vazios que iriam se repetir normalmente para o mesmo record_id. Posteriormente,a fim de transformar as string dessa coluna em novas colunas com dados numéricos, especificamente, dados de afirmação (Sim) ou negação (Não), utilizamos o método dummies.\n",
        "\n",
        "Sendo assim, lê-se a tabela da seguinte forma:\n",
        "\n",
        "*   Caso observe uma coluna onde o primeiro dado é -1, significa que este é **Nan**;\n",
        "*   Caso observe uma coluna onde o primeiro dado é 0, significa que este é lido como **Não**;\n",
        "*   Caso Observe uma coluna onde o primeiro dado é 1, significa que este é lido como **Sim**;"
      ],
      "metadata": {
        "id": "wbIk8yTSgyv1"
      }
    },
    {
      "cell_type": "markdown",
      "source": [
        "Fizemos este comando para a coluna \"redcap_repeat_instrument\" visando replicar a coluna em três dados diferentes, pegando seus respectivos valores e transformando em colunas."
      ],
      "metadata": {
        "id": "7YYqBNCo4_1Y"
      }
    },
    {
      "cell_type": "code",
      "source": [
        "tabela_trat = tabela_completa.fillna(method='ffill').dropna(subset=['redcap_repeat_instrument']) #Utilizei o fillna com o método ffill para buscar o último valor válido e repetir na linha posterior.\n",
        "tabela_trat['redcap_repeat_instrument'].unique()\n",
        "\n",
        "tabela_tratada = pd.get_dummies(tabela_trat, columns=['redcap_repeat_instrument', 'antec_fam_cancer_mama', 'ultinfo']) #Utilizei o método get_dummies na coluna redcap_repeat_instrument para separar o conteúdo dela em novas colunas no final"
      ],
      "metadata": {
        "id": "OwKgQR2TtJNu"
      },
      "execution_count": null,
      "outputs": []
    },
    {
      "cell_type": "markdown",
      "source": [
        "A saída esperada é a exclusão da coluna \"redcap_repeat_instrument\", e a criação de três novas colunas, respectivamente:\n",
        "* \"redcap_repeat_instrument_dados_antropometricos\";\n",
        "* \"redcap_repeat_instrument_dados_histopatologicos_mama\"; e \n",
        "* \"redcap_repeat_instrument_registro_de_tumores\".\n",
        "\n",
        "Sendo assim, indicando 1 e 0 nos registros do paciente.<br>\n",
        "\n",
        "Fiz o mesmo processo para a coluna \"antec_fam_cancer_mama\" que indica se há algum familiar com câncer ou não, buscando transformar as string \"Sim\" e \"Não\" em 0 e 1."
      ],
      "metadata": {
        "id": "xexVQULDkWk-"
      }
    },
    {
      "cell_type": "markdown",
      "source": [
        "Selecionamos as colunas que iremos utilizar, como retiramos as duplicatas com base "
      ],
      "metadata": {
        "id": "I3-_QqhWg52K"
      }
    },
    {
      "cell_type": "code",
      "source": [
        "ta_final = tabela_tratada[['record_id','t','n','m', 'ultinfo_1.0',\t'ultinfo_2.0',\t'ultinfo_3.0',\t'ultinfo_4.0','breast_feeding_time', 'dob','tumor_subtype',\n",
        "                           'antec_fam_cancer_mama_Não','antec_fam_cancer_mama_Sim', 'tempo_rep_hormo','bmi', 'follow_up_days', 'menarche', 'tobaco','alcohol',\n",
        "                           'date_last_fu','familial_degree___1','familial_degree___2','familial_degree___3', 'primary_diganosis','benign']]\n",
        "tabela_final = ta_final.fillna(-1)\n",
        "tabela_final = tabela_final.drop_duplicates(subset='record_id', keep='last', ignore_index=True)"
      ],
      "metadata": {
        "id": "t3PHchCZgqYQ"
      },
      "execution_count": null,
      "outputs": []
    },
    {
      "cell_type": "markdown",
      "source": [
        "# 4.0 - Transformando Colunas\n",
        "Foi necessário transformar a coluna data de nascimento (dob) em idade, visto que será mais fácil saber a idade da paciente quando gerarmos o modelo de predição.<br><br>\n",
        "A data de nascimento foi calculada até a última consulta do mesmo, e não até a data presente. Preferimos demonstrar desta forma devido a não existência da data de óbito no banco de dados, e também, por nos concentrarmos em encontrar a relação da sobrevida do paciente até a ultima consulta.\n",
        "<br><br>\n",
        "Abaixo o código que gera a idade a partir da data de nascimento."
      ],
      "metadata": {
        "id": "8AkWmqE3DsDS"
      }
    },
    {
      "cell_type": "code",
      "source": [
        "from datetime import datetime, date\n",
        "tabela_final['dob']\n",
        "def pegar_idade(nascimento, _date):\n",
        "  nascimento = datetime.strptime(nascimento,\"%d/%m/%Y\").date()\n",
        "  _date = datetime.strptime(_date,\"%d/%m/%Y\").date()\n",
        "  idade = _date.year - nascimento.year\n",
        "  if(nascimento.month == _date.month and nascimento.day >= _date.year):\n",
        "    idade = idade + 1\n",
        "  elif(nascimento.month > _date.month):\n",
        "    idade = idade + 1\n",
        "  return idade\n",
        "\n",
        "def convertDate(age):\n",
        "  return datetime.strptime(age,\"%d/%m/%Y\").date()\n",
        "tabela_final['dob'].apply(convertDate)\n",
        "tabela_final['date_last_fu'].apply(convertDate)\n",
        "tabela_final['idade'] = \"\"\n",
        "for ind in tabela_final.index:\n",
        "    tabela_final['idade'][ind] = pegar_idade(tabela_final['dob'][ind], tabela_final['date_last_fu'][ind])\n",
        "\n"
      ],
      "metadata": {
        "id": "N1CeSeIUC3LD",
        "colab": {
          "base_uri": "https://localhost:8080/"
        },
        "outputId": "9ce01e8e-d85e-4d5f-8c62-c6dda2ae5b51"
      },
      "execution_count": null,
      "outputs": [
        {
          "output_type": "stream",
          "name": "stderr",
          "text": [
            "/usr/local/lib/python3.7/dist-packages/ipykernel_launcher.py:19: SettingWithCopyWarning: \n",
            "A value is trying to be set on a copy of a slice from a DataFrame\n",
            "\n",
            "See the caveats in the documentation: https://pandas.pydata.org/pandas-docs/stable/user_guide/indexing.html#returning-a-view-versus-a-copy\n"
          ]
        }
      ]
    },
    {
      "cell_type": "markdown",
      "source": [
        "Com o intuito de realizar testes por meio de modelos de classificação, foi necessário transformar a coluna do dias de sobrevida em um filtro, de 1 a 5, para que os dados pudessem ser melhor enquadrados dentro da aplicação do modelo e evitasse ruídos nos resultados. A seguir, segue o código da função responsável por essa conversão:"
      ],
      "metadata": {
        "id": "dWuJiU2E0vX5"
      }
    },
    {
      "cell_type": "code",
      "source": [
        "def getCategory(x):\n",
        "   if x<=900: return 1;\n",
        "   elif x>=901 and x<=1800: return 2 \n",
        "   elif  x>=1801 and x<=2700: return 3\n",
        "   elif x>=2701 and x<=3600: return 4\n",
        "   else: return 5\n",
        "\n",
        "tabela_final['sobrevida'] = tabela_final['follow_up_days'].apply(lambda x: getCategory(x))\n",
        "tabela_final['sobrevida'].value_counts()"
      ],
      "metadata": {
        "colab": {
          "base_uri": "https://localhost:8080/"
        },
        "id": "C2s7iccE0aE-",
        "outputId": "8a49cf36-4e9d-44af-a6d0-faa88604e473"
      },
      "execution_count": null,
      "outputs": [
        {
          "output_type": "execute_result",
          "data": {
            "text/plain": [
              "2    2197\n",
              "1     891\n",
              "4     529\n",
              "3     461\n",
              "5      56\n",
              "Name: sobrevida, dtype: int64"
            ]
          },
          "metadata": {},
          "execution_count": 9
        }
      ]
    },
    {
      "cell_type": "markdown",
      "source": [
        "Com a finalidade de facilitar a visualização e compreensão das colunas utilizadas no modelo, foi necessário renomear algumas Features, que podem ser visualizadas no código abaixo:"
      ],
      "metadata": {
        "id": "50Of2Zx15D43"
      }
    },
    {
      "cell_type": "code",
      "source": [
        "tabela_final.rename({'ultinfo_1.0':'ultinfo_1','ultinfo_2.0':'ultinfo_2',\n",
        "                     'ultinfo_3.0':'ultinfo_3', 'ultinfo_4.0':'ultinfo_4',\n",
        "                     'record_id':'pacientes', 't':'tumor', 'n':'nodulo',\n",
        "                     'm':'metastese', 'breast_feeding_time':'tempo_de_amamentacao',\n",
        "                     'dob':'data_de_nascimento', 'tobaco':'fumante', 'alcohol':'alcolatra',\n",
        "                     'date_last_fu':'data_ultima_consulta', 'familial_degree___1':'grau_parentesco_1',\n",
        "                     'familial_degree___2':'grau_parentesco_2', 'familial_degree___3':'grau_parentesco_3',\n",
        "                     'primary_diganosis':'tipo_tumor', 'tumor_subtype':'subtipo_tumoral',\n",
        "                     'menarche':'primeira_menstruacao', 'bmi':'IMC', \n",
        "                     'benign':'benigno/maligno'}, axis='columns', inplace=True)"
      ],
      "metadata": {
        "id": "9CluN1q2ZjYK"
      },
      "execution_count": null,
      "outputs": []
    },
    {
      "cell_type": "markdown",
      "source": [
        "Foi utilizado o método query para pegar apenas a ultima informação dos pacientes que já foram a óbito por Câncer, para que seja possível conferir com o mínimo de viés possível os dados, pois partimos do suposto que os dados dos que morreram com Câncer "
      ],
      "metadata": {
        "id": "5kHwfWre7A9E"
      }
    },
    {
      "cell_type": "code",
      "source": [
        "x_inter3 = tabela_final.query('ultinfo_3 == 1')"
      ],
      "metadata": {
        "id": "uMky7azHYmOw"
      },
      "execution_count": null,
      "outputs": []
    },
    {
      "cell_type": "code",
      "source": [
        "x_inter3"
      ],
      "metadata": {
        "id": "x1n1i7n0aosF",
        "colab": {
          "base_uri": "https://localhost:8080/",
          "height": 488
        },
        "outputId": "b16762ce-ab84-4bf5-c19e-084fa1ee8093"
      },
      "execution_count": null,
      "outputs": [
        {
          "output_type": "execute_result",
          "data": {
            "text/plain": [
              "      pacientes  tumor  nodulo  metastese  ultinfo_1  ultinfo_2  ultinfo_3  \\\n",
              "5          1705    1.0     1.0        0.0          0          0          1   \n",
              "8          1898    4.0     2.0        1.0          0          0          1   \n",
              "12         2016    3.0     3.0        0.0          0          0          1   \n",
              "19         2350    3.0     2.0        0.0          0          0          1   \n",
              "20         2370    2.0     1.0        0.0          0          0          1   \n",
              "...         ...    ...     ...        ...        ...        ...        ...   \n",
              "4054      79944   42.0     1.0        0.0          0          0          1   \n",
              "4069      80274    3.0     1.0        0.0          0          0          1   \n",
              "4080      80930    3.0     1.0        0.0          0          0          1   \n",
              "4111      81873   42.0     1.0        1.0          0          0          1   \n",
              "4118      81965   44.0     2.0        1.0          0          0          1   \n",
              "\n",
              "      ultinfo_4  tempo_de_amamentacao data_de_nascimento  ...  fumante  \\\n",
              "5             0                  -1.0         09/11/1963  ...      2.0   \n",
              "8             0                  -1.0         13/10/1947  ...      2.0   \n",
              "12            0                  -1.0         17/01/1966  ...      2.0   \n",
              "19            0                  -1.0         23/03/1936  ...      2.0   \n",
              "20            0                  -1.0         18/05/1958  ...      2.0   \n",
              "...         ...                   ...                ...  ...      ...   \n",
              "4054          0                  12.0         04/01/1984  ...      3.0   \n",
              "4069          0                  24.0         12/05/1985  ...      2.0   \n",
              "4080          0                  60.0         11/06/1959  ...      2.0   \n",
              "4111          0                   6.0         11/06/1959  ...      2.0   \n",
              "4118          0                  29.0         11/06/1959  ...      2.0   \n",
              "\n",
              "      alcolatra  data_ultima_consulta  grau_parentesco_1  grau_parentesco_2  \\\n",
              "5           2.0            11/06/2013                0.0                0.0   \n",
              "8           2.0            22/08/2009                0.0                0.0   \n",
              "12          2.0            22/06/2011                0.0                0.0   \n",
              "19          2.0            22/07/2010                0.0                0.0   \n",
              "20          2.0            03/11/2009                0.0                0.0   \n",
              "...         ...                   ...                ...                ...   \n",
              "4054        3.0            05/05/2021                1.0                1.0   \n",
              "4069        2.0            06/08/2019                0.0                0.0   \n",
              "4080        2.0            06/08/2021                0.0                0.0   \n",
              "4111        2.0            12/05/2020                0.0                0.0   \n",
              "4118        2.0            10/03/2021                0.0                0.0   \n",
              "\n",
              "      grau_parentesco_3  tipo_tumor  benigno/maligno  idade sobrevida  \n",
              "5                   0.0         2.0              2.0     51         3  \n",
              "8                   0.0         2.0              2.0     63         1  \n",
              "12                  0.0         2.0              2.0     45         2  \n",
              "19                  0.0         2.0              2.0     74         2  \n",
              "20                  0.0         2.0              2.0     51         2  \n",
              "...                 ...         ...              ...    ...       ...  \n",
              "4054                0.0         2.0              2.0     37         1  \n",
              "4069                0.0         2.0              2.0     34         1  \n",
              "4080                0.0         2.0              2.0     62         1  \n",
              "4111                0.0         2.0              2.0     62         1  \n",
              "4118                0.0         2.0              2.0     63         1  \n",
              "\n",
              "[870 rows x 27 columns]"
            ],
            "text/html": [
              "\n",
              "  <div id=\"df-6514425b-5bd7-4a0b-8010-f51f5a737e3c\">\n",
              "    <div class=\"colab-df-container\">\n",
              "      <div>\n",
              "<style scoped>\n",
              "    .dataframe tbody tr th:only-of-type {\n",
              "        vertical-align: middle;\n",
              "    }\n",
              "\n",
              "    .dataframe tbody tr th {\n",
              "        vertical-align: top;\n",
              "    }\n",
              "\n",
              "    .dataframe thead th {\n",
              "        text-align: right;\n",
              "    }\n",
              "</style>\n",
              "<table border=\"1\" class=\"dataframe\">\n",
              "  <thead>\n",
              "    <tr style=\"text-align: right;\">\n",
              "      <th></th>\n",
              "      <th>pacientes</th>\n",
              "      <th>tumor</th>\n",
              "      <th>nodulo</th>\n",
              "      <th>metastese</th>\n",
              "      <th>ultinfo_1</th>\n",
              "      <th>ultinfo_2</th>\n",
              "      <th>ultinfo_3</th>\n",
              "      <th>ultinfo_4</th>\n",
              "      <th>tempo_de_amamentacao</th>\n",
              "      <th>data_de_nascimento</th>\n",
              "      <th>...</th>\n",
              "      <th>fumante</th>\n",
              "      <th>alcolatra</th>\n",
              "      <th>data_ultima_consulta</th>\n",
              "      <th>grau_parentesco_1</th>\n",
              "      <th>grau_parentesco_2</th>\n",
              "      <th>grau_parentesco_3</th>\n",
              "      <th>tipo_tumor</th>\n",
              "      <th>benigno/maligno</th>\n",
              "      <th>idade</th>\n",
              "      <th>sobrevida</th>\n",
              "    </tr>\n",
              "  </thead>\n",
              "  <tbody>\n",
              "    <tr>\n",
              "      <th>5</th>\n",
              "      <td>1705</td>\n",
              "      <td>1.0</td>\n",
              "      <td>1.0</td>\n",
              "      <td>0.0</td>\n",
              "      <td>0</td>\n",
              "      <td>0</td>\n",
              "      <td>1</td>\n",
              "      <td>0</td>\n",
              "      <td>-1.0</td>\n",
              "      <td>09/11/1963</td>\n",
              "      <td>...</td>\n",
              "      <td>2.0</td>\n",
              "      <td>2.0</td>\n",
              "      <td>11/06/2013</td>\n",
              "      <td>0.0</td>\n",
              "      <td>0.0</td>\n",
              "      <td>0.0</td>\n",
              "      <td>2.0</td>\n",
              "      <td>2.0</td>\n",
              "      <td>51</td>\n",
              "      <td>3</td>\n",
              "    </tr>\n",
              "    <tr>\n",
              "      <th>8</th>\n",
              "      <td>1898</td>\n",
              "      <td>4.0</td>\n",
              "      <td>2.0</td>\n",
              "      <td>1.0</td>\n",
              "      <td>0</td>\n",
              "      <td>0</td>\n",
              "      <td>1</td>\n",
              "      <td>0</td>\n",
              "      <td>-1.0</td>\n",
              "      <td>13/10/1947</td>\n",
              "      <td>...</td>\n",
              "      <td>2.0</td>\n",
              "      <td>2.0</td>\n",
              "      <td>22/08/2009</td>\n",
              "      <td>0.0</td>\n",
              "      <td>0.0</td>\n",
              "      <td>0.0</td>\n",
              "      <td>2.0</td>\n",
              "      <td>2.0</td>\n",
              "      <td>63</td>\n",
              "      <td>1</td>\n",
              "    </tr>\n",
              "    <tr>\n",
              "      <th>12</th>\n",
              "      <td>2016</td>\n",
              "      <td>3.0</td>\n",
              "      <td>3.0</td>\n",
              "      <td>0.0</td>\n",
              "      <td>0</td>\n",
              "      <td>0</td>\n",
              "      <td>1</td>\n",
              "      <td>0</td>\n",
              "      <td>-1.0</td>\n",
              "      <td>17/01/1966</td>\n",
              "      <td>...</td>\n",
              "      <td>2.0</td>\n",
              "      <td>2.0</td>\n",
              "      <td>22/06/2011</td>\n",
              "      <td>0.0</td>\n",
              "      <td>0.0</td>\n",
              "      <td>0.0</td>\n",
              "      <td>2.0</td>\n",
              "      <td>2.0</td>\n",
              "      <td>45</td>\n",
              "      <td>2</td>\n",
              "    </tr>\n",
              "    <tr>\n",
              "      <th>19</th>\n",
              "      <td>2350</td>\n",
              "      <td>3.0</td>\n",
              "      <td>2.0</td>\n",
              "      <td>0.0</td>\n",
              "      <td>0</td>\n",
              "      <td>0</td>\n",
              "      <td>1</td>\n",
              "      <td>0</td>\n",
              "      <td>-1.0</td>\n",
              "      <td>23/03/1936</td>\n",
              "      <td>...</td>\n",
              "      <td>2.0</td>\n",
              "      <td>2.0</td>\n",
              "      <td>22/07/2010</td>\n",
              "      <td>0.0</td>\n",
              "      <td>0.0</td>\n",
              "      <td>0.0</td>\n",
              "      <td>2.0</td>\n",
              "      <td>2.0</td>\n",
              "      <td>74</td>\n",
              "      <td>2</td>\n",
              "    </tr>\n",
              "    <tr>\n",
              "      <th>20</th>\n",
              "      <td>2370</td>\n",
              "      <td>2.0</td>\n",
              "      <td>1.0</td>\n",
              "      <td>0.0</td>\n",
              "      <td>0</td>\n",
              "      <td>0</td>\n",
              "      <td>1</td>\n",
              "      <td>0</td>\n",
              "      <td>-1.0</td>\n",
              "      <td>18/05/1958</td>\n",
              "      <td>...</td>\n",
              "      <td>2.0</td>\n",
              "      <td>2.0</td>\n",
              "      <td>03/11/2009</td>\n",
              "      <td>0.0</td>\n",
              "      <td>0.0</td>\n",
              "      <td>0.0</td>\n",
              "      <td>2.0</td>\n",
              "      <td>2.0</td>\n",
              "      <td>51</td>\n",
              "      <td>2</td>\n",
              "    </tr>\n",
              "    <tr>\n",
              "      <th>...</th>\n",
              "      <td>...</td>\n",
              "      <td>...</td>\n",
              "      <td>...</td>\n",
              "      <td>...</td>\n",
              "      <td>...</td>\n",
              "      <td>...</td>\n",
              "      <td>...</td>\n",
              "      <td>...</td>\n",
              "      <td>...</td>\n",
              "      <td>...</td>\n",
              "      <td>...</td>\n",
              "      <td>...</td>\n",
              "      <td>...</td>\n",
              "      <td>...</td>\n",
              "      <td>...</td>\n",
              "      <td>...</td>\n",
              "      <td>...</td>\n",
              "      <td>...</td>\n",
              "      <td>...</td>\n",
              "      <td>...</td>\n",
              "      <td>...</td>\n",
              "    </tr>\n",
              "    <tr>\n",
              "      <th>4054</th>\n",
              "      <td>79944</td>\n",
              "      <td>42.0</td>\n",
              "      <td>1.0</td>\n",
              "      <td>0.0</td>\n",
              "      <td>0</td>\n",
              "      <td>0</td>\n",
              "      <td>1</td>\n",
              "      <td>0</td>\n",
              "      <td>12.0</td>\n",
              "      <td>04/01/1984</td>\n",
              "      <td>...</td>\n",
              "      <td>3.0</td>\n",
              "      <td>3.0</td>\n",
              "      <td>05/05/2021</td>\n",
              "      <td>1.0</td>\n",
              "      <td>1.0</td>\n",
              "      <td>0.0</td>\n",
              "      <td>2.0</td>\n",
              "      <td>2.0</td>\n",
              "      <td>37</td>\n",
              "      <td>1</td>\n",
              "    </tr>\n",
              "    <tr>\n",
              "      <th>4069</th>\n",
              "      <td>80274</td>\n",
              "      <td>3.0</td>\n",
              "      <td>1.0</td>\n",
              "      <td>0.0</td>\n",
              "      <td>0</td>\n",
              "      <td>0</td>\n",
              "      <td>1</td>\n",
              "      <td>0</td>\n",
              "      <td>24.0</td>\n",
              "      <td>12/05/1985</td>\n",
              "      <td>...</td>\n",
              "      <td>2.0</td>\n",
              "      <td>2.0</td>\n",
              "      <td>06/08/2019</td>\n",
              "      <td>0.0</td>\n",
              "      <td>0.0</td>\n",
              "      <td>0.0</td>\n",
              "      <td>2.0</td>\n",
              "      <td>2.0</td>\n",
              "      <td>34</td>\n",
              "      <td>1</td>\n",
              "    </tr>\n",
              "    <tr>\n",
              "      <th>4080</th>\n",
              "      <td>80930</td>\n",
              "      <td>3.0</td>\n",
              "      <td>1.0</td>\n",
              "      <td>0.0</td>\n",
              "      <td>0</td>\n",
              "      <td>0</td>\n",
              "      <td>1</td>\n",
              "      <td>0</td>\n",
              "      <td>60.0</td>\n",
              "      <td>11/06/1959</td>\n",
              "      <td>...</td>\n",
              "      <td>2.0</td>\n",
              "      <td>2.0</td>\n",
              "      <td>06/08/2021</td>\n",
              "      <td>0.0</td>\n",
              "      <td>0.0</td>\n",
              "      <td>0.0</td>\n",
              "      <td>2.0</td>\n",
              "      <td>2.0</td>\n",
              "      <td>62</td>\n",
              "      <td>1</td>\n",
              "    </tr>\n",
              "    <tr>\n",
              "      <th>4111</th>\n",
              "      <td>81873</td>\n",
              "      <td>42.0</td>\n",
              "      <td>1.0</td>\n",
              "      <td>1.0</td>\n",
              "      <td>0</td>\n",
              "      <td>0</td>\n",
              "      <td>1</td>\n",
              "      <td>0</td>\n",
              "      <td>6.0</td>\n",
              "      <td>11/06/1959</td>\n",
              "      <td>...</td>\n",
              "      <td>2.0</td>\n",
              "      <td>2.0</td>\n",
              "      <td>12/05/2020</td>\n",
              "      <td>0.0</td>\n",
              "      <td>0.0</td>\n",
              "      <td>0.0</td>\n",
              "      <td>2.0</td>\n",
              "      <td>2.0</td>\n",
              "      <td>62</td>\n",
              "      <td>1</td>\n",
              "    </tr>\n",
              "    <tr>\n",
              "      <th>4118</th>\n",
              "      <td>81965</td>\n",
              "      <td>44.0</td>\n",
              "      <td>2.0</td>\n",
              "      <td>1.0</td>\n",
              "      <td>0</td>\n",
              "      <td>0</td>\n",
              "      <td>1</td>\n",
              "      <td>0</td>\n",
              "      <td>29.0</td>\n",
              "      <td>11/06/1959</td>\n",
              "      <td>...</td>\n",
              "      <td>2.0</td>\n",
              "      <td>2.0</td>\n",
              "      <td>10/03/2021</td>\n",
              "      <td>0.0</td>\n",
              "      <td>0.0</td>\n",
              "      <td>0.0</td>\n",
              "      <td>2.0</td>\n",
              "      <td>2.0</td>\n",
              "      <td>63</td>\n",
              "      <td>1</td>\n",
              "    </tr>\n",
              "  </tbody>\n",
              "</table>\n",
              "<p>870 rows × 27 columns</p>\n",
              "</div>\n",
              "      <button class=\"colab-df-convert\" onclick=\"convertToInteractive('df-6514425b-5bd7-4a0b-8010-f51f5a737e3c')\"\n",
              "              title=\"Convert this dataframe to an interactive table.\"\n",
              "              style=\"display:none;\">\n",
              "        \n",
              "  <svg xmlns=\"http://www.w3.org/2000/svg\" height=\"24px\"viewBox=\"0 0 24 24\"\n",
              "       width=\"24px\">\n",
              "    <path d=\"M0 0h24v24H0V0z\" fill=\"none\"/>\n",
              "    <path d=\"M18.56 5.44l.94 2.06.94-2.06 2.06-.94-2.06-.94-.94-2.06-.94 2.06-2.06.94zm-11 1L8.5 8.5l.94-2.06 2.06-.94-2.06-.94L8.5 2.5l-.94 2.06-2.06.94zm10 10l.94 2.06.94-2.06 2.06-.94-2.06-.94-.94-2.06-.94 2.06-2.06.94z\"/><path d=\"M17.41 7.96l-1.37-1.37c-.4-.4-.92-.59-1.43-.59-.52 0-1.04.2-1.43.59L10.3 9.45l-7.72 7.72c-.78.78-.78 2.05 0 2.83L4 21.41c.39.39.9.59 1.41.59.51 0 1.02-.2 1.41-.59l7.78-7.78 2.81-2.81c.8-.78.8-2.07 0-2.86zM5.41 20L4 18.59l7.72-7.72 1.47 1.35L5.41 20z\"/>\n",
              "  </svg>\n",
              "      </button>\n",
              "      \n",
              "  <style>\n",
              "    .colab-df-container {\n",
              "      display:flex;\n",
              "      flex-wrap:wrap;\n",
              "      gap: 12px;\n",
              "    }\n",
              "\n",
              "    .colab-df-convert {\n",
              "      background-color: #E8F0FE;\n",
              "      border: none;\n",
              "      border-radius: 50%;\n",
              "      cursor: pointer;\n",
              "      display: none;\n",
              "      fill: #1967D2;\n",
              "      height: 32px;\n",
              "      padding: 0 0 0 0;\n",
              "      width: 32px;\n",
              "    }\n",
              "\n",
              "    .colab-df-convert:hover {\n",
              "      background-color: #E2EBFA;\n",
              "      box-shadow: 0px 1px 2px rgba(60, 64, 67, 0.3), 0px 1px 3px 1px rgba(60, 64, 67, 0.15);\n",
              "      fill: #174EA6;\n",
              "    }\n",
              "\n",
              "    [theme=dark] .colab-df-convert {\n",
              "      background-color: #3B4455;\n",
              "      fill: #D2E3FC;\n",
              "    }\n",
              "\n",
              "    [theme=dark] .colab-df-convert:hover {\n",
              "      background-color: #434B5C;\n",
              "      box-shadow: 0px 1px 3px 1px rgba(0, 0, 0, 0.15);\n",
              "      filter: drop-shadow(0px 1px 2px rgba(0, 0, 0, 0.3));\n",
              "      fill: #FFFFFF;\n",
              "    }\n",
              "  </style>\n",
              "\n",
              "      <script>\n",
              "        const buttonEl =\n",
              "          document.querySelector('#df-6514425b-5bd7-4a0b-8010-f51f5a737e3c button.colab-df-convert');\n",
              "        buttonEl.style.display =\n",
              "          google.colab.kernel.accessAllowed ? 'block' : 'none';\n",
              "\n",
              "        async function convertToInteractive(key) {\n",
              "          const element = document.querySelector('#df-6514425b-5bd7-4a0b-8010-f51f5a737e3c');\n",
              "          const dataTable =\n",
              "            await google.colab.kernel.invokeFunction('convertToInteractive',\n",
              "                                                     [key], {});\n",
              "          if (!dataTable) return;\n",
              "\n",
              "          const docLinkHtml = 'Like what you see? Visit the ' +\n",
              "            '<a target=\"_blank\" href=https://colab.research.google.com/notebooks/data_table.ipynb>data table notebook</a>'\n",
              "            + ' to learn more about interactive tables.';\n",
              "          element.innerHTML = '';\n",
              "          dataTable['output_type'] = 'display_data';\n",
              "          await google.colab.output.renderOutput(dataTable, element);\n",
              "          const docLink = document.createElement('div');\n",
              "          docLink.innerHTML = docLinkHtml;\n",
              "          element.appendChild(docLink);\n",
              "        }\n",
              "      </script>\n",
              "    </div>\n",
              "  </div>\n",
              "  "
            ]
          },
          "metadata": {},
          "execution_count": 12
        }
      ]
    },
    {
      "cell_type": "markdown",
      "source": [
        "#5.0 - Testando o Modelo Preditivo#"
      ],
      "metadata": {
        "id": "O3PHSD-OMIyM"
      }
    },
    {
      "cell_type": "markdown",
      "source": [
        "Importando biblioteca responsável pela utilização de métricas de desempenho dos modelos de aprendizagem de máquina"
      ],
      "metadata": {
        "id": "pHOF6pZ6Mv1u"
      }
    },
    {
      "cell_type": "code",
      "source": [
        "from scipy.sparse.linalg.isolve.minres import sqrt\n",
        "acuraciaModelos = {}\n",
        "\n",
        "def calc_MCC(res):\n",
        "  TP = res[0][0]\n",
        "  TN = res[1][1]\n",
        "  FP = res[0][1]\n",
        "  FN = res[1][0]\n",
        "  raiz = (TP+FP) * (TP+FN) * (TN+FP) * (TN+FN)\n",
        "  MCC = ((TP*TN)-(FP*FN))/sqrt(raiz)\n",
        "  return MCC"
      ],
      "metadata": {
        "id": "Ak51On2HNU6Y"
      },
      "execution_count": null,
      "outputs": []
    },
    {
      "cell_type": "markdown",
      "source": [
        "##**5.1 Regressão Linear**\n",
        " Regressão linear é um conjunto de técnicas que se baseiam na ideia de estimar o valor de uma variável Y através dos valores de X, permitindo assim que um conjunto de dados sirvam de parâmetro para a estimativa de um valor desejado. Após serem submetidos ao processo de normalização padrão, que se baseia em limitar os dados entre 0 e 1 para deixá-los dimensionados da mesma forma, o que resulta em uma melhor relação de proporcionalidade entre os valores das diferentes features, foi aplicado ao banco de dados esse modelo de aprendizagem de máquina, tendo como resultado 41% de acurácia"
      ],
      "metadata": {
        "id": "jF_TUj5IgPln"
      }
    },
    {
      "cell_type": "code",
      "source": [
        "from sklearn.model_selection import train_test_split\n",
        "from sklearn.metrics import mean_squared_error, mean_absolute_error, r2_score\n",
        "import seaborn as sns\n",
        "\n",
        "# Dividindo dados para treino e dados para teste\n",
        "x_entrada1 = x_inter3[['tumor','nodulo',\n",
        "                       'metastese', 'tempo_de_amamentacao',\n",
        "                       'primeira_menstruacao', 'fumante', 'alcolatra',\n",
        "                       'grau_parentesco_1', 'grau_parentesco_2', 'grau_parentesco_3',\n",
        "                       'tipo_tumor', 'idade']].values\n",
        "y_saida1 = x_inter3['sobrevida'].values\n",
        "\n",
        "X_train1, X_test1, Y_train1, Y_test1 = train_test_split(x_entrada1, y_saida1, \n",
        "                                                    test_size = 0.3, \n",
        "                                                    random_state = 42)\n",
        "# Treinando o modelo\n",
        "from sklearn.linear_model import LinearRegression\n",
        "\n",
        "model = LinearRegression().fit(X_train1, Y_train1)\n",
        "# Fazendo as predições\n",
        "Y_pred1 = model.predict(X_test1)"
      ],
      "metadata": {
        "id": "WNbZZqAgDnrU"
      },
      "execution_count": null,
      "outputs": []
    },
    {
      "cell_type": "code",
      "source": [
        "Y_pred1\n",
        "#no linear consigo pegar o score e accuracy"
      ],
      "metadata": {
        "id": "ibtshkR3hV9I",
        "colab": {
          "base_uri": "https://localhost:8080/"
        },
        "outputId": "8fb81f0a-3258-4318-e59b-342447b31f36"
      },
      "execution_count": null,
      "outputs": [
        {
          "output_type": "execute_result",
          "data": {
            "text/plain": [
              "array([1.35471276, 1.83557527, 1.30048918, 1.71097868, 1.27503977,\n",
              "       1.45773327, 2.00962601, 1.38638075, 1.60459134, 1.17885719,\n",
              "       1.9587969 , 1.05324887, 1.99700382, 1.9600094 , 1.49653205,\n",
              "       1.98286967, 1.21527868, 1.76511221, 1.92793119, 1.29124384,\n",
              "       1.77407345, 1.9248693 , 3.20248877, 1.26717171, 1.1268893 ,\n",
              "       1.79189427, 1.91973652, 1.91700152, 1.91857015, 1.24951764,\n",
              "       0.89315453, 1.74489807, 1.42080076, 1.31863028, 1.55453784,\n",
              "       1.49269412, 1.2341365 , 1.93442284, 1.26356403, 1.48591264,\n",
              "       1.4181536 , 1.33364483, 1.45229729, 1.92211881, 1.34465205,\n",
              "       1.95010892, 1.99687534, 1.46690216, 1.10028847, 1.35251293,\n",
              "       1.95371895, 1.4189933 , 1.26272562, 1.31825446, 1.97751518,\n",
              "       1.18099935, 1.18780358, 1.92036623, 1.56757578, 2.02615454,\n",
              "       0.87473532, 1.91890649, 1.74270122, 1.36216652, 1.32910728,\n",
              "       1.31832365, 1.78850353, 1.24638853, 1.96437247, 1.46521949,\n",
              "       1.98056092, 1.21343111, 1.91616892, 1.20033549, 1.92802621,\n",
              "       1.79133458, 1.38272942, 1.79230137, 1.99470767, 1.32304187,\n",
              "       1.97103168, 1.33009758, 1.38908933, 1.94834463, 1.98829989,\n",
              "       1.29412022, 1.96455685, 1.51865002, 1.95563519, 1.98786408,\n",
              "       1.51261193, 1.372817  , 1.91862962, 1.29003561, 1.44432752,\n",
              "       1.29740618, 1.85608261, 1.36088129, 1.50516285, 1.17471664,\n",
              "       1.92262932, 1.93607082, 1.47973553, 1.24160559, 1.99094443,\n",
              "       1.56809294, 1.19503702, 1.43896309, 1.42906707, 1.92005231,\n",
              "       1.55325283, 1.31415192, 1.25470087, 1.54733515, 1.5649283 ,\n",
              "       2.01547203, 1.90207625, 1.92555369, 1.47691632, 1.38479729,\n",
              "       1.50074059, 1.45247135, 1.29660992, 1.30274719, 2.44798754,\n",
              "       1.97664628, 1.36125546, 1.9469037 , 1.92711045, 1.98814794,\n",
              "       1.39954902, 1.30478037, 1.94461292, 1.68494311, 2.03083263,\n",
              "       1.96081398, 2.02590528, 1.97639484, 1.49826053, 1.94957362,\n",
              "       1.95535476, 1.24353498, 1.91837819, 1.67046025, 1.94380351,\n",
              "       1.26487919, 1.56373917, 1.80866554, 1.73585763, 1.23868824,\n",
              "       1.341079  , 1.3515526 , 1.35321531, 1.96022212, 2.00969782,\n",
              "       1.74546639, 1.8034197 , 1.65944404, 1.31623886, 1.93267206,\n",
              "       1.95454427, 1.52137176, 1.19774389, 1.97206012, 1.2458791 ,\n",
              "       1.27203836, 1.4714885 , 1.41491465, 1.97822618, 1.3768749 ,\n",
              "       1.21139999, 1.97972445, 1.2084    , 1.77616055, 0.85223158,\n",
              "       1.58288588, 1.44337024, 1.51600767, 1.31712373, 1.93267206,\n",
              "       1.16375933, 1.18184206, 1.498482  , 1.97237154, 1.367027  ,\n",
              "       0.94322201, 1.73085394, 1.4555659 , 1.8542589 , 1.91435923,\n",
              "       1.35947951, 1.74706785, 1.94582502, 1.33383719, 1.44724188,\n",
              "       1.52468323, 1.97316472, 1.92406459, 1.88845381, 1.95749553,\n",
              "       1.49564052, 1.96766872, 1.63189966, 1.75353437, 1.32527376,\n",
              "       1.41334458, 1.26857071, 1.64258892, 1.34976359, 1.305812  ,\n",
              "       1.50875468, 1.93766646, 1.95089998, 1.27148556, 1.98611438,\n",
              "       1.46531678, 1.84453907, 1.9814563 , 1.34408784, 1.14226331,\n",
              "       1.53035786, 1.44152522, 1.9439018 , 1.44130283, 1.26702678,\n",
              "       1.77361387, 1.41604   , 1.95648427, 1.45401956, 1.89744048,\n",
              "       1.55318739, 1.19161997, 1.35896483, 1.79904548, 1.35076891,\n",
              "       1.96860613, 1.66829003, 1.4438263 , 1.35828509, 1.30269396,\n",
              "       1.55603311, 1.95596   , 1.95843293, 1.79894151, 1.29943666,\n",
              "       1.45134574, 1.73524456, 1.50550997, 1.99332673, 1.5963392 ,\n",
              "       1.76038956, 1.70966136, 1.34140698, 1.75539186, 1.35652773,\n",
              "       1.36058727, 1.28065907, 1.95349858, 1.35290061, 1.95553914,\n",
              "       1.39526405])"
            ]
          },
          "metadata": {},
          "execution_count": 15
        }
      ]
    },
    {
      "cell_type": "code",
      "source": [
        "Y_test1"
      ],
      "metadata": {
        "id": "ugeiIaZThV53",
        "colab": {
          "base_uri": "https://localhost:8080/"
        },
        "outputId": "07ae30b1-433f-47b3-8692-d77617d49095"
      },
      "execution_count": null,
      "outputs": [
        {
          "output_type": "execute_result",
          "data": {
            "text/plain": [
              "array([2, 1, 1, 1, 1, 2, 2, 1, 2, 2, 1, 2, 3, 2, 2, 3, 3, 1, 2, 1, 2, 1,\n",
              "       3, 2, 2, 1, 2, 3, 2, 1, 2, 2, 1, 1, 1, 1, 1, 2, 1, 1, 1, 1, 1, 1,\n",
              "       1, 2, 3, 3, 1, 2, 3, 1, 1, 1, 3, 2, 1, 1, 1, 2, 1, 2, 1, 1, 2, 2,\n",
              "       3, 1, 4, 2, 5, 2, 1, 1, 3, 3, 1, 2, 1, 1, 1, 1, 3, 3, 1, 1, 1, 2,\n",
              "       1, 3, 2, 2, 2, 2, 2, 2, 1, 2, 1, 1, 1, 2, 2, 1, 2, 2, 2, 1, 2, 2,\n",
              "       1, 2, 2, 1, 2, 3, 2, 4, 2, 1, 1, 2, 1, 1, 2, 3, 1, 2, 1, 1, 1, 1,\n",
              "       3, 1, 4, 2, 1, 1, 1, 3, 1, 1, 1, 2, 1, 1, 4, 1, 1, 1, 1, 2, 1, 2,\n",
              "       3, 3, 3, 2, 1, 1, 2, 2, 2, 3, 2, 2, 2, 2, 1, 1, 1, 2, 1, 1, 1, 1,\n",
              "       1, 1, 2, 2, 1, 2, 3, 2, 1, 1, 1, 1, 1, 1, 2, 1, 4, 1, 2, 3, 1, 2,\n",
              "       2, 2, 2, 2, 2, 2, 2, 2, 2, 1, 1, 1, 3, 2, 1, 1, 3, 1, 1, 2, 3, 1,\n",
              "       1, 2, 1, 3, 1, 4, 2, 3, 2, 2, 1, 2, 2, 2, 1, 1, 3, 2, 1, 1, 1, 5,\n",
              "       1, 3, 1, 2, 1, 1, 1, 1, 2, 1, 1, 1, 3, 3, 2, 1, 2, 1, 1])"
            ]
          },
          "metadata": {},
          "execution_count": 16
        }
      ]
    },
    {
      "cell_type": "markdown",
      "source": [
        "#**5.2 - Árvore de decisão**\n",
        "Uma árvore de decisão é um mapa dos possíveis resultados de uma série de escolhas relacionadas. Ela permite permite prever categorias discretas com base na comparção de elementos pré-selecionados nesse modelo( no caso as features de teste) e retorna uma classificação para essa predição. Foi aplicado esse modelo de teste ao projeto, que teve como retorno uma acurácia de 42%."
      ],
      "metadata": {
        "id": "3FVJqTiHRrnz"
      }
    },
    {
      "cell_type": "code",
      "source": [
        "from sklearn.model_selection import train_test_split\n",
        "from sklearn.tree import DecisionTreeClassifier\n",
        "from sklearn.tree import export_graphviz\n",
        "# Dividindo x e y\n",
        "\n",
        "# Dividindo dados para treino e dados para teste\n",
        "x_entrada2 = x_inter3[['tumor','nodulo','metastese', 'tempo_de_amamentacao', 'primeira_menstruacao',\n",
        "                       'fumante', 'alcolatra', 'grau_parentesco_1', 'grau_parentesco_2', 'grau_parentesco_3',\n",
        "                       'tipo_tumor', 'idade','benigno/maligno']].values\n",
        "y_saida2 = x_inter3['sobrevida'].values\n",
        "\n",
        "X_train, X_test, Y_train, Y_test = train_test_split(x_entrada2, y_saida2, \n",
        "                                                    test_size = 0.3, \n",
        "                                                    random_state = 42)\n",
        "# Treinando o modelo\n",
        "model = DecisionTreeClassifier(criterion='entropy', random_state = 42)\n",
        "\n",
        "model.fit(X_train,Y_train)\n",
        "# Fazendo as predições\n",
        "Y_pred = model.predict(X_test)\n"
      ],
      "metadata": {
        "id": "mzuyGpiDNfLW"
      },
      "execution_count": null,
      "outputs": []
    },
    {
      "cell_type": "code",
      "source": [
        "from sklearn.metrics import accuracy_score\n",
        "# accuracy_score(Y_test, Y_pred)\n",
        "\n",
        "accuracy_score(Y_test, Y_pred, normalize=True)"
      ],
      "metadata": {
        "colab": {
          "base_uri": "https://localhost:8080/"
        },
        "id": "XfOGI3PASppK",
        "outputId": "45f390ac-54c9-4b16-b48f-fd61f8ee6cfa"
      },
      "execution_count": null,
      "outputs": [
        {
          "output_type": "execute_result",
          "data": {
            "text/plain": [
              "0.421455938697318"
            ]
          },
          "metadata": {},
          "execution_count": 18
        }
      ]
    },
    {
      "cell_type": "markdown",
      "source": [
        "#**5.3 - KNN**"
      ],
      "metadata": {
        "id": "VDiqddQ5YLpM"
      }
    },
    {
      "cell_type": "markdown",
      "source": [
        "A ideia principal do KNN é determinar o rótulo de classificação de uma amostra baseado nas amostras vizinhas advindas de um conjunto de treinamento. Dessa forma, é possível predizer um resultado com base na comparação dos dados mais próximos e retorná-lo em forma de uma classificação. Esse modelo de teste foi aplicado ao projeto, e teve como resultado uma acurácia de 57%."
      ],
      "metadata": {
        "id": "HenkTewRh_8k"
      }
    },
    {
      "cell_type": "code",
      "source": [
        "#Convertendo os dados da tabela em 0 e 1 para melhor se ajustar nesse modelo de predição \n",
        "valor = tabela_final.follow_up_days.median()\n",
        "tabela_final['tempo_sobrevida'] = [\"1 \"if dias >= valor else \"0\"for dias in tabela_final[\"follow_up_days\"]]"
      ],
      "metadata": {
        "id": "CZocS_xhDOoF"
      },
      "execution_count": null,
      "outputs": []
    },
    {
      "cell_type": "code",
      "source": [
        "from sklearn.neighbors import KNeighborsClassifier\n",
        "from sklearn.metrics import recall_score, precision_score, f1_score\n",
        "\n",
        "knn = KNeighborsClassifier(n_neighbors=23)\n",
        "knn.fit( X_train, Y_train)\n",
        "\n",
        "print('Acc treino: ', knn.score(X_train, Y_train ))\n",
        "print('Acc teste: ', knn.score(X_test, Y_test.squeeze() ))"
      ],
      "metadata": {
        "colab": {
          "base_uri": "https://localhost:8080/"
        },
        "id": "2qY18cSJDuF3",
        "outputId": "4c44e70b-cde7-47a1-94a8-26105bba7049"
      },
      "execution_count": null,
      "outputs": [
        {
          "output_type": "stream",
          "name": "stdout",
          "text": [
            "Acc treino:  0.5763546798029556\n",
            "Acc teste:  0.47509578544061304\n"
          ]
        }
      ]
    },
    {
      "cell_type": "markdown",
      "source": [
        "#6.0 - Análise dos resultados\n",
        "\n",
        "Em um primeiro momento, foi decidido como parâmetro de avaliação de desempenho a acurácia dos modelos de aprendizagem de máquina, visto que essa métrica engloba todas possíveis variáveis de resultado, como os verdadeiros positivos, verdadeiros negativos, falsos positivos e falsos negativos.\n",
        "\n",
        "Dessa forma, com base nos resultados finais obtidos nos testes, conclui-se que o melhor método de aprendizagem de máquina para este projeto até o momento é o KNN, com uma acurácia de 57%.\n",
        "\n",
        "Esse valor indica que , dentre todos os resultados dos testes de predições, o número de valores verdadeiros positivos e negativos representam 57% do total, o que sugere uma revisão nos tratamentos dos dados de modo a eliminar os falsos positivos e negativos, responsáveis por abaixar essa porcentagem e diminuir a precisão e recall do modelo, o que consequentemente abaixam a acurácia de modo geral.\n",
        "\n",
        "Além disso, acredita-se que esse resultado possa ser ainda otimizado baseado em outros modelos de classificação mais sofisticados, como o svm, que deverá ser implementado futuramente visando buscar melhores resultados e métricas de comparação.\n",
        "\n"
      ],
      "metadata": {
        "id": "MpqpVdNUtQ7R"
      }
    }
  ]
}