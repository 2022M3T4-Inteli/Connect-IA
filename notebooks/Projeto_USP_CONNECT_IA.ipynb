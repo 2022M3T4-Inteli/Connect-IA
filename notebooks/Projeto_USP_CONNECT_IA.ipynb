{
  "nbformat": 4,
  "nbformat_minor": 0,
  "metadata": {
    "colab": {
      "name": "Projeto USP - CONNECT IA.ipynb",
      "provenance": [],
      "collapsed_sections": [
        "LBI519YKMq6O"
      ]
    },
    "kernelspec": {
      "name": "python3",
      "display_name": "Python 3"
    },
    "language_info": {
      "name": "python"
    }
  },
  "cells": [
    {
      "cell_type": "markdown",
      "source": [
        "\n",
        "#1.0 - Tabela Utilizada no Drive\n",
        "\n",
        "Estou utilizando a ultima tabela disponibilizada pela MEDICINA USP.<br>\n",
        "Nome da Tabela: NEW-BDIPMama-INTELI(1).csv"
      ],
      "metadata": {
        "id": "vka3AUA29fN7"
      }
    },
    {
      "cell_type": "code",
      "source": [
        "from google.colab import drive\n",
        "drive.mount('/content/drive')"
      ],
      "metadata": {
        "id": "CA0ZeXbq_7LQ",
        "colab": {
          "base_uri": "https://localhost:8080/"
        },
        "outputId": "b1840108-771d-4cfe-ce20-e685e447235c"
      },
      "execution_count": 14,
      "outputs": [
        {
          "output_type": "stream",
          "name": "stdout",
          "text": [
            "Drive already mounted at /content/drive; to attempt to forcibly remount, call drive.mount(\"/content/drive\", force_remount=True).\n"
          ]
        }
      ]
    },
    {
      "cell_type": "markdown",
      "source": [
        "# 1.1 - Buscando a tabela e importando as bibliotecas utilizadas\n",
        "Nomeei a tabela como tabela_completa"
      ],
      "metadata": {
        "id": "t1u1RC6fityW"
      }
    },
    {
      "cell_type": "code",
      "source": [
        "import pandas as pd\n",
        "tabela_completa = pd.read_csv ('/content/drive/MyDrive/DRIVE - USPMedicina/NEW-BDIPMamaV11-INTELI (1).csv',delimiter=\";\")"
      ],
      "metadata": {
        "id": "KBmxEnrztJQw",
        "colab": {
          "base_uri": "https://localhost:8080/"
        },
        "outputId": "63241759-6f12-4e02-ebf5-fd73678862b7"
      },
      "execution_count": 15,
      "outputs": [
        {
          "output_type": "stream",
          "name": "stderr",
          "text": [
            "/usr/local/lib/python3.7/dist-packages/IPython/core/interactiveshell.py:3326: DtypeWarning: Columns (22,24,25,75,76,77,78,89,90,91,92) have mixed types.Specify dtype option on import or set low_memory=False.\n",
            "  exec(code_obj, self.user_global_ns, self.user_ns)\n"
          ]
        }
      ]
    },
    {
      "cell_type": "code",
      "source": [
        "tabela_completa['redcap_repeat_instrument'].value_counts()"
      ],
      "metadata": {
        "colab": {
          "base_uri": "https://localhost:8080/"
        },
        "id": "B2gDI0JYQWyF",
        "outputId": "3c2fc042-c69c-46bf-fd26-e8dcbf8bc69f"
      },
      "execution_count": 24,
      "outputs": [
        {
          "output_type": "execute_result",
          "data": {
            "text/plain": [
              "dados_antropometricos          50137\n",
              "dados_histopatologicos_mama     4626\n",
              "registro_de_tumores             4525\n",
              "Name: redcap_repeat_instrument, dtype: int64"
            ]
          },
          "metadata": {},
          "execution_count": 24
        }
      ]
    },
    {
      "cell_type": "markdown",
      "source": [
        "# 2.0 - Observando os dados válidos\n",
        "Para cada coluna da tabela, consultamos com o value_counts(), afim de consultar a quantidade de dados nas colunas, sendo assim, há a consulta para uma primeira seleção da tabela.<br><br>\n",
        "Importante destacar que todas as colunas selecionadas até o momento tem mais de 1/3 dos registros válidos.\n",
        "O restante foi ignorado devido à ausência de registros significativos."
      ],
      "metadata": {
        "id": "y_ZEvvgb67V-"
      }
    },
    {
      "cell_type": "markdown",
      "source": [
        "# 3.0 - Premissas assumidas"
      ],
      "metadata": {
        "id": "sqKZV-Fn7Tsy"
      }
    },
    {
      "cell_type": "markdown",
      "source": [
        "Assumimos que todos os NaN acima do primeiro dado numérico significa que o dado não foi preenchido no cadastro do paciente, sendo assim, transformaremos este dado nulo em 0.0<br>\n",
        "Para não perder todos os dados da amostra foi preferível substituir os nulos (Nan) pelo número 0.0 até chegar o primeiro exposto na coluna, este foi replicado na coluna abaixo até encontrar o próximo valor válido, segundo orientações docente para o entendimento dos dados. A partir deste momento, lê-se a tabela da seguinte forma:<br>\n",
        "\n",
        "*   Caso observe uma coluna onde o primeiro dado é 0.0, significa que este é Nan.\n",
        "\n",
        "*   Caso encontre uma coluna onde o primeiro dado é 0, este dado é lido como Não."
      ],
      "metadata": {
        "id": "woTJlQP4ANGZ"
      }
    },
    {
      "cell_type": "markdown",
      "source": [
        "Optamos por renomear a tabela completa, que está no drive, para tabela tratada, a fim de conseguir fazer consultas na tabela completa ao longo do projeto, sem prejudicar a modelagem dos dados que ocorre simultaneamente.<br><br>\n",
        "\n",
        "Utilizamos o comando fillna para buscar na coluna um valor válido e repetir nos dados vazios que iriam se repetir normalmente para o mesmo record_id. Posteriormente,a fim de transformar as string dessa coluna em novas colunas com dados numéricos, especificamente, dados de afirmação (Sim) ou negação (Não), utilizamos o método dummies.\n",
        "\n",
        "Sendo assim, lê-se a tabela da seguinte forma:\n",
        "\n",
        "*   Caso observe uma coluna onde o primeiro dado é 0.0, significa que este é **Nan**;\n",
        "*   Caso observe uma coluna onde o primeiro dado é 0, significa que este é lido como **Não**;\n",
        "*   Caso Observe uma coluna onde o primeiro dado é 1, significa que este é lido como **Sim**;"
      ],
      "metadata": {
        "id": "wbIk8yTSgyv1"
      }
    },
    {
      "cell_type": "markdown",
      "source": [
        "Fizemos este comando para a coluna \"redcap_repeat_instrument\" visando replicar a coluna em três dados diferentes, pegando seus respectivos valores e transformando em colunas."
      ],
      "metadata": {
        "id": "7YYqBNCo4_1Y"
      }
    },
    {
      "cell_type": "code",
      "source": [
        "tabela_trat = tabela_completa.fillna(method='ffill').dropna(subset=['redcap_repeat_instrument']) #Utilizei o fillna com o método ffill para buscar o último valor válido e repetir na linha posterior.\n",
        "tabela_trat['redcap_repeat_instrument'].unique()\n",
        "\n",
        "tabela_tratada = pd.get_dummies(tabela_trat, columns=['redcap_repeat_instrument', 'antec_fam_cancer_mama']) #Utilizei o método get_dummies na coluna redcap_repeat_instrument para separar o conteúdo dela em novas colunas no final\n"
      ],
      "metadata": {
        "id": "OwKgQR2TtJNu"
      },
      "execution_count": 16,
      "outputs": []
    },
    {
      "cell_type": "markdown",
      "source": [
        "A saída esperada é a exclusão da coluna \"redcap_repeat_instrument\", e a criação de três novas colunas, respectivamente:\n",
        "* \"redcap_repeat_instrument_dados_antropometricos\";\n",
        "* \"redcap_repeat_instrument_dados_histopatologicos_mama\"; e \n",
        "* \"redcap_repeat_instrument_registro_de_tumores\".\n",
        "\n",
        "Sendo assim, indicando 1 e 0 nos registros do paciente.<br>\n",
        "\n",
        "Fiz o mesmo processo para a coluna \"antec_fam_cancer_mama\" que indica se há algum familiar com câncer ou não, buscando transformar as string \"Sim\" e \"Não\" em 0 e 1."
      ],
      "metadata": {
        "id": "xexVQULDkWk-"
      }
    },
    {
      "cell_type": "markdown",
      "source": [
        "Selecionamos as colunas que iremos utilizar, como retiramos as duplicatas com base "
      ],
      "metadata": {
        "id": "I3-_QqhWg52K"
      }
    },
    {
      "cell_type": "code",
      "source": [
        "ta_final = tabela_tratada[['record_id', 'ultinfo', 'breast_feeding_time', 'dob','tumor_subtype', 'antec_fam_cancer_mama_Não','antec_fam_cancer_mama_Sim', 'tempo_rep_hormo',\n",
        "                   'bmi', 'follow_up_days', 'menarche', 'tobaco','alcohol', 'date_last_fu','familial_degree___1','familial_degree___2','familial_degree___3', 'primary_diganosis',\n",
        "                   'benign','redcap_repeat_instrument_dados_antropometricos']]\n",
        "tabela_final = ta_final.fillna(0)\n",
        "tabela_final = tabela_final.drop_duplicates(subset='record_id', keep='last', ignore_index=True)"
      ],
      "metadata": {
        "id": "t3PHchCZgqYQ"
      },
      "execution_count": 17,
      "outputs": []
    },
    {
      "cell_type": "markdown",
      "source": [
        "# 4.0 - Transformando Colunas\n",
        "Foi necessário transformar a coluna data de nascimento (dob) em idade, visto que será mais fácil saber a idade da paciente quando gerarmos o modelo de predição.<br><br>\n",
        "A data de nascimento foi calculada até a última consulta do mesmo, e não até a data presente. Preferimos demonstrar desta forma devido a não existência da data de óbito no banco de dados, e também, por nos concentrarmos em encontrar a relação da sobrevida do paciente até a ultima consulta.\n",
        "<br><br>\n",
        "Abaixo o código que gera a idade a partir da data de nascimento."
      ],
      "metadata": {
        "id": "8AkWmqE3DsDS"
      }
    },
    {
      "cell_type": "code",
      "source": [
        "from datetime import datetime, date\n",
        "tabela_final['dob']\n",
        "def pegar_idade(nascimento, _date):\n",
        "  nascimento = datetime.strptime(nascimento,\"%d/%m/%Y\").date()\n",
        "  _date = datetime.strptime(_date,\"%d/%m/%Y\").date()\n",
        "  idade = _date.year - nascimento.year\n",
        "  if(nascimento.month == _date.month and nascimento.day >= _date.year):\n",
        "    idade = idade + 1\n",
        "  elif(nascimento.month > _date.month):\n",
        "    idade = idade + 1\n",
        "  return idade\n",
        "\n",
        "def convertDate(age):\n",
        "  return datetime.strptime(age,\"%d/%m/%Y\").date()\n",
        "tabela_final['dob'].apply(convertDate)\n",
        "tabela_final['date_last_fu'].apply(convertDate)\n",
        "tabela_final['idade'] = \"\"\n",
        "for ind in tabela_final.index:\n",
        "    tabela_final['idade'][ind] = pegar_idade(tabela_final['dob'][ind], tabela_final['date_last_fu'][ind])\n"
      ],
      "metadata": {
        "colab": {
          "base_uri": "https://localhost:8080/"
        },
        "id": "N1CeSeIUC3LD",
        "outputId": "a98d81b1-eeb8-4527-eb60-74c3a10e4663"
      },
      "execution_count": 25,
      "outputs": [
        {
          "output_type": "stream",
          "name": "stderr",
          "text": [
            "/usr/local/lib/python3.7/dist-packages/ipykernel_launcher.py:19: SettingWithCopyWarning: \n",
            "A value is trying to be set on a copy of a slice from a DataFrame\n",
            "\n",
            "See the caveats in the documentation: https://pandas.pydata.org/pandas-docs/stable/user_guide/indexing.html#returning-a-view-versus-a-copy\n"
          ]
        }
      ]
    },
    {
      "cell_type": "code",
      "source": [
        "tabela_final"
      ],
      "metadata": {
        "colab": {
          "base_uri": "https://localhost:8080/",
          "height": 487
        },
        "id": "6KO-tzkQEPG8",
        "outputId": "75c727bd-2ee6-4593-d99c-fa1f95f8ed6a"
      },
      "execution_count": 26,
      "outputs": [
        {
          "output_type": "execute_result",
          "data": {
            "text/plain": [
              "      record_id  ultinfo  breast_feeding_time         dob  tumor_subtype  \\\n",
              "0            54      2.0                  0.0  28/03/1948            2.0   \n",
              "1           302      4.0                  0.0  12/07/1956            3.0   \n",
              "2           710      2.0                  0.0  28/09/1949            2.0   \n",
              "3           752      2.0                  0.0  30/04/1951            3.0   \n",
              "4          1589      2.0                  0.0  09/05/1966            3.0   \n",
              "...         ...      ...                  ...         ...            ...   \n",
              "4129      82057      2.0                 84.0  11/06/1959            3.0   \n",
              "4130      82059      2.0                 84.0  11/06/1959            3.0   \n",
              "4131      82122      2.0                 84.0  11/06/1959            3.0   \n",
              "4132      82205      1.0                 84.0  11/06/1959            4.0   \n",
              "4133      82240      2.0                 84.0  11/06/1959            4.0   \n",
              "\n",
              "      antec_fam_cancer_mama_Não  antec_fam_cancer_mama_Sim  tempo_rep_hormo  \\\n",
              "0                             0                          0              0.0   \n",
              "1                             0                          0              0.0   \n",
              "2                             0                          0              0.0   \n",
              "3                             0                          0              0.0   \n",
              "4                             0                          0              0.0   \n",
              "...                         ...                        ...              ...   \n",
              "4129                          0                          1              1.0   \n",
              "4130                          0                          1              1.0   \n",
              "4131                          0                          1              1.0   \n",
              "4132                          0                          1              1.0   \n",
              "4133                          0                          1              1.0   \n",
              "\n",
              "       bmi  follow_up_days  ...  tobaco  alcohol  date_last_fu  \\\n",
              "0     29.0             0.0  ...     2.0      2.0    01/01/2021   \n",
              "1     25.2          2225.0  ...     2.0      2.0    26/04/2014   \n",
              "2     25.9          3294.0  ...     2.0      2.0    17/11/2016   \n",
              "3     35.1          4153.0  ...     2.0      2.0    02/05/2019   \n",
              "4     23.2          3290.0  ...     2.0      2.0    24/05/2017   \n",
              "...    ...             ...  ...     ...      ...           ...   \n",
              "4129  40.5           441.0  ...     2.0      2.0    03/04/2021   \n",
              "4130  28.6           351.0  ...     2.0      2.0    22/06/2021   \n",
              "4131  25.4           401.0  ...     2.0      2.0    11/08/2021   \n",
              "4132  41.0           337.0  ...     2.0      2.0    10/10/2021   \n",
              "4133  31.0           425.0  ...     2.0      2.0    13/05/2021   \n",
              "\n",
              "     familial_degree___1  familial_degree___2  familial_degree___3  \\\n",
              "0                    1.0                  0.0                  0.0   \n",
              "1                    0.0                  0.0                  0.0   \n",
              "2                    0.0                  0.0                  0.0   \n",
              "3                    0.0                  0.0                  0.0   \n",
              "4                    0.0                  0.0                  0.0   \n",
              "...                  ...                  ...                  ...   \n",
              "4129                 0.0                  0.0                  0.0   \n",
              "4130                 0.0                  0.0                  0.0   \n",
              "4131                 0.0                  0.0                  0.0   \n",
              "4132                 0.0                  0.0                  0.0   \n",
              "4133                 0.0                  0.0                  0.0   \n",
              "\n",
              "      primary_diganosis  benign  \\\n",
              "0                   2.0     2.0   \n",
              "1                   2.0     2.0   \n",
              "2                   2.0     2.0   \n",
              "3                   2.0     2.0   \n",
              "4                   2.0     2.0   \n",
              "...                 ...     ...   \n",
              "4129                2.0     2.0   \n",
              "4130                2.0     2.0   \n",
              "4131                2.0     2.0   \n",
              "4132                2.0     2.0   \n",
              "4133                2.0     2.0   \n",
              "\n",
              "      redcap_repeat_instrument_dados_antropometricos  idade  \n",
              "0                                                  1     74  \n",
              "1                                                  1     59  \n",
              "2                                                  1     67  \n",
              "3                                                  1     68  \n",
              "4                                                  1     51  \n",
              "...                                              ...    ...  \n",
              "4129                                               1     63  \n",
              "4130                                               1     62  \n",
              "4131                                               1     62  \n",
              "4132                                               1     62  \n",
              "4133                                               1     63  \n",
              "\n",
              "[4134 rows x 21 columns]"
            ],
            "text/html": [
              "\n",
              "  <div id=\"df-4cdbe1a7-f67b-4e5c-a984-460d449c8e86\">\n",
              "    <div class=\"colab-df-container\">\n",
              "      <div>\n",
              "<style scoped>\n",
              "    .dataframe tbody tr th:only-of-type {\n",
              "        vertical-align: middle;\n",
              "    }\n",
              "\n",
              "    .dataframe tbody tr th {\n",
              "        vertical-align: top;\n",
              "    }\n",
              "\n",
              "    .dataframe thead th {\n",
              "        text-align: right;\n",
              "    }\n",
              "</style>\n",
              "<table border=\"1\" class=\"dataframe\">\n",
              "  <thead>\n",
              "    <tr style=\"text-align: right;\">\n",
              "      <th></th>\n",
              "      <th>record_id</th>\n",
              "      <th>ultinfo</th>\n",
              "      <th>breast_feeding_time</th>\n",
              "      <th>dob</th>\n",
              "      <th>tumor_subtype</th>\n",
              "      <th>antec_fam_cancer_mama_Não</th>\n",
              "      <th>antec_fam_cancer_mama_Sim</th>\n",
              "      <th>tempo_rep_hormo</th>\n",
              "      <th>bmi</th>\n",
              "      <th>follow_up_days</th>\n",
              "      <th>...</th>\n",
              "      <th>tobaco</th>\n",
              "      <th>alcohol</th>\n",
              "      <th>date_last_fu</th>\n",
              "      <th>familial_degree___1</th>\n",
              "      <th>familial_degree___2</th>\n",
              "      <th>familial_degree___3</th>\n",
              "      <th>primary_diganosis</th>\n",
              "      <th>benign</th>\n",
              "      <th>redcap_repeat_instrument_dados_antropometricos</th>\n",
              "      <th>idade</th>\n",
              "    </tr>\n",
              "  </thead>\n",
              "  <tbody>\n",
              "    <tr>\n",
              "      <th>0</th>\n",
              "      <td>54</td>\n",
              "      <td>2.0</td>\n",
              "      <td>0.0</td>\n",
              "      <td>28/03/1948</td>\n",
              "      <td>2.0</td>\n",
              "      <td>0</td>\n",
              "      <td>0</td>\n",
              "      <td>0.0</td>\n",
              "      <td>29.0</td>\n",
              "      <td>0.0</td>\n",
              "      <td>...</td>\n",
              "      <td>2.0</td>\n",
              "      <td>2.0</td>\n",
              "      <td>01/01/2021</td>\n",
              "      <td>1.0</td>\n",
              "      <td>0.0</td>\n",
              "      <td>0.0</td>\n",
              "      <td>2.0</td>\n",
              "      <td>2.0</td>\n",
              "      <td>1</td>\n",
              "      <td>74</td>\n",
              "    </tr>\n",
              "    <tr>\n",
              "      <th>1</th>\n",
              "      <td>302</td>\n",
              "      <td>4.0</td>\n",
              "      <td>0.0</td>\n",
              "      <td>12/07/1956</td>\n",
              "      <td>3.0</td>\n",
              "      <td>0</td>\n",
              "      <td>0</td>\n",
              "      <td>0.0</td>\n",
              "      <td>25.2</td>\n",
              "      <td>2225.0</td>\n",
              "      <td>...</td>\n",
              "      <td>2.0</td>\n",
              "      <td>2.0</td>\n",
              "      <td>26/04/2014</td>\n",
              "      <td>0.0</td>\n",
              "      <td>0.0</td>\n",
              "      <td>0.0</td>\n",
              "      <td>2.0</td>\n",
              "      <td>2.0</td>\n",
              "      <td>1</td>\n",
              "      <td>59</td>\n",
              "    </tr>\n",
              "    <tr>\n",
              "      <th>2</th>\n",
              "      <td>710</td>\n",
              "      <td>2.0</td>\n",
              "      <td>0.0</td>\n",
              "      <td>28/09/1949</td>\n",
              "      <td>2.0</td>\n",
              "      <td>0</td>\n",
              "      <td>0</td>\n",
              "      <td>0.0</td>\n",
              "      <td>25.9</td>\n",
              "      <td>3294.0</td>\n",
              "      <td>...</td>\n",
              "      <td>2.0</td>\n",
              "      <td>2.0</td>\n",
              "      <td>17/11/2016</td>\n",
              "      <td>0.0</td>\n",
              "      <td>0.0</td>\n",
              "      <td>0.0</td>\n",
              "      <td>2.0</td>\n",
              "      <td>2.0</td>\n",
              "      <td>1</td>\n",
              "      <td>67</td>\n",
              "    </tr>\n",
              "    <tr>\n",
              "      <th>3</th>\n",
              "      <td>752</td>\n",
              "      <td>2.0</td>\n",
              "      <td>0.0</td>\n",
              "      <td>30/04/1951</td>\n",
              "      <td>3.0</td>\n",
              "      <td>0</td>\n",
              "      <td>0</td>\n",
              "      <td>0.0</td>\n",
              "      <td>35.1</td>\n",
              "      <td>4153.0</td>\n",
              "      <td>...</td>\n",
              "      <td>2.0</td>\n",
              "      <td>2.0</td>\n",
              "      <td>02/05/2019</td>\n",
              "      <td>0.0</td>\n",
              "      <td>0.0</td>\n",
              "      <td>0.0</td>\n",
              "      <td>2.0</td>\n",
              "      <td>2.0</td>\n",
              "      <td>1</td>\n",
              "      <td>68</td>\n",
              "    </tr>\n",
              "    <tr>\n",
              "      <th>4</th>\n",
              "      <td>1589</td>\n",
              "      <td>2.0</td>\n",
              "      <td>0.0</td>\n",
              "      <td>09/05/1966</td>\n",
              "      <td>3.0</td>\n",
              "      <td>0</td>\n",
              "      <td>0</td>\n",
              "      <td>0.0</td>\n",
              "      <td>23.2</td>\n",
              "      <td>3290.0</td>\n",
              "      <td>...</td>\n",
              "      <td>2.0</td>\n",
              "      <td>2.0</td>\n",
              "      <td>24/05/2017</td>\n",
              "      <td>0.0</td>\n",
              "      <td>0.0</td>\n",
              "      <td>0.0</td>\n",
              "      <td>2.0</td>\n",
              "      <td>2.0</td>\n",
              "      <td>1</td>\n",
              "      <td>51</td>\n",
              "    </tr>\n",
              "    <tr>\n",
              "      <th>...</th>\n",
              "      <td>...</td>\n",
              "      <td>...</td>\n",
              "      <td>...</td>\n",
              "      <td>...</td>\n",
              "      <td>...</td>\n",
              "      <td>...</td>\n",
              "      <td>...</td>\n",
              "      <td>...</td>\n",
              "      <td>...</td>\n",
              "      <td>...</td>\n",
              "      <td>...</td>\n",
              "      <td>...</td>\n",
              "      <td>...</td>\n",
              "      <td>...</td>\n",
              "      <td>...</td>\n",
              "      <td>...</td>\n",
              "      <td>...</td>\n",
              "      <td>...</td>\n",
              "      <td>...</td>\n",
              "      <td>...</td>\n",
              "      <td>...</td>\n",
              "    </tr>\n",
              "    <tr>\n",
              "      <th>4129</th>\n",
              "      <td>82057</td>\n",
              "      <td>2.0</td>\n",
              "      <td>84.0</td>\n",
              "      <td>11/06/1959</td>\n",
              "      <td>3.0</td>\n",
              "      <td>0</td>\n",
              "      <td>1</td>\n",
              "      <td>1.0</td>\n",
              "      <td>40.5</td>\n",
              "      <td>441.0</td>\n",
              "      <td>...</td>\n",
              "      <td>2.0</td>\n",
              "      <td>2.0</td>\n",
              "      <td>03/04/2021</td>\n",
              "      <td>0.0</td>\n",
              "      <td>0.0</td>\n",
              "      <td>0.0</td>\n",
              "      <td>2.0</td>\n",
              "      <td>2.0</td>\n",
              "      <td>1</td>\n",
              "      <td>63</td>\n",
              "    </tr>\n",
              "    <tr>\n",
              "      <th>4130</th>\n",
              "      <td>82059</td>\n",
              "      <td>2.0</td>\n",
              "      <td>84.0</td>\n",
              "      <td>11/06/1959</td>\n",
              "      <td>3.0</td>\n",
              "      <td>0</td>\n",
              "      <td>1</td>\n",
              "      <td>1.0</td>\n",
              "      <td>28.6</td>\n",
              "      <td>351.0</td>\n",
              "      <td>...</td>\n",
              "      <td>2.0</td>\n",
              "      <td>2.0</td>\n",
              "      <td>22/06/2021</td>\n",
              "      <td>0.0</td>\n",
              "      <td>0.0</td>\n",
              "      <td>0.0</td>\n",
              "      <td>2.0</td>\n",
              "      <td>2.0</td>\n",
              "      <td>1</td>\n",
              "      <td>62</td>\n",
              "    </tr>\n",
              "    <tr>\n",
              "      <th>4131</th>\n",
              "      <td>82122</td>\n",
              "      <td>2.0</td>\n",
              "      <td>84.0</td>\n",
              "      <td>11/06/1959</td>\n",
              "      <td>3.0</td>\n",
              "      <td>0</td>\n",
              "      <td>1</td>\n",
              "      <td>1.0</td>\n",
              "      <td>25.4</td>\n",
              "      <td>401.0</td>\n",
              "      <td>...</td>\n",
              "      <td>2.0</td>\n",
              "      <td>2.0</td>\n",
              "      <td>11/08/2021</td>\n",
              "      <td>0.0</td>\n",
              "      <td>0.0</td>\n",
              "      <td>0.0</td>\n",
              "      <td>2.0</td>\n",
              "      <td>2.0</td>\n",
              "      <td>1</td>\n",
              "      <td>62</td>\n",
              "    </tr>\n",
              "    <tr>\n",
              "      <th>4132</th>\n",
              "      <td>82205</td>\n",
              "      <td>1.0</td>\n",
              "      <td>84.0</td>\n",
              "      <td>11/06/1959</td>\n",
              "      <td>4.0</td>\n",
              "      <td>0</td>\n",
              "      <td>1</td>\n",
              "      <td>1.0</td>\n",
              "      <td>41.0</td>\n",
              "      <td>337.0</td>\n",
              "      <td>...</td>\n",
              "      <td>2.0</td>\n",
              "      <td>2.0</td>\n",
              "      <td>10/10/2021</td>\n",
              "      <td>0.0</td>\n",
              "      <td>0.0</td>\n",
              "      <td>0.0</td>\n",
              "      <td>2.0</td>\n",
              "      <td>2.0</td>\n",
              "      <td>1</td>\n",
              "      <td>62</td>\n",
              "    </tr>\n",
              "    <tr>\n",
              "      <th>4133</th>\n",
              "      <td>82240</td>\n",
              "      <td>2.0</td>\n",
              "      <td>84.0</td>\n",
              "      <td>11/06/1959</td>\n",
              "      <td>4.0</td>\n",
              "      <td>0</td>\n",
              "      <td>1</td>\n",
              "      <td>1.0</td>\n",
              "      <td>31.0</td>\n",
              "      <td>425.0</td>\n",
              "      <td>...</td>\n",
              "      <td>2.0</td>\n",
              "      <td>2.0</td>\n",
              "      <td>13/05/2021</td>\n",
              "      <td>0.0</td>\n",
              "      <td>0.0</td>\n",
              "      <td>0.0</td>\n",
              "      <td>2.0</td>\n",
              "      <td>2.0</td>\n",
              "      <td>1</td>\n",
              "      <td>63</td>\n",
              "    </tr>\n",
              "  </tbody>\n",
              "</table>\n",
              "<p>4134 rows × 21 columns</p>\n",
              "</div>\n",
              "      <button class=\"colab-df-convert\" onclick=\"convertToInteractive('df-4cdbe1a7-f67b-4e5c-a984-460d449c8e86')\"\n",
              "              title=\"Convert this dataframe to an interactive table.\"\n",
              "              style=\"display:none;\">\n",
              "        \n",
              "  <svg xmlns=\"http://www.w3.org/2000/svg\" height=\"24px\"viewBox=\"0 0 24 24\"\n",
              "       width=\"24px\">\n",
              "    <path d=\"M0 0h24v24H0V0z\" fill=\"none\"/>\n",
              "    <path d=\"M18.56 5.44l.94 2.06.94-2.06 2.06-.94-2.06-.94-.94-2.06-.94 2.06-2.06.94zm-11 1L8.5 8.5l.94-2.06 2.06-.94-2.06-.94L8.5 2.5l-.94 2.06-2.06.94zm10 10l.94 2.06.94-2.06 2.06-.94-2.06-.94-.94-2.06-.94 2.06-2.06.94z\"/><path d=\"M17.41 7.96l-1.37-1.37c-.4-.4-.92-.59-1.43-.59-.52 0-1.04.2-1.43.59L10.3 9.45l-7.72 7.72c-.78.78-.78 2.05 0 2.83L4 21.41c.39.39.9.59 1.41.59.51 0 1.02-.2 1.41-.59l7.78-7.78 2.81-2.81c.8-.78.8-2.07 0-2.86zM5.41 20L4 18.59l7.72-7.72 1.47 1.35L5.41 20z\"/>\n",
              "  </svg>\n",
              "      </button>\n",
              "      \n",
              "  <style>\n",
              "    .colab-df-container {\n",
              "      display:flex;\n",
              "      flex-wrap:wrap;\n",
              "      gap: 12px;\n",
              "    }\n",
              "\n",
              "    .colab-df-convert {\n",
              "      background-color: #E8F0FE;\n",
              "      border: none;\n",
              "      border-radius: 50%;\n",
              "      cursor: pointer;\n",
              "      display: none;\n",
              "      fill: #1967D2;\n",
              "      height: 32px;\n",
              "      padding: 0 0 0 0;\n",
              "      width: 32px;\n",
              "    }\n",
              "\n",
              "    .colab-df-convert:hover {\n",
              "      background-color: #E2EBFA;\n",
              "      box-shadow: 0px 1px 2px rgba(60, 64, 67, 0.3), 0px 1px 3px 1px rgba(60, 64, 67, 0.15);\n",
              "      fill: #174EA6;\n",
              "    }\n",
              "\n",
              "    [theme=dark] .colab-df-convert {\n",
              "      background-color: #3B4455;\n",
              "      fill: #D2E3FC;\n",
              "    }\n",
              "\n",
              "    [theme=dark] .colab-df-convert:hover {\n",
              "      background-color: #434B5C;\n",
              "      box-shadow: 0px 1px 3px 1px rgba(0, 0, 0, 0.15);\n",
              "      filter: drop-shadow(0px 1px 2px rgba(0, 0, 0, 0.3));\n",
              "      fill: #FFFFFF;\n",
              "    }\n",
              "  </style>\n",
              "\n",
              "      <script>\n",
              "        const buttonEl =\n",
              "          document.querySelector('#df-4cdbe1a7-f67b-4e5c-a984-460d449c8e86 button.colab-df-convert');\n",
              "        buttonEl.style.display =\n",
              "          google.colab.kernel.accessAllowed ? 'block' : 'none';\n",
              "\n",
              "        async function convertToInteractive(key) {\n",
              "          const element = document.querySelector('#df-4cdbe1a7-f67b-4e5c-a984-460d449c8e86');\n",
              "          const dataTable =\n",
              "            await google.colab.kernel.invokeFunction('convertToInteractive',\n",
              "                                                     [key], {});\n",
              "          if (!dataTable) return;\n",
              "\n",
              "          const docLinkHtml = 'Like what you see? Visit the ' +\n",
              "            '<a target=\"_blank\" href=https://colab.research.google.com/notebooks/data_table.ipynb>data table notebook</a>'\n",
              "            + ' to learn more about interactive tables.';\n",
              "          element.innerHTML = '';\n",
              "          dataTable['output_type'] = 'display_data';\n",
              "          await google.colab.output.renderOutput(dataTable, element);\n",
              "          const docLink = document.createElement('div');\n",
              "          docLink.innerHTML = docLinkHtml;\n",
              "          element.appendChild(docLink);\n",
              "        }\n",
              "      </script>\n",
              "    </div>\n",
              "  </div>\n",
              "  "
            ]
          },
          "metadata": {},
          "execution_count": 26
        }
      ]
    }
  ]
}