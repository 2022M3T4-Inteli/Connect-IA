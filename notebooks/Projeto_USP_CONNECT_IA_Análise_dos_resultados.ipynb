{
  "nbformat": 4,
  "nbformat_minor": 0,
  "metadata": {
    "colab": {
      "provenance": [],
      "toc_visible": true
    },
    "kernelspec": {
      "name": "python3",
      "display_name": "Python 3"
    },
    "language_info": {
      "name": "python"
    }
  },
  "cells": [
    {
      "cell_type": "markdown",
      "source": [
        "# 1.0 - importando bibliotecas e tabela utilizadas"
      ],
      "metadata": {
        "id": "0E-bqXMmiMBU"
      }
    },
    {
      "cell_type": "code",
      "execution_count": 1,
      "metadata": {
        "id": "6bZyqlmK6Az0"
      },
      "outputs": [],
      "source": [
        "import pandas as pd\n",
        "import seaborn as sns\n",
        "from sklearn.metrics import mean_squared_error, mean_absolute_error, r2_score\n",
        "from sklearn.model_selection import train_test_split\n",
        "from sklearn.model_selection import RandomizedSearchCV\n",
        "from sklearn.naive_bayes import GaussianNB\n",
        "from sklearn.tree import DecisionTreeClassifier\n",
        "from sklearn import metrics\n",
        "import matplotlib.pyplot as plt\n",
        "from sklearn.metrics import plot_confusion_matrix\n",
        "from sklearn.tree import plot_tree\n",
        "import matplotlib.pyplot as plt\n",
        "from sklearn import neighbors\n",
        "from sklearn.metrics import classification_report\n",
        "from sklearn.svm import SVC\n",
        "from sklearn.neighbors import KNeighborsClassifier\n",
        "from sklearn.ensemble import RandomForestClassifier\n",
        "from sklearn.tree import DecisionTreeClassifier\n",
        "from sklearn.metrics import precision_score, recall_score, f1_score, accuracy_score, roc_auc_score, plot_confusion_matrix\n",
        "import numpy as np\n",
        "import imblearn as imb"
      ]
    },
    {
      "cell_type": "code",
      "source": [
        "from google_drive_downloader import GoogleDriveDownloader as gdd\n",
        "\n",
        "data_google_id = '1oQFORyLutSSA_NqokmH7E1Gpt3fZjON2'\n",
        "gdd.download_file_from_google_drive(file_id=data_google_id, \n",
        "                                    dest_path = './tabela_tratada.csv', \n",
        "                                    showsize = True)\n",
        "\n",
        "tabela_tratada = pd.read_csv(\"tabela_tratada.csv\")"
      ],
      "metadata": {
        "id": "x33UuWw96O10",
        "colab": {
          "base_uri": "https://localhost:8080/"
        },
        "outputId": "1a7baca7-fbf6-4295-c59e-78920189ab5c"
      },
      "execution_count": 2,
      "outputs": [
        {
          "output_type": "stream",
          "name": "stdout",
          "text": [
            "Downloading 1oQFORyLutSSA_NqokmH7E1Gpt3fZjON2 into ./tabela_tratada.csv... \n",
            "256.0 KiB Done.\n"
          ]
        }
      ]
    },
    {
      "cell_type": "code",
      "source": [
        "#separando os dados:\n",
        "x_entrada = tabela_tratada[['tumor','nodulo','metastese', 'tempo_de_amamentacao',\n",
        "                         'fumante', 'alcolatra','primeira_menstruacao',\n",
        "                       'grau_parentesco_1','grau_parentesco_2', 'grau_parentesco_3',\n",
        "                       'tipo_tumor', 'idade','ultinfo_1','ultinfo_2','ultinfo_3','ultinfo_4',\n",
        "                       'subtipo_tumoral']].values\n",
        "                       \n",
        "y_saida = tabela_tratada['class_sobrevida'].values\n",
        "\n",
        "X_train, X_test, Y_train, Y_test = train_test_split(x_entrada, y_saida, \n",
        "                                                    test_size = 0.3, \n",
        "                                                    random_state = 42)"
      ],
      "metadata": {
        "id": "KrrD2QnBILsZ"
      },
      "execution_count": 3,
      "outputs": []
    },
    {
      "cell_type": "markdown",
      "source": [
        "#2.0 - Testando o Modelo Preditivo#"
      ],
      "metadata": {
        "id": "rm7Vedi7iTy5"
      }
    },
    {
      "cell_type": "markdown",
      "source": [
        "##**2.1 - Árvore de decisão**"
      ],
      "metadata": {
        "id": "Q0f0YiTlH27i"
      }
    },
    {
      "cell_type": "markdown",
      "source": [
        "Utilizamos a árvore decisão pois gostaríamos de saber o resultados das séries escolhidas.<br><br>\n",
        "\n",
        "Uma árvore de decisão é um mapa dos possíveis resultados de uma série de escolhas relacionadas. Ela permite prever categorias discretas com base na comparção de elementos pré-selecionados nesse modelo( no caso as features de teste) e retorna uma classificação para essa predição."
      ],
      "metadata": {
        "id": "QtKh2r-5H6Jt"
      }
    },
    {
      "cell_type": "markdown",
      "source": [
        "### 2.1.1 - Arvore de decisão sem hiper-parâmetros"
      ],
      "metadata": {
        "id": "SZNZ15JYH92R"
      }
    },
    {
      "cell_type": "markdown",
      "source": [
        "Em um primeiro momento, foi decidido testar o modelo classificatório sem o uso de hiper-parâmetros, visando observar como os nossos dados tratados interferem no módelo sem qualquer influência de manipulação."
      ],
      "metadata": {
        "id": "h87z_rgUIBCE"
      }
    },
    {
      "cell_type": "code",
      "source": [
        "# # Treinando o modelo\n",
        "model_tree = DecisionTreeClassifier(criterion='entropy', random_state = 42)\n",
        "\n",
        "model_tree.fit(X_train,Y_train)\n",
        "\n",
        "# Fazendo as predições\n",
        "Y_pred_tree = model_tree.predict(X_test)"
      ],
      "metadata": {
        "id": "4MO2BH4zIFvr"
      },
      "execution_count": 4,
      "outputs": []
    },
    {
      "cell_type": "code",
      "source": [
        "print('Acc treino: ', model_tree.score(X_train, Y_train ))\n",
        "print('Acc teste: ', model_tree.score(X_test, Y_test.squeeze() ))\n",
        "print('Revocação:',recall_score(Y_test,Y_pred_tree,average=None))\n",
        "print('Precisão:',precision_score(Y_test,Y_pred_tree,average=None))\n",
        "print('F1_score:',precision_score(Y_test,Y_pred_tree,average=None))"
      ],
      "metadata": {
        "colab": {
          "base_uri": "https://localhost:8080/"
        },
        "id": "YbbWWeKyIIPt",
        "outputId": "08012548-6521-46ae-b60d-d7f5a937e56a"
      },
      "execution_count": 5,
      "outputs": [
        {
          "output_type": "stream",
          "name": "stdout",
          "text": [
            "Acc treino:  0.9913584514344971\n",
            "Acc teste:  0.5431103948428686\n",
            "Revocação: [0.55896226 0.6097561  0.39690722 0.20408163]\n",
            "Precisão: [0.5361991  0.6294964  0.385      0.23255814]\n",
            "F1_score: [0.5361991  0.6294964  0.385      0.23255814]\n"
          ]
        }
      ]
    },
    {
      "cell_type": "code",
      "source": [
        "print('Decision Tree')\n",
        "plot_confusion_matrix(model_tree, X_test, Y_test)  \n",
        "plt.show()"
      ],
      "metadata": {
        "colab": {
          "base_uri": "https://localhost:8080/",
          "height": 355
        },
        "id": "l7qCO3IuIVeM",
        "outputId": "5d7ea0a1-9a50-4497-f681-c1f20458df97"
      },
      "execution_count": 6,
      "outputs": [
        {
          "output_type": "stream",
          "name": "stdout",
          "text": [
            "Decision Tree\n"
          ]
        },
        {
          "output_type": "stream",
          "name": "stderr",
          "text": [
            "/usr/local/lib/python3.7/dist-packages/sklearn/utils/deprecation.py:87: FutureWarning: Function plot_confusion_matrix is deprecated; Function `plot_confusion_matrix` is deprecated in 1.0 and will be removed in 1.2. Use one of the class methods: ConfusionMatrixDisplay.from_predictions or ConfusionMatrixDisplay.from_estimator.\n",
            "  warnings.warn(msg, category=FutureWarning)\n"
          ]
        },
        {
          "output_type": "display_data",
          "data": {
            "text/plain": [
              "<Figure size 432x288 with 2 Axes>"
            ],
            "image/png": "[encoded data removed]"
          },
          "metadata": {
            "needs_background": "light"
          }
        }
      ]
    },
    {
      "cell_type": "markdown",
      "source": [
        "Como pôde ser percebido,o modelo sem o uso de qualquer hiper parâmetro possui uma acurácia de teste de 45% , indicando uma forte taxa de erro do modelo em cima de predições falso negativas e positivas, visto que a quantidade de desses tipos de erros é inversamente proporcional à pontuação da acurácia."
      ],
      "metadata": {
        "id": "uvJ9sEZxIXMA"
      }
    },
    {
      "cell_type": "markdown",
      "source": [
        "### 2.1.2-Arvore de decisão com hiper-parâmetro (Grid Search)"
      ],
      "metadata": {
        "id": "yPrWWJ-kIbIp"
      }
    },
    {
      "cell_type": "markdown",
      "source": [
        "Visando buscar melhores resultados para a Árvore de Decisão, foi utilizado a ferramenta de busca de hiper-parâmetros Grid Search, que realiza vários testes com base nos hiper-parâmetros pré-selecionados e retorna o melhor resultado dentre todas essas repetições do modelo."
      ],
      "metadata": {
        "id": "dwPc2pBVIeU3"
      }
    },
    {
      "cell_type": "markdown",
      "source": [
        "Dessa forma, decidimos usar testar diferentes valores e características para os seguintes parâmetros:<br><br>\n",
        "\n",
        "**Criterion**: função utilizada para a qualidade de uma divisão. Os critérios suportados são “gini” para a impureza Gini e “log_loss” e “entropia” ambos para o ganho de informação de Shannon, que diz que a quantidade de informação de um evento A depende apenas da probabilidade p(A) desse evento, e é tanto maior quanto menor for a probabilidade.\n",
        "\n",
        "**Splitter**:estratégia utilizada para escolher a divisão em cada nó. As estratégias suportadas são “best” para escolher a melhor divisão e “random” para escolher a melhor divisão aleatória.\n",
        "\n",
        "**Max_depth**:representa a profundidade máxima da árvores.Se Nenhum, os nós são expandidos até que todas as folhas sejam puras ou até que todas as folhas contenham menos que o número mínimo de amostras."
      ],
      "metadata": {
        "id": "dKIseQLqIhFu"
      }
    },
    {
      "cell_type": "markdown",
      "source": [
        "A seguir, é possível visualizar o código resposnsável pelos testes com os diferentes parâmetros, seguido de sua respectiva pontuação:"
      ],
      "metadata": {
        "id": "w0q6ndzjKlDx"
      }
    },
    {
      "cell_type": "code",
      "source": [
        "from sklearn.model_selection import GridSearchCV\n",
        "# Cria o GridSearchCV\n",
        "\n",
        "parameters_tree = {\n",
        "    'criterion':['gini', 'entropy', 'log_loss'],\n",
        "    'splitter':['best', 'random”'],\n",
        "    'max_depth':range(2,16,2)\n",
        "}\n",
        "grid_tree= GridSearchCV(DecisionTreeClassifier(), parameters_tree)\n",
        "# Treina os modelos e guarda na variável modelGS o melhor modelo\n",
        "grid_tree.fit(X_train, Y_train)\n",
        "\n",
        "modelGS_tree = grid_tree.best_estimator_\n",
        "\n",
        "y_pred_tree = modelGS_tree.predict(X_test)\n",
        "\n",
        "accuracy = accuracy_score(Y_test, Y_pred_tree)"
      ],
      "metadata": {
        "colab": {
          "base_uri": "https://localhost:8080/"
        },
        "id": "uXSpa1fdJTJ9",
        "outputId": "7ddb83c7-3de7-4371-b956-4f4f13893975"
      },
      "execution_count": 7,
      "outputs": [
        {
          "output_type": "stream",
          "name": "stderr",
          "text": [
            "/usr/local/lib/python3.7/dist-packages/sklearn/model_selection/_validation.py:372: FitFailedWarning: \n",
            "140 fits failed out of a total of 210.\n",
            "The score on these train-test partitions for these parameters will be set to nan.\n",
            "If these failures are not expected, you can try to debug them by setting error_score='raise'.\n",
            "\n",
            "Below are more details about the failures:\n",
            "--------------------------------------------------------------------------------\n",
            "70 fits failed with the following error:\n",
            "Traceback (most recent call last):\n",
            "  File \"/usr/local/lib/python3.7/dist-packages/sklearn/model_selection/_validation.py\", line 680, in _fit_and_score\n",
            "    estimator.fit(X_train, y_train, **fit_params)\n",
            "  File \"/usr/local/lib/python3.7/dist-packages/sklearn/tree/_classes.py\", line 942, in fit\n",
            "    X_idx_sorted=X_idx_sorted,\n",
            "  File \"/usr/local/lib/python3.7/dist-packages/sklearn/tree/_classes.py\", line 381, in fit\n",
            "    splitter = SPLITTERS[self.splitter](\n",
            "KeyError: 'random”'\n",
            "\n",
            "--------------------------------------------------------------------------------\n",
            "70 fits failed with the following error:\n",
            "Traceback (most recent call last):\n",
            "  File \"/usr/local/lib/python3.7/dist-packages/sklearn/model_selection/_validation.py\", line 680, in _fit_and_score\n",
            "    estimator.fit(X_train, y_train, **fit_params)\n",
            "  File \"/usr/local/lib/python3.7/dist-packages/sklearn/tree/_classes.py\", line 942, in fit\n",
            "    X_idx_sorted=X_idx_sorted,\n",
            "  File \"/usr/local/lib/python3.7/dist-packages/sklearn/tree/_classes.py\", line 352, in fit\n",
            "    criterion = CRITERIA_CLF[self.criterion](\n",
            "KeyError: 'log_loss'\n",
            "\n",
            "  warnings.warn(some_fits_failed_message, FitFailedWarning)\n",
            "/usr/local/lib/python3.7/dist-packages/sklearn/model_selection/_search.py:972: UserWarning: One or more of the test scores are non-finite: [0.61561635        nan 0.65571173        nan 0.64118783        nan\n",
            " 0.62218597        nan 0.60144086        nan 0.59349792        nan\n",
            " 0.57552097        nan 0.61561635        nan 0.6550185         nan\n",
            " 0.65155829        nan 0.62494756        nan 0.60524948        nan\n",
            " 0.5962607         nan 0.56687524        nan        nan        nan\n",
            "        nan        nan        nan        nan        nan        nan\n",
            "        nan        nan        nan        nan        nan        nan]\n",
            "  category=UserWarning,\n"
          ]
        }
      ]
    },
    {
      "cell_type": "code",
      "source": [
        "print(grid_tree.best_score_)\n",
        "print(grid_tree.best_params_)"
      ],
      "metadata": {
        "colab": {
          "base_uri": "https://localhost:8080/"
        },
        "id": "RV7v4jilKvXR",
        "outputId": "269ee177-d315-4693-cef0-d3137032c451"
      },
      "execution_count": 8,
      "outputs": [
        {
          "output_type": "stream",
          "name": "stdout",
          "text": [
            "0.6557117330321339\n",
            "{'criterion': 'gini', 'max_depth': 4, 'splitter': 'best'}\n"
          ]
        }
      ]
    },
    {
      "cell_type": "code",
      "source": [
        "print('Acc treino:',modelGS_tree.score(X_train,Y_train))\n",
        "print('Acc teste:',accuracy_score(Y_test,y_pred_tree.squeeze()))\n",
        "print('Revocação:',recall_score(Y_test,y_pred_tree,average=None))\n",
        "print('Precisão:',precision_score(Y_test,y_pred_tree,average=None))\n",
        "print('F1_score:',f1_score(Y_test,y_pred_tree,average=None))"
      ],
      "metadata": {
        "colab": {
          "base_uri": "https://localhost:8080/"
        },
        "id": "gydMx6zNK5bd",
        "outputId": "989887ae-2afc-4726-c1fa-05b7b0e366e4"
      },
      "execution_count": 9,
      "outputs": [
        {
          "output_type": "stream",
          "name": "stdout",
          "text": [
            "Acc treino: 0.6657449014863464\n",
            "Acc teste: 0.6438356164383562\n",
            "Revocação: [0.75       0.60627178 0.68556701 0.        ]\n",
            "Precisão: [0.63220676 0.79271071 0.44481605 0.        ]\n",
            "F1_score: [0.68608414 0.68706811 0.53955375 0.        ]\n"
          ]
        },
        {
          "output_type": "stream",
          "name": "stderr",
          "text": [
            "/usr/local/lib/python3.7/dist-packages/sklearn/metrics/_classification.py:1318: UndefinedMetricWarning: Precision is ill-defined and being set to 0.0 in labels with no predicted samples. Use `zero_division` parameter to control this behavior.\n",
            "  _warn_prf(average, modifier, msg_start, len(result))\n"
          ]
        }
      ]
    },
    {
      "cell_type": "code",
      "source": [
        "print('Decision Tree')\n",
        "plot_confusion_matrix(modelGS_tree, X_test, Y_test, cmap='Blues', values_format='.0f');"
      ],
      "metadata": {
        "colab": {
          "base_uri": "https://localhost:8080/",
          "height": 351
        },
        "id": "l8sQkgMzK_ck",
        "outputId": "b024d7d8-5998-4e35-810b-8d68c1426023"
      },
      "execution_count": 10,
      "outputs": [
        {
          "output_type": "stream",
          "name": "stderr",
          "text": [
            "/usr/local/lib/python3.7/dist-packages/sklearn/utils/deprecation.py:87: FutureWarning: Function plot_confusion_matrix is deprecated; Function `plot_confusion_matrix` is deprecated in 1.0 and will be removed in 1.2. Use one of the class methods: ConfusionMatrixDisplay.from_predictions or ConfusionMatrixDisplay.from_estimator.\n",
            "  warnings.warn(msg, category=FutureWarning)\n"
          ]
        },
        {
          "output_type": "stream",
          "name": "stdout",
          "text": [
            "Decision Tree\n"
          ]
        },
        {
          "output_type": "display_data",
          "data": {
            "text/plain": [
              "<Figure size 432x288 with 2 Axes>"
            ],
            "image/png": "[encoded data removed]"
          },
          "metadata": {
            "needs_background": "light"
          }
        }
      ]
    },
    {
      "cell_type": "markdown",
      "source": [
        "Como pôde ser visualizado, utilizando dos melhores hiper-parâmetros para o modelo segundo o Grid Search, a acurácia teve um aumento de 17% em relação ao modelo anterior e, visto o aumento da pontuação do recall, que é fortemente influenciado pela quantidade de falsos negativos, acredita-se que esse tipo de dado tenha diminuído de um modelo para  outro."
      ],
      "metadata": {
        "id": "xkiWxyt6LDK2"
      }
    },
    {
      "cell_type": "markdown",
      "source": [
        "###2.1.3 -Arvore de decisão com hiper-parâmetro( Randomized Search)"
      ],
      "metadata": {
        "id": "gnG5vnYgLIg5"
      }
    },
    {
      "cell_type": "markdown",
      "source": [
        "Buscando ainda analisar outros modelos de busca de hiper-parâmetros para servir de comparação com os resultados obtidos, foi o utilizado também o Randomized Search para a busca dos melhores hiper-parâmetros.\n",
        "\n",
        "Dessa forma, decidimos testar diferentes valores e características para os mesmos parâmetros mencionados acima, utilizando o código a seguir responsável por selecionar os parâmetros para teste e aplicar no modelo :<br><br>\n",
        "\n"
      ],
      "metadata": {
        "id": "KPLyDatWLLYA"
      }
    },
    {
      "cell_type": "code",
      "source": [
        "parametros_tree = {\n",
        "    'criterion':['gini', 'entropy', 'log_loss'],\n",
        "    'splitter':['best', 'random”'],\n",
        "    'max_depth':range(2,16,2)\n",
        "}\n",
        "randomized_search_tree = RandomizedSearchCV(estimator = DecisionTreeClassifier(),param_distributions=parametros_tree)\n",
        "randomized_search_tree.fit(X_train,Y_train.squeeze())\n",
        "\n",
        "modelRS_tree= randomized_search_tree.best_estimator_\n",
        "\n",
        "y_predRS_tree = modelRS_tree.predict(X_test)\n",
        "\n",
        "accuracy = accuracy_score(Y_test, y_predRS_tree)"
      ],
      "metadata": {
        "colab": {
          "base_uri": "https://localhost:8080/"
        },
        "id": "6ugQWLkPLadC",
        "outputId": "11707cad-7d91-4724-d0e7-191cdfd41157"
      },
      "execution_count": 11,
      "outputs": [
        {
          "output_type": "stream",
          "name": "stderr",
          "text": [
            "/usr/local/lib/python3.7/dist-packages/sklearn/model_selection/_validation.py:372: FitFailedWarning: \n",
            "30 fits failed out of a total of 50.\n",
            "The score on these train-test partitions for these parameters will be set to nan.\n",
            "If these failures are not expected, you can try to debug them by setting error_score='raise'.\n",
            "\n",
            "Below are more details about the failures:\n",
            "--------------------------------------------------------------------------------\n",
            "20 fits failed with the following error:\n",
            "Traceback (most recent call last):\n",
            "  File \"/usr/local/lib/python3.7/dist-packages/sklearn/model_selection/_validation.py\", line 680, in _fit_and_score\n",
            "    estimator.fit(X_train, y_train, **fit_params)\n",
            "  File \"/usr/local/lib/python3.7/dist-packages/sklearn/tree/_classes.py\", line 942, in fit\n",
            "    X_idx_sorted=X_idx_sorted,\n",
            "  File \"/usr/local/lib/python3.7/dist-packages/sklearn/tree/_classes.py\", line 352, in fit\n",
            "    criterion = CRITERIA_CLF[self.criterion](\n",
            "KeyError: 'log_loss'\n",
            "\n",
            "--------------------------------------------------------------------------------\n",
            "10 fits failed with the following error:\n",
            "Traceback (most recent call last):\n",
            "  File \"/usr/local/lib/python3.7/dist-packages/sklearn/model_selection/_validation.py\", line 680, in _fit_and_score\n",
            "    estimator.fit(X_train, y_train, **fit_params)\n",
            "  File \"/usr/local/lib/python3.7/dist-packages/sklearn/tree/_classes.py\", line 942, in fit\n",
            "    X_idx_sorted=X_idx_sorted,\n",
            "  File \"/usr/local/lib/python3.7/dist-packages/sklearn/tree/_classes.py\", line 381, in fit\n",
            "    splitter = SPLITTERS[self.splitter](\n",
            "KeyError: 'random”'\n",
            "\n",
            "  warnings.warn(some_fits_failed_message, FitFailedWarning)\n",
            "/usr/local/lib/python3.7/dist-packages/sklearn/model_selection/_search.py:972: UserWarning: One or more of the test scores are non-finite: [       nan 0.60386181        nan 0.62253079 0.57033485        nan\n",
            "        nan 0.60835828        nan        nan]\n",
            "  category=UserWarning,\n"
          ]
        }
      ]
    },
    {
      "cell_type": "code",
      "source": [
        "print(randomized_search_tree.best_score_)\n",
        "print(randomized_search_tree.best_params_)"
      ],
      "metadata": {
        "colab": {
          "base_uri": "https://localhost:8080/"
        },
        "id": "BV9TzrExLdR4",
        "outputId": "701535ab-a767-4972-81d5-a35b0a446894"
      },
      "execution_count": 12,
      "outputs": [
        {
          "output_type": "stream",
          "name": "stdout",
          "text": [
            "0.6225307922620434\n",
            "{'splitter': 'best', 'max_depth': 8, 'criterion': 'gini'}\n"
          ]
        }
      ]
    },
    {
      "cell_type": "code",
      "source": [
        "print('Acc treino:',modelRS_tree.score(X_train,Y_train))\n",
        "print('Acc teste:',modelRS_tree.score(X_test,y_predRS_tree.squeeze()))\n",
        "print('Revocação:',recall_score(Y_test,y_predRS_tree,average=None))\n",
        "print('Precisão:',precision_score(Y_test,y_predRS_tree,average=None))\n",
        "print('F1_score:',precision_score(Y_test,y_predRS_tree,average=None))"
      ],
      "metadata": {
        "colab": {
          "base_uri": "https://localhost:8080/"
        },
        "id": "f2Kk7qSuLfIe",
        "outputId": "806b1ef7-930e-4bc7-86d9-8ee23ec80cf3"
      },
      "execution_count": 13,
      "outputs": [
        {
          "output_type": "stream",
          "name": "stdout",
          "text": [
            "Acc treino: 0.717594192879364\n",
            "Acc teste: 1.0\n",
            "Revocação: [0.67924528 0.62369338 0.63917526 0.        ]\n",
            "Precisão: [0.61146497 0.73360656 0.44604317 0.        ]\n",
            "F1_score: [0.61146497 0.73360656 0.44604317 0.        ]\n"
          ]
        }
      ]
    },
    {
      "cell_type": "code",
      "source": [
        "print('Decision Tree')\n",
        "plot_confusion_matrix(modelRS_tree, X_test, Y_test, cmap='Blues', values_format='.0f');"
      ],
      "metadata": {
        "colab": {
          "base_uri": "https://localhost:8080/",
          "height": 351
        },
        "id": "91yO2a5sLhE-",
        "outputId": "01fe0581-71bc-4e1d-b8cd-f0930a0c1f73"
      },
      "execution_count": 14,
      "outputs": [
        {
          "output_type": "stream",
          "name": "stderr",
          "text": [
            "/usr/local/lib/python3.7/dist-packages/sklearn/utils/deprecation.py:87: FutureWarning: Function plot_confusion_matrix is deprecated; Function `plot_confusion_matrix` is deprecated in 1.0 and will be removed in 1.2. Use one of the class methods: ConfusionMatrixDisplay.from_predictions or ConfusionMatrixDisplay.from_estimator.\n",
            "  warnings.warn(msg, category=FutureWarning)\n"
          ]
        },
        {
          "output_type": "stream",
          "name": "stdout",
          "text": [
            "Decision Tree\n"
          ]
        },
        {
          "output_type": "display_data",
          "data": {
            "text/plain": [
              "<Figure size 432x288 with 2 Axes>"
            ],
            "image/png": "[encoded data removed]"
          },
          "metadata": {
            "needs_background": "light"
          }
        }
      ]
    },
    {
      "cell_type": "markdown",
      "source": [
        "Como pôde ser visualizado, utilizando os melhores hiper-parâmetros segundo o Randomized Search, o modelo teve um aumento de acurácia surpreendente para 100% , mas que não foi acompanhado com um aumento das outras métricas, indicando a presença de uma forte feature agindo como um elemento viciante para o modelo."
      ],
      "metadata": {
        "id": "zmEksrjTLjCW"
      }
    },
    {
      "cell_type": "markdown",
      "source": [
        "#3.0 - Análise dos resultados"
      ],
      "metadata": {
        "id": "U5rKynS-Hydr"
      }
    },
    {
      "cell_type": "markdown",
      "source": [
        "Em um primeiro momento, foi decidido como parâmetro de avaliação de desempenho a acurácia dos modelos de aprendizagem de máquina, visto que essa métrica engloba todas possíveis variáveis de resultado, como os verdadeiros positivos, verdadeiros negativos, falsos positivos e falsos negativos.\n",
        "\n",
        "Dessa forma, com base nos resultados finais obtidos nos testes, conclui-se que o melhor método de aprendizagem de máquina para este projeto até o momento é a Árvore de decisão , com uma acurácia de 64% utilizando as métricas do Grid Search .\n",
        "\n",
        "Apesar de não ser o ideal, muito pontos foram melhorados para chegar em tal resultado, acreditamos fielmente que a Árvore de Decisão foi o melhor modelo de classificação para o nosso problema e ela possa ser utilizada de forma mais ampla para auxiliar na predição do tempo de sobrevida de cada paciente com Câncer de Mama.\n",
        "\n",
        "Esse valor indica que , dentre todos os resultados dos testes de predições, o número de valores verdadeiros positivos e negativos para os modelos representam 62% do total, o que sugere uma revisão no tratamentos dos dados de modo a eliminar os falsos positivos e negativos, responsáveis por abaixar essa porcentagem e diminuir a precisão e recall do modelo, o que consequentemente abaixam a acurácia de modo geral.\n",
        "\n",
        "Ademais, vale ressaltar que foram desconsiderados os resultados de acurácia dos modelos cujo resultado foi igual a 100% sem que esse valor fosse compatível com as outras métricas, indicando o possível vício de treinamento e fortes ruídos em uma ou mais features durante a limpeza e manipulação dos dados.\n",
        "\n",
        "Em suma, recomenda-se que seja realizada uma revisão no processo de feature engeneering para buscar otimizar ainda mais o resultados para assertividade do modelo, além de avaliar os pesos que cada coluna possui sobre a classificação de cada modelo de treinamento de modo a buscar e eliminar possíveis dados viciantes."
      ],
      "metadata": {
        "id": "JL9wKe-UQ5L7"
      }
    },
    {
      "cell_type": "markdown",
      "source": [
        "#4.0 - Conclusão"
      ],
      "metadata": {
        "id": "19sU6JJuReCf"
      }
    },
    {
      "cell_type": "markdown",
      "source": [
        "Acreditamos que o tratamento e escolha das features pode ser feito de diversas maneiras, e destacamos que selecionamos uma estratégia de escolha e que o nosso modelo caminha nesta direção de predição. É viável reestruturar a base de dados e rodar novamente as linhas de código para fazer o mesmo tipo de tratamento, apenas mudando o caminho da tabela tratada, isso possivelmente gerará uma melhor acurácia dos modelos, desde que a solução da predição seja a predição do tempo de sobrevida, isso porque em todos os modelos testados os dados plotados já estão encaminhados para o tempo de sobrevida, o filtro de dias em 1, 2, 3 e 4  e o filtro de cores seguem essa regra de negócio.\n",
        "Juntamente com nosso código, salientamos que este modelo não é uma solução de substituição da mão-de-obra de qualquer funcionário desta ou de outra instituição. Ressaltamos que nosso modelo preditivo tem o foco em aprimorar o trabalho destas pessoas e não substituí-las, tal visto que, além de ser um projeto de Machine Learning, este projeto é um “humanizador de máquinas”, ou seja, não são apenas números que o modelo prediz, mas ele prediz a esperança de dias melhores para cada paciente que é o foco do nosso projeto. Por fim,  este modelo pode e deve ser utilizado e ampliado de forma abrangente para predizer o tempo de sobrevida do paciente com câncer de mama.\n"
      ],
      "metadata": {
        "id": "FhxwSM57Rh_u"
      }
    },
    {
      "cell_type": "markdown",
      "source": [
        "#5.0 - Criando filtro de cor"
      ],
      "metadata": {
        "id": "UgVun5VBJ0Vy"
      }
    },
    {
      "cell_type": "markdown",
      "source": [
        "Após a análise dos resultados obtidos e escolha do modelo de classificação que mais se adequa ao projeto de predição do tempo de sobrevida desenvolvido pelo grupo, foi decido montar um breve programa de demonstração da aplicação do modelo preditivo."
      ],
      "metadata": {
        "id": "Mhg7sZn0TZd8"
      }
    },
    {
      "cell_type": "markdown",
      "source": [
        "Dessa forma, foi criado um programa que, após receber valores para os mesmos dados utilizados para o treinamento do modelo, retorna uma classificação em forma de cores que indicam o grau de risco do paciente com base em sua sobrevida predita pela máquina.Sendo assim, obtem-se como resposta a cor verde para representar pacientes com alto índice de sobrevida( quartil 4), laranja prara médio tempod de sobrevida( quartis 2 e 3) e vermelho para baixo tempo de sobrevida( quartil 1)"
      ],
      "metadata": {
        "id": "6HQ4alU9UAID"
      }
    },
    {
      "cell_type": "markdown",
      "source": [
        "Nas células de códigdo a seguir é possível visualizar o código utilizado para a criação desse modelo, bem como uma aplicação de seu funcionamento com base em dados estipulados apenas para exemplificação e visualização do resultado obtido."
      ],
      "metadata": {
        "id": "chwAmi8jWm2t"
      }
    },
    {
      "cell_type": "code",
      "source": [
        "#Dados com MÉDIO tempo de sobrevida, ou seja, resultado = 2\n",
        "tumor = 4\n",
        "nodulo = 1\n",
        "metastese = 0\n",
        "tempo_de_amamentacao = 4\n",
        "fumante = 1\n",
        "alcolatra = 1\n",
        "primeira_menstruacao = 0\n",
        "grau_parentesco_1 = 0\n",
        "grau_parentesco_2 = 0\n",
        "grau_parentesco_3 = 0\n",
        "tipo_tumor = 4\n",
        "idade = 74\n",
        "ultinfo_1 = 1\n",
        "ultinfo_2 = 0\n",
        "ultinfo_3 = 0\n",
        "ultinfo_4 = 0\n",
        "subtipo_tumoral = 1"
      ],
      "metadata": {
        "id": "prPmU-5YJ-W-"
      },
      "execution_count": 15,
      "outputs": []
    },
    {
      "cell_type": "code",
      "source": [
        "import numpy as np\n",
        "import cv2\n",
        "from google.colab.patches import cv2_imshow\n",
        "\n",
        "features = np.array([[tumor, nodulo,\tmetastese,\ttempo_de_amamentacao,\tfumante,\talcolatra,\tprimeira_menstruacao,\n",
        "                      grau_parentesco_1,\tgrau_parentesco_2, grau_parentesco_3,\ttipo_tumor,\tidade, ultinfo_1,\n",
        "                      ultinfo_2, ultinfo_3, ultinfo_4, subtipo_tumoral]])\n",
        "prediction = modelRS_tree.predict(features)\n",
        "prediction"
      ],
      "metadata": {
        "colab": {
          "base_uri": "https://localhost:8080/"
        },
        "id": "V78uYJy-KEjQ",
        "outputId": "247beaca-adce-4618-affe-04002800baec"
      },
      "execution_count": 16,
      "outputs": [
        {
          "output_type": "execute_result",
          "data": {
            "text/plain": [
              "array([2])"
            ]
          },
          "metadata": {},
          "execution_count": 16
        }
      ]
    },
    {
      "cell_type": "code",
      "source": [
        "if prediction == 1:\n",
        "  # # Criando uma imagem preta para servir de fundo\n",
        "  img = np.zeros((225, 380, 3), dtype = \"uint8\")\n",
        "  \n",
        "  # Criando um retângulo vermelho\n",
        "  cv2.rectangle(img, (30, 30), (350, 200), (0, 0, 255), -1)\n",
        "    \n",
        "  cv2_imshow(img)\n",
        "  print('')\n",
        "  text = 'Pouco tempo de sobrevida.'\n",
        "  text = text.center(47, ' ')\n",
        "  print(text)\n",
        "\n",
        "elif prediction == 2:\n",
        "  # Criando uma imagem preta para servir de fundo\n",
        "  img = np.zeros((225, 380, 3), dtype = \"uint8\")\n",
        "  \n",
        "  # Criando um retângulo vermelho\n",
        "  cv2.rectangle(img, (30, 30), (350, 200), (0, 100, 255), -1)\n",
        "    \n",
        "  cv2_imshow(img)\n",
        "  print('')\n",
        "  text = 'Médio tempo de sobrevida.'\n",
        "  text = text.center(47, ' ')\n",
        "  print(text)\n",
        "\n",
        "elif prediction == 3:\n",
        "  # Criando uma imagem preta para servir de fundo\n",
        "  img = np.zeros((225, 380, 3), dtype = \"uint8\")\n",
        "  \n",
        "  # Criando um retângulo vermelho\n",
        "  cv2.rectangle(img, (30, 30), (350, 200), (0, 100, 255), -1)\n",
        "    \n",
        "  cv2_imshow(img)\n",
        "  print('')\n",
        "  text = 'Médio tempo de sobrevida.'\n",
        "  text = text.center(47, ' ')\n",
        "  print(text)\n",
        "\n",
        "else:\n",
        "  # Criando uma imagem preta para servir de fundo\n",
        "  img = np.zeros((220, 380, 3), dtype = \"uint8\")\n",
        "  \n",
        "  # Criando um retângulo verde\n",
        "  cv2.rectangle(img, (20, 20), (350, 200), (0, 255, 0), -1)\n",
        "    \n",
        "  cv2_imshow(img)\n",
        "  print('')\n",
        "  text = 'Alto tempo de sobrevida'\n",
        "  text = text.center(47, ' ')\n",
        "  print(text)"
      ],
      "metadata": {
        "colab": {
          "base_uri": "https://localhost:8080/",
          "height": 277
        },
        "id": "tK1ATbwbKFnw",
        "outputId": "4004e5ee-d50a-4c30-91fc-4b517d3ad41c"
      },
      "execution_count": 17,
      "outputs": [
        {
          "output_type": "display_data",
          "data": {
            "text/plain": [
              "<PIL.Image.Image image mode=RGB size=380x225 at 0x7F3DA5497D50>"
            ],
            "image/png": "[encoded data removed]"
          },
          "metadata": {}
        },
        {
          "output_type": "stream",
          "name": "stdout",
          "text": [
            "\n",
            "           Médio tempo de sobrevida.           \n"
          ]
        }
      ]
    }
  ]
}