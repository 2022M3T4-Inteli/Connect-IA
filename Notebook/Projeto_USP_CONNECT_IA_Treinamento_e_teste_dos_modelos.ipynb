{
  "nbformat": 4,
  "nbformat_minor": 0,
  "metadata": {
    "colab": {
      "provenance": [],
      "collapsed_sections": [],
      "toc_visible": true
    },
    "kernelspec": {
      "name": "python3",
      "display_name": "Python 3"
    },
    "language_info": {
      "name": "python"
    }
  },
  "cells": [
    {
      "cell_type": "markdown",
      "source": [
        "# 1.0 - importando bibliotecas e tabela utilizadas"
      ],
      "metadata": {
        "id": "XeilUI4edkkg"
      }
    },
    {
      "cell_type": "code",
      "source": [
        "import pandas as pd\n",
        "import seaborn as sns\n",
        "from sklearn.metrics import mean_squared_error, mean_absolute_error, r2_score\n",
        "from sklearn.model_selection import train_test_split\n",
        "from sklearn.model_selection import RandomizedSearchCV\n",
        "from sklearn.naive_bayes import GaussianNB\n",
        "from sklearn.tree import DecisionTreeClassifier\n",
        "from sklearn import metrics\n",
        "import matplotlib.pyplot as plt\n",
        "from sklearn.metrics import plot_confusion_matrix\n",
        "from sklearn.tree import plot_tree\n",
        "import matplotlib.pyplot as plt\n",
        "from sklearn import neighbors\n",
        "from sklearn.metrics import classification_report\n",
        "from sklearn.svm import SVC\n",
        "from sklearn.neighbors import KNeighborsClassifier\n",
        "from sklearn.ensemble import RandomForestClassifier\n",
        "from sklearn.tree import DecisionTreeClassifier\n",
        "from sklearn.metrics import precision_score, recall_score, f1_score, accuracy_score, roc_auc_score, plot_confusion_matrix\n",
        "import numpy as np\n",
        "import imblearn as imb"
      ],
      "metadata": {
        "id": "eefhUQN2MiHB"
      },
      "execution_count": 1,
      "outputs": []
    },
    {
      "cell_type": "code",
      "source": [
        "#importando tabela já tratada\n",
        "from google_drive_downloader import GoogleDriveDownloader as gdd\n",
        "\n",
        "data_google_id = '1oQFORyLutSSA_NqokmH7E1Gpt3fZjON2'\n",
        "gdd.download_file_from_google_drive(file_id=data_google_id, \n",
        "                                    dest_path = './tabela_tratada.csv', \n",
        "                                    showsize = True)\n",
        "\n",
        "tabela_tratada = pd.read_csv(\"tabela_tratada.csv\")"
      ],
      "metadata": {
        "colab": {
          "base_uri": "https://localhost:8080/"
        },
        "id": "fM_IslaOIaDU",
        "outputId": "7cddea90-657b-498f-ad77-cc8f5dfb8b86"
      },
      "execution_count": 2,
      "outputs": [
        {
          "output_type": "stream",
          "name": "stdout",
          "text": [
            "Downloading 1oQFORyLutSSA_NqokmH7E1Gpt3fZjON2 into ./tabela_tratada.csv... \n",
            "256.0 KiB Done.\n"
          ]
        }
      ]
    },
    {
      "cell_type": "code",
      "source": [
        "tabela_tratada"
      ],
      "metadata": {
        "colab": {
          "base_uri": "https://localhost:8080/",
          "height": 488
        },
        "id": "_zp2u6klJnR3",
        "outputId": "82746100-447f-44c6-b80b-7ee78935ada0"
      },
      "execution_count": 3,
      "outputs": [
        {
          "output_type": "execute_result",
          "data": {
            "text/plain": [
              "      pacientes  tumor  nodulo  metastese  ultinfo_1  ultinfo_2  ultinfo_3  \\\n",
              "0            54     99      99         99          0          1          0   \n",
              "1           302      2       0          0          0          0          0   \n",
              "2           710      3       1          0          0          1          0   \n",
              "3           752      2       0          0          0          1          0   \n",
              "4          1589      2       1          0          0          1          0   \n",
              "...         ...    ...     ...        ...        ...        ...        ...   \n",
              "4129      82057     42       1          0          0          1          0   \n",
              "4130      82059     42       2          0          0          1          0   \n",
              "4131      82122      2       0          0          0          1          0   \n",
              "4132      82205     44       1          1          1          0          0   \n",
              "4133      82240      2      31          0          0          1          0   \n",
              "\n",
              "      ultinfo_4  tempo_de_amamentacao  subtipo_tumoral  ...  \\\n",
              "0             0                    -1                2  ...   \n",
              "1             1                    -1                3  ...   \n",
              "2             0                    -1                2  ...   \n",
              "3             0                    -1                3  ...   \n",
              "4             0                    -1                3  ...   \n",
              "...         ...                   ...              ...  ...   \n",
              "4129          0                    84                3  ...   \n",
              "4130          0                    84                3  ...   \n",
              "4131          0                    84                3  ...   \n",
              "4132          0                    84                4  ...   \n",
              "4133          0                    84                4  ...   \n",
              "\n",
              "      primeira_menstruacao  fumante  alcolatra  grau_parentesco_1  \\\n",
              "0                       -1        2          2                  1   \n",
              "1                       -1        2          2                  0   \n",
              "2                       -1        2          2                  0   \n",
              "3                       -1        2          2                  0   \n",
              "4                       -1        2          2                  0   \n",
              "...                    ...      ...        ...                ...   \n",
              "4129                    11        2          2                  0   \n",
              "4130                    11        2          2                  0   \n",
              "4131                    11        2          2                  0   \n",
              "4132                    11        2          2                  0   \n",
              "4133                    11        2          2                  0   \n",
              "\n",
              "      grau_parentesco_2  grau_parentesco_3  tipo_tumor  benigno/maligno  \\\n",
              "0                     0                  0           2                2   \n",
              "1                     0                  0           2                2   \n",
              "2                     0                  0           2                2   \n",
              "3                     0                  0           2                2   \n",
              "4                     0                  0           2                2   \n",
              "...                 ...                ...         ...              ...   \n",
              "4129                  0                  0           2                2   \n",
              "4130                  0                  0           2                2   \n",
              "4131                  0                  0           2                2   \n",
              "4132                  0                  0           2                2   \n",
              "4133                  0                  0           2                2   \n",
              "\n",
              "      idade  class_sobrevida  \n",
              "0        74                4  \n",
              "1        59                2  \n",
              "2        67                3  \n",
              "3        68                4  \n",
              "4        51                3  \n",
              "...     ...              ...  \n",
              "4129     63                1  \n",
              "4130     62                1  \n",
              "4131     62                1  \n",
              "4132     62                1  \n",
              "4133     63                1  \n",
              "\n",
              "[4134 rows x 25 columns]"
            ],
            "text/html": [
              "\n",
              "  <div id=\"df-35794978-a410-46aa-a80d-538195e01cdf\">\n",
              "    <div class=\"colab-df-container\">\n",
              "      <div>\n",
              "<style scoped>\n",
              "    .dataframe tbody tr th:only-of-type {\n",
              "        vertical-align: middle;\n",
              "    }\n",
              "\n",
              "    .dataframe tbody tr th {\n",
              "        vertical-align: top;\n",
              "    }\n",
              "\n",
              "    .dataframe thead th {\n",
              "        text-align: right;\n",
              "    }\n",
              "</style>\n",
              "<table border=\"1\" class=\"dataframe\">\n",
              "  <thead>\n",
              "    <tr style=\"text-align: right;\">\n",
              "      <th></th>\n",
              "      <th>pacientes</th>\n",
              "      <th>tumor</th>\n",
              "      <th>nodulo</th>\n",
              "      <th>metastese</th>\n",
              "      <th>ultinfo_1</th>\n",
              "      <th>ultinfo_2</th>\n",
              "      <th>ultinfo_3</th>\n",
              "      <th>ultinfo_4</th>\n",
              "      <th>tempo_de_amamentacao</th>\n",
              "      <th>subtipo_tumoral</th>\n",
              "      <th>...</th>\n",
              "      <th>primeira_menstruacao</th>\n",
              "      <th>fumante</th>\n",
              "      <th>alcolatra</th>\n",
              "      <th>grau_parentesco_1</th>\n",
              "      <th>grau_parentesco_2</th>\n",
              "      <th>grau_parentesco_3</th>\n",
              "      <th>tipo_tumor</th>\n",
              "      <th>benigno/maligno</th>\n",
              "      <th>idade</th>\n",
              "      <th>class_sobrevida</th>\n",
              "    </tr>\n",
              "  </thead>\n",
              "  <tbody>\n",
              "    <tr>\n",
              "      <th>0</th>\n",
              "      <td>54</td>\n",
              "      <td>99</td>\n",
              "      <td>99</td>\n",
              "      <td>99</td>\n",
              "      <td>0</td>\n",
              "      <td>1</td>\n",
              "      <td>0</td>\n",
              "      <td>0</td>\n",
              "      <td>-1</td>\n",
              "      <td>2</td>\n",
              "      <td>...</td>\n",
              "      <td>-1</td>\n",
              "      <td>2</td>\n",
              "      <td>2</td>\n",
              "      <td>1</td>\n",
              "      <td>0</td>\n",
              "      <td>0</td>\n",
              "      <td>2</td>\n",
              "      <td>2</td>\n",
              "      <td>74</td>\n",
              "      <td>4</td>\n",
              "    </tr>\n",
              "    <tr>\n",
              "      <th>1</th>\n",
              "      <td>302</td>\n",
              "      <td>2</td>\n",
              "      <td>0</td>\n",
              "      <td>0</td>\n",
              "      <td>0</td>\n",
              "      <td>0</td>\n",
              "      <td>0</td>\n",
              "      <td>1</td>\n",
              "      <td>-1</td>\n",
              "      <td>3</td>\n",
              "      <td>...</td>\n",
              "      <td>-1</td>\n",
              "      <td>2</td>\n",
              "      <td>2</td>\n",
              "      <td>0</td>\n",
              "      <td>0</td>\n",
              "      <td>0</td>\n",
              "      <td>2</td>\n",
              "      <td>2</td>\n",
              "      <td>59</td>\n",
              "      <td>2</td>\n",
              "    </tr>\n",
              "    <tr>\n",
              "      <th>2</th>\n",
              "      <td>710</td>\n",
              "      <td>3</td>\n",
              "      <td>1</td>\n",
              "      <td>0</td>\n",
              "      <td>0</td>\n",
              "      <td>1</td>\n",
              "      <td>0</td>\n",
              "      <td>0</td>\n",
              "      <td>-1</td>\n",
              "      <td>2</td>\n",
              "      <td>...</td>\n",
              "      <td>-1</td>\n",
              "      <td>2</td>\n",
              "      <td>2</td>\n",
              "      <td>0</td>\n",
              "      <td>0</td>\n",
              "      <td>0</td>\n",
              "      <td>2</td>\n",
              "      <td>2</td>\n",
              "      <td>67</td>\n",
              "      <td>3</td>\n",
              "    </tr>\n",
              "    <tr>\n",
              "      <th>3</th>\n",
              "      <td>752</td>\n",
              "      <td>2</td>\n",
              "      <td>0</td>\n",
              "      <td>0</td>\n",
              "      <td>0</td>\n",
              "      <td>1</td>\n",
              "      <td>0</td>\n",
              "      <td>0</td>\n",
              "      <td>-1</td>\n",
              "      <td>3</td>\n",
              "      <td>...</td>\n",
              "      <td>-1</td>\n",
              "      <td>2</td>\n",
              "      <td>2</td>\n",
              "      <td>0</td>\n",
              "      <td>0</td>\n",
              "      <td>0</td>\n",
              "      <td>2</td>\n",
              "      <td>2</td>\n",
              "      <td>68</td>\n",
              "      <td>4</td>\n",
              "    </tr>\n",
              "    <tr>\n",
              "      <th>4</th>\n",
              "      <td>1589</td>\n",
              "      <td>2</td>\n",
              "      <td>1</td>\n",
              "      <td>0</td>\n",
              "      <td>0</td>\n",
              "      <td>1</td>\n",
              "      <td>0</td>\n",
              "      <td>0</td>\n",
              "      <td>-1</td>\n",
              "      <td>3</td>\n",
              "      <td>...</td>\n",
              "      <td>-1</td>\n",
              "      <td>2</td>\n",
              "      <td>2</td>\n",
              "      <td>0</td>\n",
              "      <td>0</td>\n",
              "      <td>0</td>\n",
              "      <td>2</td>\n",
              "      <td>2</td>\n",
              "      <td>51</td>\n",
              "      <td>3</td>\n",
              "    </tr>\n",
              "    <tr>\n",
              "      <th>...</th>\n",
              "      <td>...</td>\n",
              "      <td>...</td>\n",
              "      <td>...</td>\n",
              "      <td>...</td>\n",
              "      <td>...</td>\n",
              "      <td>...</td>\n",
              "      <td>...</td>\n",
              "      <td>...</td>\n",
              "      <td>...</td>\n",
              "      <td>...</td>\n",
              "      <td>...</td>\n",
              "      <td>...</td>\n",
              "      <td>...</td>\n",
              "      <td>...</td>\n",
              "      <td>...</td>\n",
              "      <td>...</td>\n",
              "      <td>...</td>\n",
              "      <td>...</td>\n",
              "      <td>...</td>\n",
              "      <td>...</td>\n",
              "      <td>...</td>\n",
              "    </tr>\n",
              "    <tr>\n",
              "      <th>4129</th>\n",
              "      <td>82057</td>\n",
              "      <td>42</td>\n",
              "      <td>1</td>\n",
              "      <td>0</td>\n",
              "      <td>0</td>\n",
              "      <td>1</td>\n",
              "      <td>0</td>\n",
              "      <td>0</td>\n",
              "      <td>84</td>\n",
              "      <td>3</td>\n",
              "      <td>...</td>\n",
              "      <td>11</td>\n",
              "      <td>2</td>\n",
              "      <td>2</td>\n",
              "      <td>0</td>\n",
              "      <td>0</td>\n",
              "      <td>0</td>\n",
              "      <td>2</td>\n",
              "      <td>2</td>\n",
              "      <td>63</td>\n",
              "      <td>1</td>\n",
              "    </tr>\n",
              "    <tr>\n",
              "      <th>4130</th>\n",
              "      <td>82059</td>\n",
              "      <td>42</td>\n",
              "      <td>2</td>\n",
              "      <td>0</td>\n",
              "      <td>0</td>\n",
              "      <td>1</td>\n",
              "      <td>0</td>\n",
              "      <td>0</td>\n",
              "      <td>84</td>\n",
              "      <td>3</td>\n",
              "      <td>...</td>\n",
              "      <td>11</td>\n",
              "      <td>2</td>\n",
              "      <td>2</td>\n",
              "      <td>0</td>\n",
              "      <td>0</td>\n",
              "      <td>0</td>\n",
              "      <td>2</td>\n",
              "      <td>2</td>\n",
              "      <td>62</td>\n",
              "      <td>1</td>\n",
              "    </tr>\n",
              "    <tr>\n",
              "      <th>4131</th>\n",
              "      <td>82122</td>\n",
              "      <td>2</td>\n",
              "      <td>0</td>\n",
              "      <td>0</td>\n",
              "      <td>0</td>\n",
              "      <td>1</td>\n",
              "      <td>0</td>\n",
              "      <td>0</td>\n",
              "      <td>84</td>\n",
              "      <td>3</td>\n",
              "      <td>...</td>\n",
              "      <td>11</td>\n",
              "      <td>2</td>\n",
              "      <td>2</td>\n",
              "      <td>0</td>\n",
              "      <td>0</td>\n",
              "      <td>0</td>\n",
              "      <td>2</td>\n",
              "      <td>2</td>\n",
              "      <td>62</td>\n",
              "      <td>1</td>\n",
              "    </tr>\n",
              "    <tr>\n",
              "      <th>4132</th>\n",
              "      <td>82205</td>\n",
              "      <td>44</td>\n",
              "      <td>1</td>\n",
              "      <td>1</td>\n",
              "      <td>1</td>\n",
              "      <td>0</td>\n",
              "      <td>0</td>\n",
              "      <td>0</td>\n",
              "      <td>84</td>\n",
              "      <td>4</td>\n",
              "      <td>...</td>\n",
              "      <td>11</td>\n",
              "      <td>2</td>\n",
              "      <td>2</td>\n",
              "      <td>0</td>\n",
              "      <td>0</td>\n",
              "      <td>0</td>\n",
              "      <td>2</td>\n",
              "      <td>2</td>\n",
              "      <td>62</td>\n",
              "      <td>1</td>\n",
              "    </tr>\n",
              "    <tr>\n",
              "      <th>4133</th>\n",
              "      <td>82240</td>\n",
              "      <td>2</td>\n",
              "      <td>31</td>\n",
              "      <td>0</td>\n",
              "      <td>0</td>\n",
              "      <td>1</td>\n",
              "      <td>0</td>\n",
              "      <td>0</td>\n",
              "      <td>84</td>\n",
              "      <td>4</td>\n",
              "      <td>...</td>\n",
              "      <td>11</td>\n",
              "      <td>2</td>\n",
              "      <td>2</td>\n",
              "      <td>0</td>\n",
              "      <td>0</td>\n",
              "      <td>0</td>\n",
              "      <td>2</td>\n",
              "      <td>2</td>\n",
              "      <td>63</td>\n",
              "      <td>1</td>\n",
              "    </tr>\n",
              "  </tbody>\n",
              "</table>\n",
              "<p>4134 rows × 25 columns</p>\n",
              "</div>\n",
              "      <button class=\"colab-df-convert\" onclick=\"convertToInteractive('df-35794978-a410-46aa-a80d-538195e01cdf')\"\n",
              "              title=\"Convert this dataframe to an interactive table.\"\n",
              "              style=\"display:none;\">\n",
              "        \n",
              "  <svg xmlns=\"http://www.w3.org/2000/svg\" height=\"24px\"viewBox=\"0 0 24 24\"\n",
              "       width=\"24px\">\n",
              "    <path d=\"M0 0h24v24H0V0z\" fill=\"none\"/>\n",
              "    <path d=\"M18.56 5.44l.94 2.06.94-2.06 2.06-.94-2.06-.94-.94-2.06-.94 2.06-2.06.94zm-11 1L8.5 8.5l.94-2.06 2.06-.94-2.06-.94L8.5 2.5l-.94 2.06-2.06.94zm10 10l.94 2.06.94-2.06 2.06-.94-2.06-.94-.94-2.06-.94 2.06-2.06.94z\"/><path d=\"M17.41 7.96l-1.37-1.37c-.4-.4-.92-.59-1.43-.59-.52 0-1.04.2-1.43.59L10.3 9.45l-7.72 7.72c-.78.78-.78 2.05 0 2.83L4 21.41c.39.39.9.59 1.41.59.51 0 1.02-.2 1.41-.59l7.78-7.78 2.81-2.81c.8-.78.8-2.07 0-2.86zM5.41 20L4 18.59l7.72-7.72 1.47 1.35L5.41 20z\"/>\n",
              "  </svg>\n",
              "      </button>\n",
              "      \n",
              "  <style>\n",
              "    .colab-df-container {\n",
              "      display:flex;\n",
              "      flex-wrap:wrap;\n",
              "      gap: 12px;\n",
              "    }\n",
              "\n",
              "    .colab-df-convert {\n",
              "      background-color: #E8F0FE;\n",
              "      border: none;\n",
              "      border-radius: 50%;\n",
              "      cursor: pointer;\n",
              "      display: none;\n",
              "      fill: #1967D2;\n",
              "      height: 32px;\n",
              "      padding: 0 0 0 0;\n",
              "      width: 32px;\n",
              "    }\n",
              "\n",
              "    .colab-df-convert:hover {\n",
              "      background-color: #E2EBFA;\n",
              "      box-shadow: 0px 1px 2px rgba(60, 64, 67, 0.3), 0px 1px 3px 1px rgba(60, 64, 67, 0.15);\n",
              "      fill: #174EA6;\n",
              "    }\n",
              "\n",
              "    [theme=dark] .colab-df-convert {\n",
              "      background-color: #3B4455;\n",
              "      fill: #D2E3FC;\n",
              "    }\n",
              "\n",
              "    [theme=dark] .colab-df-convert:hover {\n",
              "      background-color: #434B5C;\n",
              "      box-shadow: 0px 1px 3px 1px rgba(0, 0, 0, 0.15);\n",
              "      filter: drop-shadow(0px 1px 2px rgba(0, 0, 0, 0.3));\n",
              "      fill: #FFFFFF;\n",
              "    }\n",
              "  </style>\n",
              "\n",
              "      <script>\n",
              "        const buttonEl =\n",
              "          document.querySelector('#df-35794978-a410-46aa-a80d-538195e01cdf button.colab-df-convert');\n",
              "        buttonEl.style.display =\n",
              "          google.colab.kernel.accessAllowed ? 'block' : 'none';\n",
              "\n",
              "        async function convertToInteractive(key) {\n",
              "          const element = document.querySelector('#df-35794978-a410-46aa-a80d-538195e01cdf');\n",
              "          const dataTable =\n",
              "            await google.colab.kernel.invokeFunction('convertToInteractive',\n",
              "                                                     [key], {});\n",
              "          if (!dataTable) return;\n",
              "\n",
              "          const docLinkHtml = 'Like what you see? Visit the ' +\n",
              "            '<a target=\"_blank\" href=https://colab.research.google.com/notebooks/data_table.ipynb>data table notebook</a>'\n",
              "            + ' to learn more about interactive tables.';\n",
              "          element.innerHTML = '';\n",
              "          dataTable['output_type'] = 'display_data';\n",
              "          await google.colab.output.renderOutput(dataTable, element);\n",
              "          const docLink = document.createElement('div');\n",
              "          docLink.innerHTML = docLinkHtml;\n",
              "          element.appendChild(docLink);\n",
              "        }\n",
              "      </script>\n",
              "    </div>\n",
              "  </div>\n",
              "  "
            ]
          },
          "metadata": {},
          "execution_count": 3
        }
      ]
    },
    {
      "cell_type": "markdown",
      "source": [
        "#2.0 - Testando o Modelo Preditivo#"
      ],
      "metadata": {
        "id": "3fP4Bz1IGcTm"
      }
    },
    {
      "cell_type": "markdown",
      "source": [
        "Para testar os modelos de predição, foi necessário saber qual melhor se encaixava com nossos dados e nosso problema. Sendo assim, preferimos nesse momento verificar a acurácia de alguns modelos mais utilizados e ver como os dados se comportam com o treinamento e teste.<br><br>\n",
        "Na célula de código abaixo, é possível visualizar a definição das variáveis de entrada e saída do modelo preditivo, bem como a porcentagem desses dados que foram selecionados para treino e para teste."
      ],
      "metadata": {
        "id": "KC-3DehIMFe6"
      }
    },
    {
      "cell_type": "code",
      "source": [
        "#separando os dados:\n",
        "x_entrada = tabela_tratada[['tumor','nodulo','metastese', 'tempo_de_amamentacao',\n",
        "                         'fumante', 'alcolatra','primeira_menstruacao',\n",
        "                       'grau_parentesco_1','grau_parentesco_2', 'grau_parentesco_3',\n",
        "                       'tipo_tumor', 'idade']].values\n",
        "                       \n",
        "y_saida = tabela_tratada['class_sobrevida'].values\n",
        "\n",
        "X_train, X_test, Y_train, Y_test = train_test_split(x_entrada, y_saida, \n",
        "                                                    test_size = 0.3, \n",
        "                                                    random_state = 42)"
      ],
      "metadata": {
        "id": "VGv3J24IGetP"
      },
      "execution_count": 4,
      "outputs": []
    },
    {
      "cell_type": "markdown",
      "source": [
        "## **2.1 - KNN**"
      ],
      "metadata": {
        "id": "9ClpStEeOpdr"
      }
    },
    {
      "cell_type": "markdown",
      "source": [
        "Buscamos utilizar o KNN para observar as amostras vizinhas e encontrar, com base nas comparações, novas predições. <br><br>\n",
        "\n",
        "A ideia principal do KNN é determinar o rótulo de classificação de uma amostra baseado nas amostras vizinhas advindas de um conjunto de treinamento. Dessa forma, é possível predizer um resultado com base na comparação dos dados mais próximos e retorná-lo em forma de uma classificação. "
      ],
      "metadata": {
        "id": "e2t-4SU4O5DF"
      }
    },
    {
      "cell_type": "markdown",
      "source": [
        "### 2.1.1 - KNN sem hiper-parâmetros"
      ],
      "metadata": {
        "id": "4f6899E7PGd0"
      }
    },
    {
      "cell_type": "markdown",
      "source": [
        "Em um primeiro momento, foi decidido testar o modelo classificatório sem o uso de hiper-parâmetros, visando observar como os nossos dados tratados interferem no módelo sem qualquer influência de manipulaçã"
      ],
      "metadata": {
        "id": "oQ7l2ThbPJMG"
      }
    },
    {
      "cell_type": "code",
      "source": [
        "#testando o modelo\n",
        "model_knn= KNeighborsClassifier(n_neighbors=23)\n",
        "model_knn.fit(X_train, Y_train)\n",
        "\n",
        "Y_pred_knn = model_knn.predict(X_test)"
      ],
      "metadata": {
        "id": "GReb_PhlPLfV"
      },
      "execution_count": 5,
      "outputs": []
    },
    {
      "cell_type": "code",
      "source": [
        "print('Acc treino: ', model_knn.score(X_train, Y_train ))\n",
        "print('Acc teste: ', model_knn.score(X_test, Y_test.squeeze() ))\n",
        "print('Revocação:',recall_score(Y_test,Y_pred_knn,average=None))\n",
        "print('Precisão:',precision_score(Y_test,Y_pred_knn,average=None))\n",
        "print('F1_score:',precision_score(Y_test,Y_pred_knn,average=None))"
      ],
      "metadata": {
        "colab": {
          "base_uri": "https://localhost:8080/"
        },
        "id": "JgcNCF2pPOGe",
        "outputId": "32191f29-a7d9-4b92-d36c-cd3ab5ea4aef"
      },
      "execution_count": 6,
      "outputs": [
        {
          "output_type": "stream",
          "name": "stdout",
          "text": [
            "Acc treino:  0.5831316972001382\n",
            "Acc teste:  0.5028203062046737\n",
            "Revocação: [0.29245283 0.71080139 0.4742268  0.        ]\n",
            "Precisão: [0.42906574 0.57708628 0.3755102  0.        ]\n",
            "F1_score: [0.42906574 0.57708628 0.3755102  0.        ]\n"
          ]
        },
        {
          "output_type": "stream",
          "name": "stderr",
          "text": [
            "/usr/local/lib/python3.7/dist-packages/sklearn/metrics/_classification.py:1318: UndefinedMetricWarning: Precision is ill-defined and being set to 0.0 in labels with no predicted samples. Use `zero_division` parameter to control this behavior.\n",
            "  _warn_prf(average, modifier, msg_start, len(result))\n",
            "/usr/local/lib/python3.7/dist-packages/sklearn/metrics/_classification.py:1318: UndefinedMetricWarning: Precision is ill-defined and being set to 0.0 in labels with no predicted samples. Use `zero_division` parameter to control this behavior.\n",
            "  _warn_prf(average, modifier, msg_start, len(result))\n"
          ]
        }
      ]
    },
    {
      "cell_type": "code",
      "source": [
        "print('KNN')\n",
        "plot_confusion_matrix(model_knn, X_test, Y_test)  \n",
        "plt.show()"
      ],
      "metadata": {
        "colab": {
          "base_uri": "https://localhost:8080/",
          "height": 351
        },
        "id": "K7_fEQHgPR9T",
        "outputId": "8056b1c8-ce2d-49ae-9806-f85ad5f99bb7"
      },
      "execution_count": 7,
      "outputs": [
        {
          "output_type": "stream",
          "name": "stdout",
          "text": [
            "KNN\n"
          ]
        },
        {
          "output_type": "stream",
          "name": "stderr",
          "text": [
            "/usr/local/lib/python3.7/dist-packages/sklearn/utils/deprecation.py:87: FutureWarning: Function plot_confusion_matrix is deprecated; Function `plot_confusion_matrix` is deprecated in 1.0 and will be removed in 1.2. Use one of the class methods: ConfusionMatrixDisplay.from_predictions or ConfusionMatrixDisplay.from_estimator.\n",
            "  warnings.warn(msg, category=FutureWarning)\n"
          ]
        },
        {
          "output_type": "display_data",
          "data": {
            "text/plain": [
              "<Figure size 432x288 with 2 Axes>"
            ],
            "image/png": "[encoded data removed]"
          },
          "metadata": {
            "needs_background": "light"
          }
        }
      ]
    },
    {
      "cell_type": "markdown",
      "source": [
        "Como pôde ser percebido, o modelo sem o uso de qualquer hiper-parâmetro possui uma acurácia de teste de 60% , indicando uma forte taxa de erro do modelo em cima de predições falso negativas e positivas, visto que a quantidade de desses tipos de erros é inversamente proporcional à pontuação da acurácia.Entretanto, ainda que possuam uma considerável taxa de erro, ainda mostra um desempenho melhor que o modelo anterior para esse mesmo tipo de teste."
      ],
      "metadata": {
        "id": "8QEMAGCyPvAJ"
      }
    },
    {
      "cell_type": "markdown",
      "source": [
        "### 2.2.2 KNN com hiper-parâmetros(Grid Search)"
      ],
      "metadata": {
        "id": "o9jx6WHTPx9X"
      }
    },
    {
      "cell_type": "markdown",
      "source": [
        "Visando buscar melhores resultados para o KNN, foi utilizado a ferramenta de busca de hiper-parâmetros Grid Search, que realiza vários testes com base nos hiper-perâmetros pré selecionados e retorna o melhor resultado dentre todas essa repetiçoes do modelo.\n",
        "<br><br>\n",
        "Dessa forma, decidimos usar testar diferentes valores e características para os seguintes parâmetros:<br><br>\n",
        "**N_neighbors**: número de amostras vizinhas utilizadas pelo modelo para a comparação;\n",
        "\n",
        "**Weights**: Peso que cada dado da amostra possui sobre a decisão final do modelo, podendo ser ele uniforme(\"uniform\") para todos os dados ou inversamente proporcional a distancia da amostra analisada(\"distance\");\n",
        "\n",
        "**Algorithm**: Qual o tipo de algoritimo será utilizado para a testagem do modelo, podeno ser esse algorítimo \"ball_tree\", \"kd_tree\" ou \"brute\";\n",
        "\n",
        "**leaf_size**: Tamanho da folha passado para o parâmetro \"ball_tree\" ou \"kd_tree\".\n",
        "\n",
        "A seguir, é possível visualizar o código resposnsável pelos testes com os diferentes parâmetros seguido de sua respectiva pontuação:\n"
      ],
      "metadata": {
        "id": "qAMyU_i0P0Wu"
      }
    },
    {
      "cell_type": "code",
      "source": [
        "from sklearn.model_selection import GridSearchCV\n",
        "# Cria o GridSearchCV\n",
        "\n",
        "parameters_knn = {'n_neighbors':range(5,110,5), \n",
        "              'weights':['uniform','distance'],\n",
        "              'algorithm':['ball_tree','kd_tree','brute'],\n",
        "              'leaf_size':range(5,50,5)\n",
        "              }\n",
        "grid_knn = GridSearchCV(KNeighborsClassifier(), parameters_knn)\n",
        "# Treina os modelos e guarda na variável modelGS o melhor modelo\n",
        "grid_knn.fit(X_train, Y_train)\n",
        "\n",
        "modelGS_knn= grid_knn.best_estimator_\n",
        "\n",
        "y_pred_knn = modelGS_knn.predict(X_test)\n",
        "\n",
        "accuracy = accuracy_score(Y_test, y_pred_knn)\n",
        "\n"
      ],
      "metadata": {
        "id": "P_aJhDEJP3Yk"
      },
      "execution_count": 8,
      "outputs": []
    },
    {
      "cell_type": "code",
      "source": [
        "print(grid_knn.best_score_)\n",
        "print(grid_knn.best_params_)"
      ],
      "metadata": {
        "colab": {
          "base_uri": "https://localhost:8080/"
        },
        "id": "ehH4bzq2P7lf",
        "outputId": "873830f8-f1cc-4850-b6d7-b41a3329ec68"
      },
      "execution_count": 9,
      "outputs": [
        {
          "output_type": "stream",
          "name": "stdout",
          "text": [
            "0.5447496279828604\n",
            "{'algorithm': 'ball_tree', 'leaf_size': 10, 'n_neighbors': 100, 'weights': 'distance'}\n"
          ]
        }
      ]
    },
    {
      "cell_type": "code",
      "source": [
        "print('Acc treino:',modelGS_knn.score(X_train,Y_train))\n",
        "print('Acc teste:',accuracy_score(Y_test,y_pred_knn.squeeze()))\n",
        "print('Revocação:',recall_score(Y_test,y_pred_knn,average=None))\n",
        "print('Precisão:',precision_score(Y_test,y_pred_knn,average=None))\n",
        "print('F1_score:',f1_score(Y_test,y_pred_knn,average=None))"
      ],
      "metadata": {
        "colab": {
          "base_uri": "https://localhost:8080/"
        },
        "id": "g123PDk4P9cb",
        "outputId": "b4241e0c-0a0a-4267-cab9-f957a60753a2"
      },
      "execution_count": 10,
      "outputs": [
        {
          "output_type": "stream",
          "name": "stdout",
          "text": [
            "Acc treino: 0.9716557207051504\n",
            "Acc teste: 0.5036261079774376\n",
            "Revocação: [0.27358491 0.7195122  0.49484536 0.        ]\n",
            "Precisão: [0.44787645 0.57520891 0.36781609 0.        ]\n",
            "F1_score: [0.33967789 0.63931889 0.42197802 0.        ]\n"
          ]
        }
      ]
    },
    {
      "cell_type": "code",
      "source": [
        "print('KNN')\n",
        "plot_confusion_matrix(modelGS_knn, X_test, Y_test, cmap='Blues', values_format='.0f');"
      ],
      "metadata": {
        "colab": {
          "base_uri": "https://localhost:8080/",
          "height": 351
        },
        "id": "ee4Bss2CQAGG",
        "outputId": "2dde496c-f2cc-4c40-bde4-9cc068d8f253"
      },
      "execution_count": 11,
      "outputs": [
        {
          "output_type": "stream",
          "name": "stdout",
          "text": [
            "KNN\n"
          ]
        },
        {
          "output_type": "stream",
          "name": "stderr",
          "text": [
            "/usr/local/lib/python3.7/dist-packages/sklearn/utils/deprecation.py:87: FutureWarning: Function plot_confusion_matrix is deprecated; Function `plot_confusion_matrix` is deprecated in 1.0 and will be removed in 1.2. Use one of the class methods: ConfusionMatrixDisplay.from_predictions or ConfusionMatrixDisplay.from_estimator.\n",
            "  warnings.warn(msg, category=FutureWarning)\n"
          ]
        },
        {
          "output_type": "display_data",
          "data": {
            "text/plain": [
              "<Figure size 432x288 with 2 Axes>"
            ],
            "image/png": "[encoded data removed]"
          },
          "metadata": {
            "needs_background": "light"
          }
        }
      ]
    },
    {
      "cell_type": "markdown",
      "source": [
        "Como pôde ser visualizado, utilizando dos melhores hiper-parâmetros para o modelo segundo o Grid Search, a acurácia teve um aumento de apenas 1% em relação ao knn anterior e, visto o aumento pouco significativodas outras métricas, acredita-se que o resultado aponte para um problema no processo de feature engineering que no pôde ser corrigido somente por meio de hiper-parâmetros"
      ],
      "metadata": {
        "id": "YwY-pb_QQJmd"
      }
    },
    {
      "cell_type": "markdown",
      "source": [
        "###2.1.3- KNN com hiper-parâmetros(Randomized Search)"
      ],
      "metadata": {
        "id": "3tmd_eSMQRxA"
      }
    },
    {
      "cell_type": "markdown",
      "source": [
        "Buscando ainda analisar outros modelos de busca de hiper-parâmetros para servir de comparação com os resultados obtidos, foi o utilizado também o Randomized Search para a busca dos melhores hiper-parâmetros.\n",
        "\n",
        "Dessa forma, decidimos testar diferentes valores e características para os mesmos parâmetros mencionados acima, utilizando o código a seguir responsável por selecionar os parâmetros para teste e aplicar no modelo :<br><br>\n",
        "\n",
        "\n"
      ],
      "metadata": {
        "id": "mvvYrib_QXIr"
      }
    },
    {
      "cell_type": "code",
      "source": [
        "parametros_knn={\n",
        "    'n_neighbors':range(5,110,5),\n",
        "    'weights':['uniform','distance'],\n",
        "    'algorithm':['auto', 'ball_tree', 'kd_tree', 'brute'],\n",
        "    'leaf_size':range(5,50,5),\n",
        "}\n",
        "randomized_search_knn = RandomizedSearchCV(estimator = KNeighborsClassifier(),param_distributions=parametros_knn)\n",
        "randomized_search_knn.fit(X_train,Y_train.squeeze())\n",
        "\n",
        "modelRS_knn = randomized_search_knn.best_estimator_\n",
        "\n",
        "y_predRS_knn = modelRS_knn.predict(X_test)\n",
        "\n",
        "accuracy = accuracy_score(Y_test, y_predRS_knn)\n"
      ],
      "metadata": {
        "id": "4djiQcGjQZsv"
      },
      "execution_count": 12,
      "outputs": []
    },
    {
      "cell_type": "code",
      "source": [
        "print(randomized_search_knn.best_score_)\n",
        "print(randomized_search_knn.best_params_)"
      ],
      "metadata": {
        "colab": {
          "base_uri": "https://localhost:8080/"
        },
        "id": "QOM1O1YQRI_0",
        "outputId": "a726b8ef-7907-4d24-be33-ebd8fc565732"
      },
      "execution_count": 13,
      "outputs": [
        {
          "output_type": "stream",
          "name": "stdout",
          "text": [
            "0.5430225122661073\n",
            "{'weights': 'distance', 'n_neighbors': 105, 'leaf_size': 45, 'algorithm': 'kd_tree'}\n"
          ]
        }
      ]
    },
    {
      "cell_type": "code",
      "source": [
        "knn_best= randomized_search_knn.best_estimator_\n",
        "knn_best\n",
        "print('Acc treino:',knn_best.score(X_train,Y_train))\n",
        "print('Acc teste:',knn_best.score(X_test,Y_test.squeeze()))\n",
        "print('Revocação:',recall_score(Y_test,y_predRS_knn,average=None))\n",
        "print('Precisão:',precision_score(Y_test,y_predRS_knn,average=None))\n",
        "print('F1_score:',precision_score(Y_test,y_predRS_knn,average=None))"
      ],
      "metadata": {
        "colab": {
          "base_uri": "https://localhost:8080/"
        },
        "id": "X-oIqBP3Qg5t",
        "outputId": "f0ee5ea7-ffeb-4ca0-bc92-bf96eed148bb"
      },
      "execution_count": 14,
      "outputs": [
        {
          "output_type": "stream",
          "name": "stdout",
          "text": [
            "Acc treino: 0.9716557207051504\n",
            "Acc teste: 0.5052377115229654\n",
            "Revocação: [0.28066038 0.7195122  0.48969072 0.        ]\n",
            "Precisão: [0.4490566  0.57843137 0.36679537 0.        ]\n",
            "F1_score: [0.4490566  0.57843137 0.36679537 0.        ]\n"
          ]
        }
      ]
    },
    {
      "cell_type": "code",
      "source": [
        "print('KNN')\n",
        "plot_confusion_matrix(modelRS_knn, X_test, Y_test, cmap='Blues', values_format='.0f')"
      ],
      "metadata": {
        "colab": {
          "base_uri": "https://localhost:8080/",
          "height": 368
        },
        "id": "edVqKUdKRKWV",
        "outputId": "b0be1b4a-578c-4bbc-c099-0f421887a58c"
      },
      "execution_count": 15,
      "outputs": [
        {
          "output_type": "stream",
          "name": "stdout",
          "text": [
            "KNN\n"
          ]
        },
        {
          "output_type": "stream",
          "name": "stderr",
          "text": [
            "/usr/local/lib/python3.7/dist-packages/sklearn/utils/deprecation.py:87: FutureWarning: Function plot_confusion_matrix is deprecated; Function `plot_confusion_matrix` is deprecated in 1.0 and will be removed in 1.2. Use one of the class methods: ConfusionMatrixDisplay.from_predictions or ConfusionMatrixDisplay.from_estimator.\n",
            "  warnings.warn(msg, category=FutureWarning)\n"
          ]
        },
        {
          "output_type": "execute_result",
          "data": {
            "text/plain": [
              "<sklearn.metrics._plot.confusion_matrix.ConfusionMatrixDisplay at 0x7f319f6f1e10>"
            ]
          },
          "metadata": {},
          "execution_count": 15
        },
        {
          "output_type": "display_data",
          "data": {
            "text/plain": [
              "<Figure size 432x288 with 2 Axes>"
            ],
            "image/png": "[encoded data removed]"
          },
          "metadata": {
            "needs_background": "light"
          }
        }
      ]
    },
    {
      "cell_type": "markdown",
      "source": [
        "Como pôde ser visualizado, utilizando os melhores hiper-parâmetros segundo o Randomized Search, o modelo teve o mesmo aumento de acurácia de 1% em comparação ao modelo original, além das demais métricas permanecerem sem variações significativas, reforçando o hipótese do problema de manipulação dos dados."
      ],
      "metadata": {
        "id": "E5osK9SmRTFD"
      }
    },
    {
      "cell_type": "markdown",
      "source": [
        "##**2.2 - Random Forest**"
      ],
      "metadata": {
        "id": "Uhh7syStRWB_"
      }
    },
    {
      "cell_type": "markdown",
      "source": [
        "A ideia principal do Random Forest é fazer o agrupamento de uma série de árvores de decisão criadas durante o processo de treinamento do modelo gerar predições (nesse caso classificatórias) com base nas comparações conjunta entre as estruturas arbóreas desenvolvidas<br><br>\n",
        "Esse modelo foi utilizado como mais uma métrica de comparação entre qual modelo classificatório seria o mais adequado para o problema em análise."
      ],
      "metadata": {
        "id": "Pwocnn7gRbzt"
      }
    },
    {
      "cell_type": "markdown",
      "source": [
        "###2.2.1- Random Forest sem hiper-parâmetros"
      ],
      "metadata": {
        "id": "9pVBMIZoReaQ"
      }
    },
    {
      "cell_type": "markdown",
      "source": [
        "Em um primeiro momento, foi decidido testar o modelo classificatório sem o uso de hiper-parâmetros, visando observar como os nossos dados tratados interferem no módelo sem qualquer influência de manipulação."
      ],
      "metadata": {
        "id": "TYHSZbF0Rh6C"
      }
    },
    {
      "cell_type": "code",
      "source": [
        "#testando o modelo\n",
        "model_rf= RandomForestClassifier(random_state=3,n_estimators=100, max_depth = 30, criterion = 'gini')\n",
        "model_rf.fit( X_train, Y_train)\n",
        "\n",
        "Y_pred_rf = model_rf.predict(X_test)"
      ],
      "metadata": {
        "id": "3IBuN5iwRkOx"
      },
      "execution_count": 16,
      "outputs": []
    },
    {
      "cell_type": "code",
      "source": [
        "print('Acc treino: ', model_rf.score(X_train, Y_train ))\n",
        "print('Acc teste: ', model_rf.score(X_test, Y_test.squeeze() ))\n",
        "print('Revocação:',recall_score(Y_test,Y_pred_rf,average=None))\n",
        "print('Precisão:',precision_score(Y_test,Y_pred_rf,average=None))\n",
        "print('F1_score:',precision_score(Y_test,Y_pred_rf,average=None))"
      ],
      "metadata": {
        "colab": {
          "base_uri": "https://localhost:8080/"
        },
        "id": "eS-E0boMRmVB",
        "outputId": "fa3abcfd-a16a-4c0e-b92a-7a524c0d5087"
      },
      "execution_count": 17,
      "outputs": [
        {
          "output_type": "stream",
          "name": "stdout",
          "text": [
            "Acc treino:  0.9716557207051504\n",
            "Acc teste:  0.5487510072522159\n",
            "Revocação: [0.49764151 0.67247387 0.42268041 0.04081633]\n",
            "Precisão: [0.52227723 0.6369637  0.3923445  0.09090909]\n",
            "F1_score: [0.52227723 0.6369637  0.3923445  0.09090909]\n"
          ]
        }
      ]
    },
    {
      "cell_type": "code",
      "source": [
        "print('Random Forest')\n",
        "plot_confusion_matrix(model_rf, X_test, Y_test)  \n",
        "plt.show()"
      ],
      "metadata": {
        "colab": {
          "base_uri": "https://localhost:8080/",
          "height": 351
        },
        "id": "CzVk3qm4Ro7t",
        "outputId": "ffe2d2ad-9db1-43da-b24f-0570ee1b3e34"
      },
      "execution_count": 18,
      "outputs": [
        {
          "output_type": "stream",
          "name": "stdout",
          "text": [
            "Random Forest\n"
          ]
        },
        {
          "output_type": "stream",
          "name": "stderr",
          "text": [
            "/usr/local/lib/python3.7/dist-packages/sklearn/utils/deprecation.py:87: FutureWarning: Function plot_confusion_matrix is deprecated; Function `plot_confusion_matrix` is deprecated in 1.0 and will be removed in 1.2. Use one of the class methods: ConfusionMatrixDisplay.from_predictions or ConfusionMatrixDisplay.from_estimator.\n",
            "  warnings.warn(msg, category=FutureWarning)\n"
          ]
        },
        {
          "output_type": "display_data",
          "data": {
            "text/plain": [
              "<Figure size 432x288 with 2 Axes>"
            ],
            "image/png": "[encoded data removed]"
          },
          "metadata": {
            "needs_background": "light"
          }
        }
      ]
    },
    {
      "cell_type": "markdown",
      "source": [
        "Como pôde ser percebido, o modelo sem o uso de qualquer hiper-parâmetro possui uma acurácia de teste de 56% , indicando uma forte taxa de erro do modelo em cima de predições falso negativas e positivas, visto que a quantidade de desses tipos de erros é inversamente proporcional à pontuação da acurácia.Entretanto, a baixa acurácia( fortememnte influenciada pelos falsos positivos) e alta revocação(fortemente influenciada pelos falsos negativos) indica que o modelo erra mais os falsos positivos que os falsos negativos"
      ],
      "metadata": {
        "id": "0OxUMi9zRrP8"
      }
    },
    {
      "cell_type": "markdown",
      "source": [
        "###2.2.2 - Random Forest com hiper-parâmetros(Grid Search)"
      ],
      "metadata": {
        "id": "gZk2LHdiRuFE"
      }
    },
    {
      "cell_type": "markdown",
      "source": [
        "Visando buscar melhores resultados para o Random Forest, foi utilizado a ferramenta de busca de hiper-parâmetros Grid Search, que realiza vários testes com base nos hiper-perâmetros pré selecionados e retorna o melhor resultado dentre todas essa repetiçoes do modelo."
      ],
      "metadata": {
        "id": "vSxuzF6IR2WU"
      }
    },
    {
      "cell_type": "markdown",
      "source": [
        "Dessa forma, decidimos usar testar diferentes valores e características para os seguintes parâmetros:<br><br>\n",
        "**N_estimators**: número de árvores utilizadas no modelo;\n",
        "\n",
        "**Criterion**: função utilizada para a qualidade de uma divisão. Os critérios suportados são “gini” para a impureza Gini e “log_loss” e “entropia” ambos para o ganho de informação de Shannon, que diz que a quantidade de informação de um evento A depende apenas da probabilidade p(A) desse evento, e é tanto maior quanto menor for a probabilidade.\n",
        "\n",
        "**Mim_samples_split**: define o número mínimo de amostras necessárias para dividir um nó interno.\n"
      ],
      "metadata": {
        "id": "neX7wZzrcmgn"
      }
    },
    {
      "cell_type": "markdown",
      "source": [
        "A seguir, é possível visualizar o código resposnsável pelos testes com os diferentes parâmetros, seguido de sua respectiva pontuação:\n"
      ],
      "metadata": {
        "id": "-vFr4Ukvg0UW"
      }
    },
    {
      "cell_type": "code",
      "source": [
        "from sklearn.model_selection import GridSearchCV\n",
        "# Cria o GridSearchCV\n",
        "\n",
        "parameters_rf = {'n_estimators':range(50,250, 50), \n",
        "              'criterion':['gini','entropy','log_loss'],\n",
        "              'min_samples_split':range(2,8,2),\n",
        "              }\n",
        "grid_rf = GridSearchCV(RandomForestClassifier(), parameters_rf)\n",
        "# Treina os modelos e guarda na variável modelGS o melhor modelo\n",
        "grid_rf.fit(X_train, Y_train)\n",
        "\n",
        "modelGS_rf = grid_rf.best_estimator_\n",
        "\n",
        "y_pred_rf = modelGS_rf.predict(X_test)\n",
        "\n",
        "accuracy = accuracy_score(Y_test, Y_pred_rf)\n"
      ],
      "metadata": {
        "colab": {
          "base_uri": "https://localhost:8080/"
        },
        "id": "V9WSMmtLR6fP",
        "outputId": "935551c6-4f0d-4a3b-a132-14f7e65ac0e3"
      },
      "execution_count": 19,
      "outputs": [
        {
          "output_type": "stream",
          "name": "stderr",
          "text": [
            "/usr/local/lib/python3.7/dist-packages/sklearn/model_selection/_validation.py:372: FitFailedWarning: \n",
            "60 fits failed out of a total of 180.\n",
            "The score on these train-test partitions for these parameters will be set to nan.\n",
            "If these failures are not expected, you can try to debug them by setting error_score='raise'.\n",
            "\n",
            "Below are more details about the failures:\n",
            "--------------------------------------------------------------------------------\n",
            "60 fits failed with the following error:\n",
            "Traceback (most recent call last):\n",
            "  File \"/usr/local/lib/python3.7/dist-packages/sklearn/model_selection/_validation.py\", line 680, in _fit_and_score\n",
            "    estimator.fit(X_train, y_train, **fit_params)\n",
            "  File \"/usr/local/lib/python3.7/dist-packages/sklearn/ensemble/_forest.py\", line 467, in fit\n",
            "    for i, t in enumerate(trees)\n",
            "  File \"/usr/local/lib/python3.7/dist-packages/joblib/parallel.py\", line 1085, in __call__\n",
            "    if self.dispatch_one_batch(iterator):\n",
            "  File \"/usr/local/lib/python3.7/dist-packages/joblib/parallel.py\", line 901, in dispatch_one_batch\n",
            "    self._dispatch(tasks)\n",
            "  File \"/usr/local/lib/python3.7/dist-packages/joblib/parallel.py\", line 819, in _dispatch\n",
            "    job = self._backend.apply_async(batch, callback=cb)\n",
            "  File \"/usr/local/lib/python3.7/dist-packages/joblib/_parallel_backends.py\", line 208, in apply_async\n",
            "    result = ImmediateResult(func)\n",
            "  File \"/usr/local/lib/python3.7/dist-packages/joblib/_parallel_backends.py\", line 597, in __init__\n",
            "    self.results = batch()\n",
            "  File \"/usr/local/lib/python3.7/dist-packages/joblib/parallel.py\", line 289, in __call__\n",
            "    for func, args, kwargs in self.items]\n",
            "  File \"/usr/local/lib/python3.7/dist-packages/joblib/parallel.py\", line 289, in <listcomp>\n",
            "    for func, args, kwargs in self.items]\n",
            "  File \"/usr/local/lib/python3.7/dist-packages/sklearn/utils/fixes.py\", line 216, in __call__\n",
            "    return self.function(*args, **kwargs)\n",
            "  File \"/usr/local/lib/python3.7/dist-packages/sklearn/ensemble/_forest.py\", line 185, in _parallel_build_trees\n",
            "    tree.fit(X, y, sample_weight=curr_sample_weight, check_input=False)\n",
            "  File \"/usr/local/lib/python3.7/dist-packages/sklearn/tree/_classes.py\", line 942, in fit\n",
            "    X_idx_sorted=X_idx_sorted,\n",
            "  File \"/usr/local/lib/python3.7/dist-packages/sklearn/tree/_classes.py\", line 352, in fit\n",
            "    criterion = CRITERIA_CLF[self.criterion](\n",
            "KeyError: 'log_loss'\n",
            "\n",
            "  warnings.warn(some_fits_failed_message, FitFailedWarning)\n",
            "/usr/local/lib/python3.7/dist-packages/sklearn/model_selection/_search.py:972: UserWarning: One or more of the test scores are non-finite: [0.55685498 0.55754522 0.56584375 0.55961657 0.56479971 0.57068146\n",
            " 0.56203991 0.5648027  0.57344246 0.5744865  0.57102868 0.57310182\n",
            " 0.55374378 0.56272358 0.56549474 0.56687763 0.5696446  0.56860653\n",
            " 0.56722783 0.56999122 0.57344365 0.57413868 0.57621182 0.57379625\n",
            "        nan        nan        nan        nan        nan        nan\n",
            "        nan        nan        nan        nan        nan        nan]\n",
            "  category=UserWarning,\n"
          ]
        }
      ]
    },
    {
      "cell_type": "code",
      "source": [
        "print(grid_rf.best_score_)\n",
        "print(grid_rf.best_params_)"
      ],
      "metadata": {
        "colab": {
          "base_uri": "https://localhost:8080/"
        },
        "id": "7qOd9nvlR_9s",
        "outputId": "b3072d3a-febe-4b7a-e0f9-8f9545279fca"
      },
      "execution_count": 20,
      "outputs": [
        {
          "output_type": "stream",
          "name": "stdout",
          "text": [
            "0.5762118196867287\n",
            "{'criterion': 'entropy', 'min_samples_split': 6, 'n_estimators': 150}\n"
          ]
        }
      ]
    },
    {
      "cell_type": "code",
      "source": [
        "print('Acc treino:',modelGS_rf.score(X_train,Y_train))\n",
        "print('Acc teste:',modelGS_rf.score(X_test,y_pred_rf))\n",
        "print('Revocação:',recall_score(Y_test,y_pred_rf,average=None))\n",
        "print('Precisão:',precision_score(Y_test,y_pred_rf,average=None))\n",
        "print('F1_score:',precision_score(Y_test,y_pred_rf,average=None))"
      ],
      "metadata": {
        "colab": {
          "base_uri": "https://localhost:8080/"
        },
        "id": "Dr2pYy7QSCUI",
        "outputId": "ed648838-eb62-49c5-c463-8ac700f11a1e"
      },
      "execution_count": 21,
      "outputs": [
        {
          "output_type": "stream",
          "name": "stdout",
          "text": [
            "Acc treino: 0.8897338403041825\n",
            "Acc teste: 1.0\n",
            "Revocação: [0.49528302 0.69163763 0.48453608 0.02040816]\n",
            "Precisão: [0.54404145 0.64869281 0.40517241 0.09090909]\n",
            "F1_score: [0.54404145 0.64869281 0.40517241 0.09090909]\n"
          ]
        }
      ]
    },
    {
      "cell_type": "code",
      "source": [
        "print('Random Forest')\n",
        "plot_confusion_matrix(modelGS_rf, X_test, Y_test, cmap='Blues', values_format='.0f');"
      ],
      "metadata": {
        "colab": {
          "base_uri": "https://localhost:8080/",
          "height": 351
        },
        "id": "qx7ov0xCSEO7",
        "outputId": "2fa091d3-0441-49a5-a005-a456541ee78e"
      },
      "execution_count": 22,
      "outputs": [
        {
          "output_type": "stream",
          "name": "stdout",
          "text": [
            "Random Forest\n"
          ]
        },
        {
          "output_type": "stream",
          "name": "stderr",
          "text": [
            "/usr/local/lib/python3.7/dist-packages/sklearn/utils/deprecation.py:87: FutureWarning: Function plot_confusion_matrix is deprecated; Function `plot_confusion_matrix` is deprecated in 1.0 and will be removed in 1.2. Use one of the class methods: ConfusionMatrixDisplay.from_predictions or ConfusionMatrixDisplay.from_estimator.\n",
            "  warnings.warn(msg, category=FutureWarning)\n"
          ]
        },
        {
          "output_type": "display_data",
          "data": {
            "text/plain": [
              "<Figure size 432x288 with 2 Axes>"
            ],
            "image/png": "[encoded data removed]"
          },
          "metadata": {
            "needs_background": "light"
          }
        }
      ]
    },
    {
      "cell_type": "markdown",
      "source": [
        "Como pôde ser visualizado, utilizando dos melhores hiper-parâmetros para o modelo segundo o Grid Search, a acurácia teve um surpreendente aumento para 100% de acurácia de teste mas que não foi acompanhado por um aumento das outras métricas, indicando que essa surpreendente pontuação possui grandes chances de estar ligada à um vício do modelo em relação à alguns dados"
      ],
      "metadata": {
        "id": "_2NoX5lASJog"
      }
    },
    {
      "cell_type": "markdown",
      "source": [
        "###2.2.3- Random Forest com hiper-parâmetros(Randomized Search)"
      ],
      "metadata": {
        "id": "gxsG_z_ISMO9"
      }
    },
    {
      "cell_type": "markdown",
      "source": [
        "Buscando ainda analisar outros modelos de busca de hiper-parâmetros para servir de comparação com os resultados obtidos, foi o utilizado também o Randomized Search para a busca dos melhores hiper-parâmetros."
      ],
      "metadata": {
        "id": "-ewdcbtDSPoJ"
      }
    },
    {
      "cell_type": "markdown",
      "source": [
        "Dessa forma, decidimos testar diferentes valores e características para os mesmos parâmetros mencionados acima, utilizando o código a seguir responsável por selecionar os parâmetros para teste e aplicar no modelo :"
      ],
      "metadata": {
        "id": "0Tg-SRodg_BS"
      }
    },
    {
      "cell_type": "code",
      "source": [
        "parametros_rf={\n",
        "    'n_estimators':range(50,350,50),\n",
        "    'criterion':['gini','entropy','log_loss'],\n",
        "    'min_samples_split':range(2,10,2),\n",
        "}\n",
        "randomized_search_rf=RandomizedSearchCV(estimator = RandomForestClassifier(),param_distributions=parametros_rf)\n",
        "randomized_search_rf.fit(X_train,Y_train.squeeze())\n",
        "\n",
        "modelRS_rf = randomized_search_rf.best_estimator_\n",
        "\n",
        "y_predRS_rf = modelRS_rf.predict(X_test)\n",
        "\n",
        "accuracy = accuracy_score(Y_test, y_predRS_rf)"
      ],
      "metadata": {
        "colab": {
          "base_uri": "https://localhost:8080/"
        },
        "id": "nZ0YbXEnSSyd",
        "outputId": "8e4e14a2-fbf5-401a-beb9-c745375c48af"
      },
      "execution_count": 23,
      "outputs": [
        {
          "output_type": "stream",
          "name": "stderr",
          "text": [
            "/usr/local/lib/python3.7/dist-packages/sklearn/model_selection/_validation.py:372: FitFailedWarning: \n",
            "15 fits failed out of a total of 50.\n",
            "The score on these train-test partitions for these parameters will be set to nan.\n",
            "If these failures are not expected, you can try to debug them by setting error_score='raise'.\n",
            "\n",
            "Below are more details about the failures:\n",
            "--------------------------------------------------------------------------------\n",
            "15 fits failed with the following error:\n",
            "Traceback (most recent call last):\n",
            "  File \"/usr/local/lib/python3.7/dist-packages/sklearn/model_selection/_validation.py\", line 680, in _fit_and_score\n",
            "    estimator.fit(X_train, y_train, **fit_params)\n",
            "  File \"/usr/local/lib/python3.7/dist-packages/sklearn/ensemble/_forest.py\", line 467, in fit\n",
            "    for i, t in enumerate(trees)\n",
            "  File \"/usr/local/lib/python3.7/dist-packages/joblib/parallel.py\", line 1085, in __call__\n",
            "    if self.dispatch_one_batch(iterator):\n",
            "  File \"/usr/local/lib/python3.7/dist-packages/joblib/parallel.py\", line 901, in dispatch_one_batch\n",
            "    self._dispatch(tasks)\n",
            "  File \"/usr/local/lib/python3.7/dist-packages/joblib/parallel.py\", line 819, in _dispatch\n",
            "    job = self._backend.apply_async(batch, callback=cb)\n",
            "  File \"/usr/local/lib/python3.7/dist-packages/joblib/_parallel_backends.py\", line 208, in apply_async\n",
            "    result = ImmediateResult(func)\n",
            "  File \"/usr/local/lib/python3.7/dist-packages/joblib/_parallel_backends.py\", line 597, in __init__\n",
            "    self.results = batch()\n",
            "  File \"/usr/local/lib/python3.7/dist-packages/joblib/parallel.py\", line 289, in __call__\n",
            "    for func, args, kwargs in self.items]\n",
            "  File \"/usr/local/lib/python3.7/dist-packages/joblib/parallel.py\", line 289, in <listcomp>\n",
            "    for func, args, kwargs in self.items]\n",
            "  File \"/usr/local/lib/python3.7/dist-packages/sklearn/utils/fixes.py\", line 216, in __call__\n",
            "    return self.function(*args, **kwargs)\n",
            "  File \"/usr/local/lib/python3.7/dist-packages/sklearn/ensemble/_forest.py\", line 185, in _parallel_build_trees\n",
            "    tree.fit(X, y, sample_weight=curr_sample_weight, check_input=False)\n",
            "  File \"/usr/local/lib/python3.7/dist-packages/sklearn/tree/_classes.py\", line 942, in fit\n",
            "    X_idx_sorted=X_idx_sorted,\n",
            "  File \"/usr/local/lib/python3.7/dist-packages/sklearn/tree/_classes.py\", line 352, in fit\n",
            "    criterion = CRITERIA_CLF[self.criterion](\n",
            "KeyError: 'log_loss'\n",
            "\n",
            "  warnings.warn(some_fits_failed_message, FitFailedWarning)\n",
            "/usr/local/lib/python3.7/dist-packages/sklearn/model_selection/_search.py:972: UserWarning: One or more of the test scores are non-finite: [       nan 0.57759471 0.57241097 0.57136932        nan        nan\n",
            " 0.57655605 0.5758658  0.56618678 0.56514931]\n",
            "  category=UserWarning,\n"
          ]
        }
      ]
    },
    {
      "cell_type": "code",
      "source": [
        "print(randomized_search_rf.best_score_)\n",
        "print(randomized_search_rf.best_params_)"
      ],
      "metadata": {
        "colab": {
          "base_uri": "https://localhost:8080/"
        },
        "id": "fgrYCGE6SU-_",
        "outputId": "634fd7a4-1fd4-4509-bd80-7b62a1f33d40"
      },
      "execution_count": 24,
      "outputs": [
        {
          "output_type": "stream",
          "name": "stdout",
          "text": [
            "0.5775947074959212\n",
            "{'n_estimators': 150, 'min_samples_split': 8, 'criterion': 'gini'}\n"
          ]
        }
      ]
    },
    {
      "cell_type": "code",
      "source": [
        "print('Acc treino:',modelRS_rf.score(X_train,Y_train))\n",
        "print('Acc teste:',modelRS_rf.score(X_test,y_predRS_rf.squeeze()))\n",
        "print('Revocação:',recall_score(Y_test,y_predRS_rf,average=None))\n",
        "print('Precisão:',precision_score(Y_test,y_predRS_rf,average=None))\n",
        "print('F1_score:',precision_score(Y_test,y_predRS_rf,average=None))"
      ],
      "metadata": {
        "colab": {
          "base_uri": "https://localhost:8080/"
        },
        "id": "VR6SHe5ASXMR",
        "outputId": "c29ab291-06e3-461e-8fb0-566d049d47a5"
      },
      "execution_count": 25,
      "outputs": [
        {
          "output_type": "stream",
          "name": "stdout",
          "text": [
            "Acc treino: 0.8510197027307294\n",
            "Acc teste: 1.0\n",
            "Revocação: [0.50235849 0.69686411 0.4742268  0.        ]\n",
            "Precisão: [0.55324675 0.64620355 0.40350877 0.        ]\n",
            "F1_score: [0.55324675 0.64620355 0.40350877 0.        ]\n"
          ]
        }
      ]
    },
    {
      "cell_type": "code",
      "source": [
        "print('Random Forest')\n",
        "plot_confusion_matrix(modelRS_rf, X_test, Y_test, cmap='Blues', values_format='.0f');"
      ],
      "metadata": {
        "colab": {
          "base_uri": "https://localhost:8080/",
          "height": 355
        },
        "id": "D4O4BjN6SZAK",
        "outputId": "8cda3795-d65f-4d8e-967c-271999fc0b21"
      },
      "execution_count": 26,
      "outputs": [
        {
          "output_type": "stream",
          "name": "stdout",
          "text": [
            "Random Forest\n"
          ]
        },
        {
          "output_type": "stream",
          "name": "stderr",
          "text": [
            "/usr/local/lib/python3.7/dist-packages/sklearn/utils/deprecation.py:87: FutureWarning: Function plot_confusion_matrix is deprecated; Function `plot_confusion_matrix` is deprecated in 1.0 and will be removed in 1.2. Use one of the class methods: ConfusionMatrixDisplay.from_predictions or ConfusionMatrixDisplay.from_estimator.\n",
            "  warnings.warn(msg, category=FutureWarning)\n"
          ]
        },
        {
          "output_type": "display_data",
          "data": {
            "text/plain": [
              "<Figure size 432x288 with 2 Axes>"
            ],
            "image/png": "[encoded data removed]"
          },
          "metadata": {
            "needs_background": "light"
          }
        }
      ]
    },
    {
      "cell_type": "markdown",
      "source": [
        "Como pôde ser visualizado, utilizando os melhores hiper-parâmetros segundo o Randomized Search, o modelo teve o mesmo aumento de acurácia para 100% sem a alteração das demais métricas, reforçando a teoria do vício do modelo durante o processo de treino."
      ],
      "metadata": {
        "id": "6mdY7V0zSete"
      }
    },
    {
      "cell_type": "markdown",
      "source": [
        "##**2.3 - SVM**"
      ],
      "metadata": {
        "id": "MyIvT-yNShWE"
      }
    },
    {
      "cell_type": "markdown",
      "source": [
        "O SVM é um algoritmo que busca uma linha de separação entre duas classes distintas, analisando os dois pontos, um de cada grupo, mais próximos da outra classe. Isto é, o SVM escolhe a reta entre dois grupos que se distancia mais de cada um e, após descoberta essa reta, o programa conseguirá predizer a qual classe pertence um novo dado ao checar de qual lado da reta ele está.<br><br>\n",
        "Esse modelo foi utilizado como mais uma métrica de comparação entre qual modelo classificatório seria o mais adequado para o problema em análise."
      ],
      "metadata": {
        "id": "iATGkywuSoQH"
      }
    },
    {
      "cell_type": "markdown",
      "source": [
        "###2.3.1- SVM sem hiper-parâmetros"
      ],
      "metadata": {
        "id": "j9R_aN3nSo_u"
      }
    },
    {
      "cell_type": "markdown",
      "source": [
        "Em um primeiro momento, foi decidido testar o modelo classificatório sem o uso de hiper-parâmetros, visando observar como os nossos dados tratados interferem no módelo sem qualquer influência de manipulação.\n"
      ],
      "metadata": {
        "id": "5C8kTrk-SrTw"
      }
    },
    {
      "cell_type": "code",
      "source": [
        "#testando o modelo\n",
        "model_svm= SVC(random_state=3)\n",
        "model_svm.fit( X_train, Y_train)\n",
        "\n",
        "Y_pred_svm = model_svm.predict(X_test)"
      ],
      "metadata": {
        "id": "vsd0YjWhSvpv"
      },
      "execution_count": 27,
      "outputs": []
    },
    {
      "cell_type": "code",
      "source": [
        "print('Acc treino: ', model_svm.score(X_train, Y_train ))\n",
        "print('Acc teste: ', model_svm.score(X_test, Y_test.squeeze() ))\n",
        "print('Revocação:',recall_score(Y_test,Y_pred_svm,average=None))\n",
        "print('Precisão:',precision_score(Y_test,Y_pred_svm,average=None))\n",
        "print('F1_score:',precision_score(Y_test,Y_pred_svm,average=None))"
      ],
      "metadata": {
        "colab": {
          "base_uri": "https://localhost:8080/"
        },
        "id": "eDCYx-CfSxSq",
        "outputId": "97038074-3d44-4f63-c4fa-36903f35862e"
      },
      "execution_count": 28,
      "outputs": [
        {
          "output_type": "stream",
          "name": "stdout",
          "text": [
            "Acc treino:  0.5523677843069478\n",
            "Acc teste:  0.5181305398871877\n",
            "Revocação: [0.22877358 0.67421603 0.81958763 0.        ]\n",
            "Precisão: [0.52150538 0.63546798 0.35650224 0.        ]\n",
            "F1_score: [0.52150538 0.63546798 0.35650224 0.        ]\n"
          ]
        },
        {
          "output_type": "stream",
          "name": "stderr",
          "text": [
            "/usr/local/lib/python3.7/dist-packages/sklearn/metrics/_classification.py:1318: UndefinedMetricWarning: Precision is ill-defined and being set to 0.0 in labels with no predicted samples. Use `zero_division` parameter to control this behavior.\n",
            "  _warn_prf(average, modifier, msg_start, len(result))\n",
            "/usr/local/lib/python3.7/dist-packages/sklearn/metrics/_classification.py:1318: UndefinedMetricWarning: Precision is ill-defined and being set to 0.0 in labels with no predicted samples. Use `zero_division` parameter to control this behavior.\n",
            "  _warn_prf(average, modifier, msg_start, len(result))\n"
          ]
        }
      ]
    },
    {
      "cell_type": "code",
      "source": [
        "print('SVM')\n",
        "plot_confusion_matrix(model_rf, X_test, Y_test)  \n",
        "plt.show()"
      ],
      "metadata": {
        "colab": {
          "base_uri": "https://localhost:8080/",
          "height": 351
        },
        "id": "zbCbzlnPSzeu",
        "outputId": "68d59407-44ab-4ad5-f6c5-49d4b77c9da2"
      },
      "execution_count": 29,
      "outputs": [
        {
          "output_type": "stream",
          "name": "stdout",
          "text": [
            "SVM\n"
          ]
        },
        {
          "output_type": "stream",
          "name": "stderr",
          "text": [
            "/usr/local/lib/python3.7/dist-packages/sklearn/utils/deprecation.py:87: FutureWarning: Function plot_confusion_matrix is deprecated; Function `plot_confusion_matrix` is deprecated in 1.0 and will be removed in 1.2. Use one of the class methods: ConfusionMatrixDisplay.from_predictions or ConfusionMatrixDisplay.from_estimator.\n",
            "  warnings.warn(msg, category=FutureWarning)\n"
          ]
        },
        {
          "output_type": "display_data",
          "data": {
            "text/plain": [
              "<Figure size 432x288 with 2 Axes>"
            ],
            "image/png": "[encoded data removed]"
          },
          "metadata": {
            "needs_background": "light"
          }
        }
      ]
    },
    {
      "cell_type": "markdown",
      "source": [
        "Como pôde ser percebido, o modelo sem o uso de qualquer hiper-parâmetro possui uma acurácia de teste de 62% , indicando uma forte taxa de erro do modelo em cima de predições falso negativas e positivas, visto que a quantidade de desses tipos de erros é inversamente proporcional à pontuação da acurácia.Entretanto, a baixa acurácia( fortememnte influenciada pelos falsos positivos) e alta revocação(fortemente influenciada pelos falsos negativos) indica que o modelo erra mais os falsos positivos que os falsos negativos, ainda que o valor exorbitantemente alto da revocação (100%) sinalize para um vício do modelo durante o treinamento."
      ],
      "metadata": {
        "id": "PSBIX8LtS7Bn"
      }
    },
    {
      "cell_type": "markdown",
      "source": [
        "###2.3.2 - SVM com hiper-parâmetros(Grid Search)"
      ],
      "metadata": {
        "id": "hcOTOOA1S9qB"
      }
    },
    {
      "cell_type": "markdown",
      "source": [
        "Visando buscar melhores resultados para o SVM, foi utilizado a ferramenta de busca de hiper-parâmetros Grid Search, que realiza vários testes com base nos hiper-perâmetros pré selecionados e retorna o melhor resultado dentre todas essa repetiçoes do modelo."
      ],
      "metadata": {
        "id": "q-2XBqh5TAPC"
      }
    },
    {
      "cell_type": "markdown",
      "source": [
        "Dessa forma, decidimos usar testar diferentes valores e características para os seguintes parâmetros:<br><br>\n",
        "\n",
        "**Kernel**:Especifica o tipo de kernel a ser usado no algoritmo. Pode ser do tipo \"rbf\", \"poly\", \"sigmoid\" e \"precomputed\";\n",
        "\n",
        "**Gama**: coeficiente de kernel para os tipos \"rbf\",\"poly\" e \"sigmoid\". Pode receber os valores \"scale\" ou \"auto\";\n",
        "\n",
        "**Degree**:grau da função kernel polinomial"
      ],
      "metadata": {
        "id": "2XSv7WC8-XNl"
      }
    },
    {
      "cell_type": "markdown",
      "source": [
        "A seguir, é possível visualizar o código resposnsável pelos testes com os diferentes parâmetros seguido de sua respectiva pontuação:"
      ],
      "metadata": {
        "id": "OeBFCY4hBwnJ"
      }
    },
    {
      "cell_type": "code",
      "source": [
        "from sklearn.model_selection import GridSearchCV\n",
        "# Cria o GridSearchCV\n",
        "\n",
        "parameters_svm = {\n",
        "              'kernel':['rbf'],\n",
        "              'gamma':['scale','auto'],\n",
        "              'degree':range(2,10,2)\n",
        "              }\n",
        "grid_svm = GridSearchCV(SVC(), parameters_svm)\n",
        "# Treina os modelos e guarda na variável modelGS o melhor modelo\n",
        "grid_svm.fit(X_train, Y_train)\n",
        "modelo_SVM = grid_svm.best_estimator_\n",
        "\n",
        "y_pred_svm = modelo_SVM.predict(X_test)\n",
        "\n",
        "accuracy = accuracy_score(Y_test, Y_pred_svm)\n"
      ],
      "metadata": {
        "id": "axQHt02rTCYf"
      },
      "execution_count": 30,
      "outputs": []
    },
    {
      "cell_type": "code",
      "source": [
        "print(grid_svm.best_score_)\n",
        "print(grid_svm.best_params_)"
      ],
      "metadata": {
        "colab": {
          "base_uri": "https://localhost:8080/"
        },
        "id": "HhdFdd90TFh0",
        "outputId": "76060744-cc13-4dd3-bbfe-90784dfe6689"
      },
      "execution_count": 31,
      "outputs": [
        {
          "output_type": "stream",
          "name": "stdout",
          "text": [
            "0.5492496907327393\n",
            "{'degree': 2, 'gamma': 'scale', 'kernel': 'rbf'}\n"
          ]
        }
      ]
    },
    {
      "cell_type": "code",
      "source": [
        "print('Acc treino:',modelo_SVM.score(X_train,Y_train))\n",
        "print('Acc teste:',accuracy_score(Y_test, y_pred_svm))\n",
        "print('Revocação:',recall_score(Y_test,y_pred_svm,average=None))\n",
        "print('Precisão:',precision_score(Y_test,y_pred_svm,average=None))\n",
        "print('F1_score:',f1_score(Y_test,y_pred_svm,average=None))"
      ],
      "metadata": {
        "colab": {
          "base_uri": "https://localhost:8080/"
        },
        "id": "AHmSEbhnTJG1",
        "outputId": "5f0e3ce7-b205-4aea-ffa2-b4e8fafbe061"
      },
      "execution_count": 32,
      "outputs": [
        {
          "output_type": "stream",
          "name": "stdout",
          "text": [
            "Acc treino: 0.5523677843069478\n",
            "Acc teste: 0.5181305398871877\n",
            "Revocação: [0.22877358 0.67421603 0.81958763 0.        ]\n",
            "Precisão: [0.52150538 0.63546798 0.35650224 0.        ]\n",
            "F1_score: [0.31803279 0.65426881 0.496875   0.        ]\n"
          ]
        },
        {
          "output_type": "stream",
          "name": "stderr",
          "text": [
            "/usr/local/lib/python3.7/dist-packages/sklearn/metrics/_classification.py:1318: UndefinedMetricWarning: Precision is ill-defined and being set to 0.0 in labels with no predicted samples. Use `zero_division` parameter to control this behavior.\n",
            "  _warn_prf(average, modifier, msg_start, len(result))\n"
          ]
        }
      ]
    },
    {
      "cell_type": "code",
      "source": [
        "print('SVM')\n",
        "plot_confusion_matrix(modelo_SVM, X_train, Y_train, cmap='Blues', values_format='.0f')"
      ],
      "metadata": {
        "colab": {
          "base_uri": "https://localhost:8080/",
          "height": 368
        },
        "id": "w4QXUU47TLiJ",
        "outputId": "65c3de9c-7681-45e5-c111-4316b0a122c9"
      },
      "execution_count": 33,
      "outputs": [
        {
          "output_type": "stream",
          "name": "stdout",
          "text": [
            "SVM\n"
          ]
        },
        {
          "output_type": "stream",
          "name": "stderr",
          "text": [
            "/usr/local/lib/python3.7/dist-packages/sklearn/utils/deprecation.py:87: FutureWarning: Function plot_confusion_matrix is deprecated; Function `plot_confusion_matrix` is deprecated in 1.0 and will be removed in 1.2. Use one of the class methods: ConfusionMatrixDisplay.from_predictions or ConfusionMatrixDisplay.from_estimator.\n",
            "  warnings.warn(msg, category=FutureWarning)\n"
          ]
        },
        {
          "output_type": "execute_result",
          "data": {
            "text/plain": [
              "<sklearn.metrics._plot.confusion_matrix.ConfusionMatrixDisplay at 0x7f319c693b10>"
            ]
          },
          "metadata": {},
          "execution_count": 33
        },
        {
          "output_type": "display_data",
          "data": {
            "text/plain": [
              "<Figure size 432x288 with 2 Axes>"
            ],
            "image/png": "[encoded data removed]"
          },
          "metadata": {
            "needs_background": "light"
          }
        }
      ]
    },
    {
      "cell_type": "markdown",
      "source": [
        "Como pôde ser visualizado, utilizando dos melhores hiper-parâmetros para o modelo segundo o Grid Search, as métricas de desempenho permanecem praticamente inalteradas( apenas um leve aumento do f1-score), sugerindo que mesmo com os melhores parâmetros para esse modelo, ainda é perceptível um forte ruído na manipulação dos dados.\n"
      ],
      "metadata": {
        "id": "injGPjJaU0do"
      }
    },
    {
      "cell_type": "markdown",
      "source": [
        "### 2.3.3-SVM com hiper-parâmetros(Randomized Search)"
      ],
      "metadata": {
        "id": "m9nB_wZ8U8JM"
      }
    },
    {
      "cell_type": "markdown",
      "source": [
        "Buscando ainda analisar outros modelos de busca de hiper-parâmetros para servir de comparação com os resultados obtidos, foi o utilizado também o Randomized Search para a busca dos melhores hiper-parâmetros."
      ],
      "metadata": {
        "id": "eYvA9QHKVDZp"
      }
    },
    {
      "cell_type": "markdown",
      "source": [
        "Dessa forma, decidimos testar diferentes valores e características para os mesmos parâmetros mencionados acima, utilizando o código a seguir responsável por selecionar os parâmetros para teste e aplicar no modelo :"
      ],
      "metadata": {
        "id": "T-aS6F-4B3FI"
      }
    },
    {
      "cell_type": "code",
      "source": [
        "parametros_svm = {\n",
        "    'kernel':['rbf'],#['linear','poly','rbf','sigmoid','precomputed'],\n",
        "    'gamma':['scale','auto'],\n",
        "    'degree':range(1,5)\n",
        "}\n",
        "randomized_search_svm = RandomizedSearchCV(estimator = SVC(),param_distributions=parametros_svm)\n",
        "randomized_search_svm.fit(X_train,Y_train.squeeze())\n",
        "\n",
        "modelRS_svm = randomized_search_svm.best_estimator_\n",
        "\n",
        "y_predRS_svm = modelRS_svm.predict(X_test)\n",
        "\n",
        "accuracy = accuracy_score(Y_test, y_predRS_svm)\n"
      ],
      "metadata": {
        "colab": {
          "base_uri": "https://localhost:8080/"
        },
        "id": "XNlaroRjVcuS",
        "outputId": "ceb39b25-22c9-4f81-be10-4056359642b1"
      },
      "execution_count": 34,
      "outputs": [
        {
          "output_type": "stream",
          "name": "stderr",
          "text": [
            "/usr/local/lib/python3.7/dist-packages/sklearn/model_selection/_search.py:296: UserWarning: The total space of parameters 8 is smaller than n_iter=10. Running 8 iterations. For exhaustive searches, use GridSearchCV.\n",
            "  UserWarning,\n"
          ]
        }
      ]
    },
    {
      "cell_type": "code",
      "source": [
        "print(randomized_search_svm.best_score_)\n",
        "print(randomized_search_svm.best_params_)"
      ],
      "metadata": {
        "colab": {
          "base_uri": "https://localhost:8080/"
        },
        "id": "4wGRMcNEVgM4",
        "outputId": "ee8a77ec-da1f-44a5-e526-2aafbb48d7de"
      },
      "execution_count": 35,
      "outputs": [
        {
          "output_type": "stream",
          "name": "stdout",
          "text": [
            "0.5492496907327393\n",
            "{'kernel': 'rbf', 'gamma': 'scale', 'degree': 1}\n"
          ]
        }
      ]
    },
    {
      "cell_type": "code",
      "source": [
        "svm_best= randomized_search_svm.best_estimator_\n",
        "svm_best\n",
        "print('Acc treino:',svm_best.score(X_train,Y_train))\n",
        "print('Acc teste:',svm_best.score(X_test,Y_test.squeeze()))\n",
        "print('Revocação:',recall_score(Y_test,y_predRS_svm,average=None))\n",
        "print('Precisão:',precision_score(Y_test,y_predRS_svm,average=None))\n",
        "print('F1_score:',precision_score(Y_test,y_predRS_svm,average=None))"
      ],
      "metadata": {
        "colab": {
          "base_uri": "https://localhost:8080/"
        },
        "id": "tCwI-9qxVijf",
        "outputId": "74926187-ec07-45c1-ddd4-3e46bceecf82"
      },
      "execution_count": 36,
      "outputs": [
        {
          "output_type": "stream",
          "name": "stdout",
          "text": [
            "Acc treino: 0.5523677843069478\n",
            "Acc teste: 0.5181305398871877\n",
            "Revocação: [0.22877358 0.67421603 0.81958763 0.        ]\n",
            "Precisão: [0.52150538 0.63546798 0.35650224 0.        ]\n",
            "F1_score: [0.52150538 0.63546798 0.35650224 0.        ]\n"
          ]
        },
        {
          "output_type": "stream",
          "name": "stderr",
          "text": [
            "/usr/local/lib/python3.7/dist-packages/sklearn/metrics/_classification.py:1318: UndefinedMetricWarning: Precision is ill-defined and being set to 0.0 in labels with no predicted samples. Use `zero_division` parameter to control this behavior.\n",
            "  _warn_prf(average, modifier, msg_start, len(result))\n",
            "/usr/local/lib/python3.7/dist-packages/sklearn/metrics/_classification.py:1318: UndefinedMetricWarning: Precision is ill-defined and being set to 0.0 in labels with no predicted samples. Use `zero_division` parameter to control this behavior.\n",
            "  _warn_prf(average, modifier, msg_start, len(result))\n"
          ]
        }
      ]
    },
    {
      "cell_type": "code",
      "source": [
        "print('SVM')\n",
        "plot_confusion_matrix(modelRS_svm, X_test, Y_test, cmap='Blues', values_format='.0f');"
      ],
      "metadata": {
        "colab": {
          "base_uri": "https://localhost:8080/",
          "height": 351
        },
        "id": "GXS3lMsNVllj",
        "outputId": "496e7dd6-960c-4723-f714-29a49cf45d70"
      },
      "execution_count": 37,
      "outputs": [
        {
          "output_type": "stream",
          "name": "stdout",
          "text": [
            "SVM\n"
          ]
        },
        {
          "output_type": "stream",
          "name": "stderr",
          "text": [
            "/usr/local/lib/python3.7/dist-packages/sklearn/utils/deprecation.py:87: FutureWarning: Function plot_confusion_matrix is deprecated; Function `plot_confusion_matrix` is deprecated in 1.0 and will be removed in 1.2. Use one of the class methods: ConfusionMatrixDisplay.from_predictions or ConfusionMatrixDisplay.from_estimator.\n",
            "  warnings.warn(msg, category=FutureWarning)\n"
          ]
        },
        {
          "output_type": "display_data",
          "data": {
            "text/plain": [
              "<Figure size 432x288 with 2 Axes>"
            ],
            "image/png": "[encoded data removed]"
          },
          "metadata": {
            "needs_background": "light"
          }
        }
      ]
    },
    {
      "cell_type": "markdown",
      "source": [
        "Como pôde ser visualizado, utilizando os melhores hiper-parâmetros segundo o Randomized Search, o modelo ainda obteve resultados quase sem nenhuma variação em relação ao modelo original, indicando que ambas as buscas por hiper-parâmetros possuem um forte ruído na feature engineering dos dados que compromete o pleno funcionamento do modelo."
      ],
      "metadata": {
        "id": "q4EX1CjyVyBQ"
      }
    }
  ]
}