{
  "cells": [
    {
      "cell_type": "markdown",
      "metadata": {
        "id": "vka3AUA29fN7"
      },
      "source": [
        "\n",
        "#1.0 - Tabela Utilizada no Drive\n",
        "Importando a última tabela disponibilizada pela MEDICINA USP.<br>\n",
        "Nome da Tabela: NEW-BDIPMama-INTELI(1).csv"
      ]
    },
    {
      "cell_type": "code",
      "execution_count": 1,
      "metadata": {
        "colab": {
          "base_uri": "https://localhost:8080/"
        },
        "id": "CA0ZeXbq_7LQ",
        "outputId": "1ea423a2-8cc1-4ede-ffc2-9246ba2dd907"
      },
      "outputs": [
        {
          "output_type": "stream",
          "name": "stdout",
          "text": [
            "Mounted at /content/drive\n"
          ]
        }
      ],
      "source": [
        "from google.colab import drive\n",
        "drive.mount('/content/drive')"
      ]
    },
    {
      "cell_type": "markdown",
      "metadata": {
        "id": "t1u1RC6fityW"
      },
      "source": [
        "## 1.1 - Buscando a tabela e importando as bibliotecas utilizadas"
      ]
    },
    {
      "cell_type": "code",
      "execution_count": 2,
      "metadata": {
        "id": "Q2UlitlYUdPO"
      },
      "outputs": [],
      "source": [
        "import pandas as pd\n",
        "import seaborn as sns\n",
        "from sklearn.metrics import mean_squared_error, mean_absolute_error, r2_score\n",
        "from sklearn.model_selection import train_test_split\n",
        "from sklearn.model_selection import RandomizedSearchCV\n",
        "from sklearn.naive_bayes import GaussianNB\n",
        "from sklearn.tree import DecisionTreeClassifier\n",
        "from sklearn import metrics\n",
        "import matplotlib.pyplot as plt\n",
        "from sklearn.metrics import plot_confusion_matrix\n",
        "from sklearn.tree import plot_tree\n",
        "import matplotlib.pyplot as plt\n",
        "from sklearn import neighbors\n",
        "from sklearn.metrics import classification_report\n",
        "from sklearn.svm import SVC\n",
        "from sklearn.neighbors import KNeighborsClassifier\n",
        "from sklearn.ensemble import RandomForestClassifier\n",
        "from sklearn.tree import DecisionTreeClassifier\n",
        "from sklearn.metrics import precision_score, recall_score, f1_score, accuracy_score, roc_auc_score, plot_confusion_matrix\n",
        "import numpy as np\n",
        "import imblearn as imb"
      ]
    },
    {
      "cell_type": "markdown",
      "metadata": {
        "id": "9jJTT0It8sA_"
      },
      "source": [
        "Nomeei a tabela como tabela_completa"
      ]
    },
    {
      "cell_type": "code",
      "execution_count": 3,
      "metadata": {
        "colab": {
          "base_uri": "https://localhost:8080/"
        },
        "id": "MyuALsHb8uF7",
        "outputId": "470cff37-982c-40a1-acb9-0c3f4d240bdf"
      },
      "outputs": [
        {
          "output_type": "stream",
          "name": "stderr",
          "text": [
            "/usr/local/lib/python3.7/dist-packages/IPython/core/interactiveshell.py:3326: DtypeWarning: Columns (22,24,25,75,76,77,78,89,90,91,92) have mixed types.Specify dtype option on import or set low_memory=False.\n",
            "  exec(code_obj, self.user_global_ns, self.user_ns)\n"
          ]
        }
      ],
      "source": [
        "tabela_completa = pd.read_csv ('/content/drive/MyDrive/DRIVE - USPMedicina/NEW-BDIPMamaV11-INTELI (3).csv',delimiter=\";\")"
      ]
    },
    {
      "cell_type": "markdown",
      "metadata": {
        "id": "y_ZEvvgb67V-"
      },
      "source": [
        "# 2.0 - Observando os dados válidos\n",
        "Para cada coluna da tabela, consultamos com o value_counts(), afim de consultar a quantidade de dados nas colunas, sendo assim, há a consulta para uma primeira seleção da tabela.<br><br>\n",
        "Importante destacar que todas as colunas selecionadas até o momento tem mais de 1/3 dos registros válidos.\n",
        "O restante foi ignorado devido à ausência de registros significativos."
      ]
    },
    {
      "cell_type": "markdown",
      "metadata": {
        "id": "sDMNbDgNTmwS"
      },
      "source": [
        "Exemplificando com a coluna \"redcap_repeat_instrument\" do banco de dados"
      ]
    },
    {
      "cell_type": "code",
      "execution_count": 4,
      "metadata": {
        "colab": {
          "base_uri": "https://localhost:8080/"
        },
        "id": "B2gDI0JYQWyF",
        "outputId": "0f317952-106f-482f-9892-32a6efe4883c"
      },
      "outputs": [
        {
          "output_type": "execute_result",
          "data": {
            "text/plain": [
              "dados_antropometricos          50137\n",
              "dados_histopatologicos_mama     4626\n",
              "registro_de_tumores             4525\n",
              "Name: redcap_repeat_instrument, dtype: int64"
            ]
          },
          "metadata": {},
          "execution_count": 4
        }
      ],
      "source": [
        "tabela_completa['redcap_repeat_instrument'].value_counts()"
      ]
    },
    {
      "cell_type": "code",
      "execution_count": 4,
      "metadata": {
        "id": "3QW9irycTh6X"
      },
      "outputs": [],
      "source": []
    },
    {
      "cell_type": "markdown",
      "metadata": {
        "id": "sqKZV-Fn7Tsy"
      },
      "source": [
        "# 3.0 - Premissas assumidas"
      ]
    },
    {
      "cell_type": "markdown",
      "metadata": {
        "id": "woTJlQP4ANGZ"
      },
      "source": [
        "Assumimos que todos os NaN acima do primeiro dado numérico significa que o dado não foi preenchido no cadastro do paciente, sendo assim, transformaremos este dado nulo em 0.0<br>\n",
        "Para não perder todos os dados da amostra foi preferível substituir os nulos (Nan) pelo número 0.0 até chegar o primeiro exposto na coluna, este foi replicado na coluna abaixo até encontrar o próximo valor válido, segundo orientações docente para o entendimento dos dados. A partir deste momento, lê-se a tabela da seguinte forma:<br>\n",
        "\n",
        "*   Caso observe uma coluna onde o primeiro dado é -1, significa que este é Nan.\n",
        "\n",
        "*   Caso encontre uma coluna onde o primeiro dado é 0, este dado é lido como Não."
      ]
    },
    {
      "cell_type": "markdown",
      "metadata": {
        "id": "wbIk8yTSgyv1"
      },
      "source": [
        "Optamos por renomear a tabela completa, que está no drive, para tabela tratada, a fim de conseguir fazer consultas na tabela completa ao longo do projeto, sem prejudicar a modelagem dos dados que ocorre simultaneamente.<br><br>\n",
        "\n",
        "Utilizamos o comando fillna para buscar na coluna um valor válido e repetir nos dados vazios que iriam se repetir normalmente para o mesmo record_id. Posteriormente,a fim de transformar as string dessa coluna em novas colunas com dados numéricos, especificamente, dados de afirmação (Sim) ou negação (Não), utilizamos o método dummies.\n",
        "\n",
        "Sendo assim, lê-se a tabela da seguinte forma:\n",
        "\n",
        "*   Caso observe uma coluna onde o primeiro dado é -1, significa que este é **Nan**;\n",
        "*   Caso observe uma coluna onde o primeiro dado é 0, significa que este é lido como **Não**;\n",
        "*   Caso Observe uma coluna onde o primeiro dado é 1, significa que este é lido como **Sim**;"
      ]
    },
    {
      "cell_type": "markdown",
      "metadata": {
        "id": "7YYqBNCo4_1Y"
      },
      "source": [
        "Fizemos este comando para a coluna \"redcap_repeat_instrument\" visando replicar a coluna em três dados diferentes, pegando seus respectivos valores e transformando em colunas."
      ]
    },
    {
      "cell_type": "code",
      "execution_count": 5,
      "metadata": {
        "id": "OwKgQR2TtJNu"
      },
      "outputs": [],
      "source": [
        "tabela_trat = tabela_completa.fillna(method='ffill').dropna(subset=['redcap_repeat_instrument']) #Utilizei o fillna com o método ffill para buscar o último valor válido e repetir na linha posterior.\n",
        "tabela_trat['redcap_repeat_instrument'].unique()\n",
        "\n",
        "tabela_tratada = pd.get_dummies(tabela_trat, columns=['redcap_repeat_instrument', 'antec_fam_cancer_mama', 'ultinfo']) #Utilizei o método get_dummies na coluna redcap_repeat_instrument para separar o conteúdo dela em novas colunas no final"
      ]
    },
    {
      "cell_type": "markdown",
      "metadata": {
        "id": "xexVQULDkWk-"
      },
      "source": [
        "A saída esperada é a exclusão da coluna \"redcap_repeat_instrument\", e a criação de três novas colunas, respectivamente:\n",
        "* \"redcap_repeat_instrument_dados_antropometricos\";\n",
        "* \"redcap_repeat_instrument_dados_histopatologicos_mama\"; e \n",
        "* \"redcap_repeat_instrument_registro_de_tumores\".\n",
        "\n",
        "Sendo assim, indicando 1 e 0 nos registros do paciente.<br>\n",
        "\n",
        "Fiz o mesmo processo para a coluna \"antec_fam_cancer_mama\" que indica se há algum familiar com câncer ou não, buscando transformar as string \"Sim\" e \"Não\" em 0 e 1."
      ]
    },
    {
      "cell_type": "markdown",
      "metadata": {
        "id": "I3-_QqhWg52K"
      },
      "source": [
        "Selecionamos as colunas que iremos utilizar, como retiramos as duplicatas com base "
      ]
    },
    {
      "cell_type": "code",
      "execution_count": 6,
      "metadata": {
        "id": "t3PHchCZgqYQ"
      },
      "outputs": [],
      "source": [
        "ta_final = tabela_tratada[['record_id','t','n','m', 'ultinfo_1.0',\t'ultinfo_2.0',\t'ultinfo_3.0',\t'ultinfo_4.0','breast_feeding_time', 'dob','tumor_subtype',\n",
        "                           'antec_fam_cancer_mama_Não','antec_fam_cancer_mama_Sim', 'tempo_rep_hormo','bmi', 'follow_up_days', 'menarche', 'tobaco','alcohol',\n",
        "                           'date_last_fu','familial_degree___1','familial_degree___2','familial_degree___3', 'primary_diganosis','benign']]\n",
        "tabela_final = ta_final.fillna(-1)\n",
        "tabela_final = tabela_final.drop_duplicates(subset='record_id', keep='last', ignore_index=True)"
      ]
    },
    {
      "cell_type": "markdown",
      "metadata": {
        "id": "8AkWmqE3DsDS"
      },
      "source": [
        "# 4.0 - Transformando Colunas\n",
        "Foi necessário transformar a coluna data de nascimento (dob) em idade, visto que será mais fácil saber a idade da paciente quando gerarmos o modelo de predição.<br><br>\n",
        "A data de nascimento foi calculada até a última consulta do mesmo, e não até a data presente. Preferimos demonstrar desta forma devido a não existência da data de óbito no banco de dados, e também, por nos concentrarmos em encontrar a relação da sobrevida do paciente até a ultima consulta.\n",
        "<br><br>\n",
        "Abaixo o código que gera a idade a partir da data de nascimento."
      ]
    },
    {
      "cell_type": "code",
      "execution_count": 7,
      "metadata": {
        "colab": {
          "base_uri": "https://localhost:8080/"
        },
        "id": "N1CeSeIUC3LD",
        "outputId": "a86ffd9c-3b67-44aa-90f4-4ff3fe08c3ad"
      },
      "outputs": [
        {
          "output_type": "stream",
          "name": "stderr",
          "text": [
            "/usr/local/lib/python3.7/dist-packages/ipykernel_launcher.py:19: SettingWithCopyWarning: \n",
            "A value is trying to be set on a copy of a slice from a DataFrame\n",
            "\n",
            "See the caveats in the documentation: https://pandas.pydata.org/pandas-docs/stable/user_guide/indexing.html#returning-a-view-versus-a-copy\n"
          ]
        }
      ],
      "source": [
        "from datetime import datetime, date\n",
        "tabela_final['dob']\n",
        "def pegar_idade(nascimento, _date):\n",
        "  nascimento = datetime.strptime(nascimento,\"%d/%m/%Y\").date()\n",
        "  _date = datetime.strptime(_date,\"%d/%m/%Y\").date()\n",
        "  idade = _date.year - nascimento.year\n",
        "  if(nascimento.month == _date.month and nascimento.day >= _date.year):\n",
        "    idade = idade + 1\n",
        "  elif(nascimento.month > _date.month):\n",
        "    idade = idade + 1\n",
        "  return idade\n",
        "\n",
        "def convertDate(age):\n",
        "  return datetime.strptime(age,\"%d/%m/%Y\").date()\n",
        "tabela_final['dob'].apply(convertDate)\n",
        "tabela_final['date_last_fu'].apply(convertDate)\n",
        "tabela_final['idade'] = \"\"\n",
        "for ind in tabela_final.index:\n",
        "    tabela_final['idade'][ind] = pegar_idade(tabela_final['dob'][ind], tabela_final['date_last_fu'][ind])\n",
        "\n"
      ]
    },
    {
      "cell_type": "markdown",
      "metadata": {
        "id": "dWuJiU2E0vX5"
      },
      "source": [
        "Com o intuito de realizar testes por meio de modelos de classificação, foi necessário transformar a coluna dos dias de sobrevida em um filtro, sendo adotado para essa aplicação uma rotulação de 1 a 4 com base em quartis de modo que os dados pudessem ser melhor enquadrados dentro da aplicação do modelo e evitasse ruídos nos resultados. A seguir, segue o código da função responsável por essa conversão:"
      ]
    },
    {
      "cell_type": "code",
      "execution_count": 8,
      "metadata": {
        "id": "41_n_DlNCDPK"
      },
      "outputs": [],
      "source": [
        "days_since_the_last_tumor = tabela_final.follow_up_days.values\n",
        "tabela_final['class_sobrevida'] = np.nan\n",
        "\n",
        "lower_day = min(days_since_the_last_tumor)\n",
        "max_day = max(days_since_the_last_tumor)\n",
        "\n",
        "\n",
        "quartile = (max_day - lower_day)/4\n",
        "first_quartile = lower_day + quartile\n",
        "second_quartile = lower_day + (2*quartile)\n",
        "third_quartile = lower_day + (3*quartile)\n",
        "\n",
        "i = 0\n",
        "\n",
        "for day in days_since_the_last_tumor:\n",
        "  if day == 0:\n",
        "    tabela_final.loc[i, 'class_sobrevida'] = -1\n",
        "  if day <= first_quartile:\n",
        "    tabela_final.loc[i, 'class_sobrevida'] = 1\n",
        "  elif day <= second_quartile:\n",
        "    tabela_final.loc[i, 'class_sobrevida'] = 2\n",
        "  elif day <= third_quartile:\n",
        "    tabela_final.loc[i, 'class_sobrevida'] = 3\n",
        "  elif day > third_quartile:\n",
        "    tabela_final.loc[i, 'class_sobrevida'] = 4\n",
        "  else:\n",
        "    tabela_final.loc[i, 'class_sobrevida'] = -1\n",
        "  \n",
        "  i += 1"
      ]
    },
    {
      "cell_type": "markdown",
      "metadata": {
        "id": "Rjr3zwvxrPQ1"
      },
      "source": [
        "Após essas alterações e a finalização da manipulação das colunas que recebem dados em formatos de data (dd/mm/aaaa), foi necessário eliminar essas colunas para que essa formatação de dados não interferisse como um ruído no treinamento e aprendizado do modelo."
      ]
    },
    {
      "cell_type": "code",
      "execution_count": 9,
      "metadata": {
        "colab": {
          "base_uri": "https://localhost:8080/"
        },
        "id": "u4RvqwCFXuAO",
        "outputId": "d76e2957-1284-4cbc-9194-330cecc31142"
      },
      "outputs": [
        {
          "output_type": "execute_result",
          "data": {
            "text/plain": [
              "0       01/01/2021\n",
              "1       26/04/2014\n",
              "2       17/11/2016\n",
              "3       02/05/2019\n",
              "4       24/05/2017\n",
              "           ...    \n",
              "4129    03/04/2021\n",
              "4130    22/06/2021\n",
              "4131    11/08/2021\n",
              "4132    10/10/2021\n",
              "4133    13/05/2021\n",
              "Name: date_last_fu, Length: 4134, dtype: object"
            ]
          },
          "metadata": {},
          "execution_count": 9
        }
      ],
      "source": [
        "tabela_final.pop('dob')\n",
        "tabela_final.pop('date_last_fu')"
      ]
    },
    {
      "cell_type": "markdown",
      "metadata": {
        "id": "uCIx2RymsCqG"
      },
      "source": [
        "A seguir foi realizada apenas uma visualização da variável de saída do modelo para compreender como os dados estavam distribuídos dentro dessa coluna."
      ]
    },
    {
      "cell_type": "code",
      "execution_count": 10,
      "metadata": {
        "colab": {
          "base_uri": "https://localhost:8080/"
        },
        "id": "JVkx4_7mZB1Y",
        "outputId": "c5f16045-91cb-4659-ddd1-eedf99f95ba0"
      },
      "outputs": [
        {
          "output_type": "execute_result",
          "data": {
            "text/plain": [
              "2.0    1935\n",
              "1.0    1432\n",
              "3.0     623\n",
              "4.0     144\n",
              "Name: class_sobrevida, dtype: int64"
            ]
          },
          "metadata": {},
          "execution_count": 10
        }
      ],
      "source": [
        "tabela_final['class_sobrevida'].value_counts()"
      ]
    },
    {
      "cell_type": "markdown",
      "metadata": {
        "id": "50Of2Zx15D43"
      },
      "source": [
        "Com a finalidade de facilitar a visualização e compreensão das colunas utilizadas no modelo, foi necessário renomear algumas Features, que podem ser visualizadas no código abaixo:"
      ]
    },
    {
      "cell_type": "code",
      "execution_count": 11,
      "metadata": {
        "id": "9CluN1q2ZjYK"
      },
      "outputs": [],
      "source": [
        "tabela_final.rename({'ultinfo_1.0':'ultinfo_1','ultinfo_2.0':'ultinfo_2',\n",
        "                     'ultinfo_3.0':'ultinfo_3', 'ultinfo_4.0':'ultinfo_4',\n",
        "                     'record_id':'pacientes', 't':'tumor', 'n':'nodulo',\n",
        "                     'm':'metastese', 'breast_feeding_time':'tempo_de_amamentacao',\n",
        "                     'dob':'data_de_nascimento', 'tobaco':'fumante', 'alcohol':'alcolatra',\n",
        "                     'date_last_fu':'data_ultima_consulta', 'familial_degree___1':'grau_parentesco_1',\n",
        "                     'familial_degree___2':'grau_parentesco_2', 'familial_degree___3':'grau_parentesco_3',\n",
        "                     'primary_diganosis':'tipo_tumor', 'tumor_subtype':'subtipo_tumoral',\n",
        "                     'menarche':'primeira_menstruacao', 'bmi':'IMC', \n",
        "                     'benign':'benigno/maligno'}, axis='columns', inplace=True)"
      ]
    },
    {
      "cell_type": "markdown",
      "metadata": {
        "id": "NwjTkqjHbgZe"
      },
      "source": [
        "Na célula abaixo, foi realizada a exportação da tabela já tratada no formato csv, que será usada futuramente para o treinamento e teste do modelos preditivos."
      ]
    },
    {
      "cell_type": "code",
      "execution_count": 12,
      "metadata": {
        "colab": {
          "base_uri": "https://localhost:8080/"
        },
        "id": "v_q-LeSzIlZ5",
        "outputId": "55dd1abd-003c-4c62-ceea-6169985e8a2d"
      },
      "outputs": [
        {
          "output_type": "stream",
          "name": "stdout",
          "text": [
            "Looking in indexes: https://pypi.org/simple, https://us-python.pkg.dev/colab-wheels/public/simple/\n",
            "Requirement already satisfied: openpyxl in /usr/local/lib/python3.7/dist-packages (3.0.10)\n",
            "Requirement already satisfied: et-xmlfile in /usr/local/lib/python3.7/dist-packages (from openpyxl) (1.1.0)\n"
          ]
        }
      ],
      "source": [
        "#exportação da tabela manipulada para um arquivo .xlsx (excel)\n",
        "! pip install openpyxl\n",
        "tabela_final.to_csv('tabela_tratada.csv')"
      ]
    }
  ],
  "metadata": {
    "colab": {
      "collapsed_sections": [
        "y_ZEvvgb67V-",
        "wcLUKPjr1i_3",
        "MpqpVdNUtQ7R"
      ],
      "provenance": [],
      "toc_visible": true
    },
    "kernelspec": {
      "display_name": "Python 3",
      "name": "python3"
    },
    "language_info": {
      "name": "python"
    }
  },
  "nbformat": 4,
  "nbformat_minor": 0
}