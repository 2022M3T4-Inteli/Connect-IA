{
  "nbformat": 4,
  "nbformat_minor": 0,
  "metadata": {
    "colab": {
      "provenance": [],
      "collapsed_sections": [
        "y_ZEvvgb67V-",
        "wcLUKPjr1i_3",
        "MpqpVdNUtQ7R"
      ],
      "toc_visible": true
    },
    "kernelspec": {
      "name": "python3",
      "display_name": "Python 3"
    },
    "language_info": {
      "name": "python"
    }
  },
  "cells": [
    {
      "cell_type": "markdown",
      "source": [
        "\n",
        "#1.0 - Tabela Utilizada no Drive\n",
        "\n",
        "Estou utilizando a ultima tabela disponibilizada pela MEDICINA USP.<br>\n",
        "Nome da Tabela: NEW-BDIPMama-INTELI(1).csv"
      ],
      "metadata": {
        "id": "vka3AUA29fN7"
      }
    },
    {
      "cell_type": "code",
      "source": [
        "from google.colab import drive\n",
        "drive.mount('/content/drive')"
      ],
      "metadata": {
        "id": "CA0ZeXbq_7LQ",
        "colab": {
          "base_uri": "https://localhost:8080/"
        },
        "outputId": "02277428-ca4b-4cd1-e870-b8c7aa16e1b7"
      },
      "execution_count": 72,
      "outputs": [
        {
          "output_type": "stream",
          "name": "stdout",
          "text": [
            "Drive already mounted at /content/drive; to attempt to forcibly remount, call drive.mount(\"/content/drive\", force_remount=True).\n"
          ]
        }
      ]
    },
    {
      "cell_type": "markdown",
      "source": [
        "## 1.1 - Buscando a tabela e importando as bibliotecas utilizadas"
      ],
      "metadata": {
        "id": "t1u1RC6fityW"
      }
    },
    {
      "cell_type": "code",
      "source": [
        "import pandas as pd\n",
        "import seaborn as sns\n",
        "from sklearn.metrics import mean_squared_error, mean_absolute_error, r2_score\n",
        "from sklearn.model_selection import train_test_split\n",
        "from sklearn.model_selection import RandomizedSearchCV\n",
        "from sklearn.naive_bayes import GaussianNB\n",
        "from sklearn.tree import DecisionTreeClassifier\n",
        "from sklearn import metrics\n",
        "import matplotlib.pyplot as plt\n",
        "from sklearn.metrics import plot_confusion_matrix\n",
        "from sklearn.tree import plot_tree\n",
        "import matplotlib.pyplot as plt\n",
        "from sklearn import neighbors\n",
        "from sklearn.metrics import classification_report\n",
        "from sklearn.svm import SVC\n",
        "from sklearn.neighbors import KNeighborsClassifier\n",
        "from sklearn.ensemble import RandomForestClassifier\n",
        "from sklearn.tree import DecisionTreeClassifier\n",
        "from sklearn.metrics import precision_score, recall_score, f1_score, accuracy_score, roc_auc_score, plot_confusion_matrix\n",
        "import numpy as np\n",
        "import imblearn as imb"
      ],
      "metadata": {
        "id": "Q2UlitlYUdPO"
      },
      "execution_count": 73,
      "outputs": []
    },
    {
      "cell_type": "markdown",
      "source": [
        "Nomeei a tabela como tabela_completa"
      ],
      "metadata": {
        "id": "9jJTT0It8sA_"
      }
    },
    {
      "cell_type": "code",
      "source": [
        "tabela_completa = pd.read_csv ('/content/drive/MyDrive/DRIVE - USPMedicina/NEW-BDIPMamaV11-INTELI (3).csv',delimiter=\";\")"
      ],
      "metadata": {
        "id": "MyuALsHb8uF7"
      },
      "execution_count": 74,
      "outputs": []
    },
    {
      "cell_type": "code",
      "source": [
        "tabela_completa['redcap_repeat_instrument'].value_counts()"
      ],
      "metadata": {
        "id": "B2gDI0JYQWyF",
        "colab": {
          "base_uri": "https://localhost:8080/"
        },
        "outputId": "da1023cc-304b-4d7d-cb10-7f825f80fecb"
      },
      "execution_count": 75,
      "outputs": [
        {
          "output_type": "execute_result",
          "data": {
            "text/plain": [
              "dados_antropometricos          50137\n",
              "dados_histopatologicos_mama     4626\n",
              "registro_de_tumores             4525\n",
              "Name: redcap_repeat_instrument, dtype: int64"
            ]
          },
          "metadata": {},
          "execution_count": 75
        }
      ]
    },
    {
      "cell_type": "markdown",
      "source": [
        "# 2.0 - Observando os dados válidos\n",
        "Para cada coluna da tabela, consultamos com o value_counts(), afim de consultar a quantidade de dados nas colunas, sendo assim, há a consulta para uma primeira seleção da tabela.<br><br>\n",
        "Importante destacar que todas as colunas selecionadas até o momento tem mais de 1/3 dos registros válidos.\n",
        "O restante foi ignorado devido à ausência de registros significativos."
      ],
      "metadata": {
        "id": "y_ZEvvgb67V-"
      }
    },
    {
      "cell_type": "markdown",
      "source": [
        "# 3.0 - Premissas assumidas"
      ],
      "metadata": {
        "id": "sqKZV-Fn7Tsy"
      }
    },
    {
      "cell_type": "markdown",
      "source": [
        "Assumimos que todos os NaN acima do primeiro dado numérico significa que o dado não foi preenchido no cadastro do paciente, sendo assim, transformaremos este dado nulo em 0.0<br>\n",
        "Para não perder todos os dados da amostra foi preferível substituir os nulos (Nan) pelo número 0.0 até chegar o primeiro exposto na coluna, este foi replicado na coluna abaixo até encontrar o próximo valor válido, segundo orientações docente para o entendimento dos dados. A partir deste momento, lê-se a tabela da seguinte forma:<br>\n",
        "\n",
        "*   Caso observe uma coluna onde o primeiro dado é -1, significa que este é Nan.\n",
        "\n",
        "*   Caso encontre uma coluna onde o primeiro dado é 0, este dado é lido como Não."
      ],
      "metadata": {
        "id": "woTJlQP4ANGZ"
      }
    },
    {
      "cell_type": "markdown",
      "source": [
        "Optamos por renomear a tabela completa, que está no drive, para tabela tratada, a fim de conseguir fazer consultas na tabela completa ao longo do projeto, sem prejudicar a modelagem dos dados que ocorre simultaneamente.<br><br>\n",
        "\n",
        "Utilizamos o comando fillna para buscar na coluna um valor válido e repetir nos dados vazios que iriam se repetir normalmente para o mesmo record_id. Posteriormente,a fim de transformar as string dessa coluna em novas colunas com dados numéricos, especificamente, dados de afirmação (Sim) ou negação (Não), utilizamos o método dummies.\n",
        "\n",
        "Sendo assim, lê-se a tabela da seguinte forma:\n",
        "\n",
        "*   Caso observe uma coluna onde o primeiro dado é -1, significa que este é **Nan**;\n",
        "*   Caso observe uma coluna onde o primeiro dado é 0, significa que este é lido como **Não**;\n",
        "*   Caso Observe uma coluna onde o primeiro dado é 1, significa que este é lido como **Sim**;"
      ],
      "metadata": {
        "id": "wbIk8yTSgyv1"
      }
    },
    {
      "cell_type": "markdown",
      "source": [
        "Fizemos este comando para a coluna \"redcap_repeat_instrument\" visando replicar a coluna em três dados diferentes, pegando seus respectivos valores e transformando em colunas."
      ],
      "metadata": {
        "id": "7YYqBNCo4_1Y"
      }
    },
    {
      "cell_type": "code",
      "source": [
        "tabela_trat = tabela_completa.fillna(method='ffill').dropna(subset=['redcap_repeat_instrument']) #Utilizei o fillna com o método ffill para buscar o último valor válido e repetir na linha posterior.\n",
        "tabela_trat['redcap_repeat_instrument'].unique()\n",
        "\n",
        "tabela_tratada = pd.get_dummies(tabela_trat, columns=['redcap_repeat_instrument', 'antec_fam_cancer_mama', 'ultinfo']) #Utilizei o método get_dummies na coluna redcap_repeat_instrument para separar o conteúdo dela em novas colunas no final"
      ],
      "metadata": {
        "id": "OwKgQR2TtJNu"
      },
      "execution_count": 76,
      "outputs": []
    },
    {
      "cell_type": "markdown",
      "source": [
        "A saída esperada é a exclusão da coluna \"redcap_repeat_instrument\", e a criação de três novas colunas, respectivamente:\n",
        "* \"redcap_repeat_instrument_dados_antropometricos\";\n",
        "* \"redcap_repeat_instrument_dados_histopatologicos_mama\"; e \n",
        "* \"redcap_repeat_instrument_registro_de_tumores\".\n",
        "\n",
        "Sendo assim, indicando 1 e 0 nos registros do paciente.<br>\n",
        "\n",
        "Fiz o mesmo processo para a coluna \"antec_fam_cancer_mama\" que indica se há algum familiar com câncer ou não, buscando transformar as string \"Sim\" e \"Não\" em 0 e 1."
      ],
      "metadata": {
        "id": "xexVQULDkWk-"
      }
    },
    {
      "cell_type": "markdown",
      "source": [
        "Selecionamos as colunas que iremos utilizar, como retiramos as duplicatas com base "
      ],
      "metadata": {
        "id": "I3-_QqhWg52K"
      }
    },
    {
      "cell_type": "code",
      "source": [
        "ta_final = tabela_tratada[['record_id','t','n','m', 'ultinfo_1.0',\t'ultinfo_2.0',\t'ultinfo_3.0',\t'ultinfo_4.0','breast_feeding_time', 'dob','tumor_subtype',\n",
        "                           'antec_fam_cancer_mama_Não','antec_fam_cancer_mama_Sim', 'tempo_rep_hormo','bmi', 'follow_up_days', 'menarche', 'tobaco','alcohol',\n",
        "                           'date_last_fu','familial_degree___1','familial_degree___2','familial_degree___3', 'primary_diganosis','benign']]\n",
        "tabela_final = ta_final.fillna(-1)\n",
        "tabela_final = tabela_final.drop_duplicates(subset='record_id', keep='last', ignore_index=True)"
      ],
      "metadata": {
        "id": "t3PHchCZgqYQ"
      },
      "execution_count": 77,
      "outputs": []
    },
    {
      "cell_type": "markdown",
      "source": [
        "# 4.0 - Transformando Colunas\n",
        "Foi necessário transformar a coluna data de nascimento (dob) em idade, visto que será mais fácil saber a idade da paciente quando gerarmos o modelo de predição.<br><br>\n",
        "A data de nascimento foi calculada até a última consulta do mesmo, e não até a data presente. Preferimos demonstrar desta forma devido a não existência da data de óbito no banco de dados, e também, por nos concentrarmos em encontrar a relação da sobrevida do paciente até a ultima consulta.\n",
        "<br><br>\n",
        "Abaixo o código que gera a idade a partir da data de nascimento."
      ],
      "metadata": {
        "id": "8AkWmqE3DsDS"
      }
    },
    {
      "cell_type": "code",
      "source": [
        "from datetime import datetime, date\n",
        "tabela_final['dob']\n",
        "def pegar_idade(nascimento, _date):\n",
        "  nascimento = datetime.strptime(nascimento,\"%d/%m/%Y\").date()\n",
        "  _date = datetime.strptime(_date,\"%d/%m/%Y\").date()\n",
        "  idade = _date.year - nascimento.year\n",
        "  if(nascimento.month == _date.month and nascimento.day >= _date.year):\n",
        "    idade = idade + 1\n",
        "  elif(nascimento.month > _date.month):\n",
        "    idade = idade + 1\n",
        "  return idade\n",
        "\n",
        "def convertDate(age):\n",
        "  return datetime.strptime(age,\"%d/%m/%Y\").date()\n",
        "tabela_final['dob'].apply(convertDate)\n",
        "tabela_final['date_last_fu'].apply(convertDate)\n",
        "tabela_final['idade'] = \"\"\n",
        "for ind in tabela_final.index:\n",
        "    tabela_final['idade'][ind] = pegar_idade(tabela_final['dob'][ind], tabela_final['date_last_fu'][ind])\n",
        "\n"
      ],
      "metadata": {
        "id": "N1CeSeIUC3LD",
        "colab": {
          "base_uri": "https://localhost:8080/"
        },
        "outputId": "956053b3-c025-4a6d-f511-c8eaeedf16f7"
      },
      "execution_count": 78,
      "outputs": [
        {
          "output_type": "stream",
          "name": "stderr",
          "text": [
            "/usr/local/lib/python3.7/dist-packages/ipykernel_launcher.py:19: SettingWithCopyWarning: \n",
            "A value is trying to be set on a copy of a slice from a DataFrame\n",
            "\n",
            "See the caveats in the documentation: https://pandas.pydata.org/pandas-docs/stable/user_guide/indexing.html#returning-a-view-versus-a-copy\n"
          ]
        }
      ]
    },
    {
      "cell_type": "markdown",
      "source": [
        "Com o intuito de realizar testes por meio de modelos de classificação, foi necessário transformar a coluna dos dias de sobrevida em um filtro, sendo adotado para essa aplicação uma rotulação de 1 a 4 com base em quartis de modo que os dados pudessem ser melhor enquadrados dentro da aplicação do modelo e evitasse ruídos nos resultados. A seguir, segue o código da função responsável por essa conversão:"
      ],
      "metadata": {
        "id": "dWuJiU2E0vX5"
      }
    },
    {
      "cell_type": "code",
      "source": [
        "days_since_the_last_tumor = tabela_final.follow_up_days.values\n",
        "tabela_final['class_sobrevida'] = np.nan\n",
        "\n",
        "lower_day = min(days_since_the_last_tumor)\n",
        "max_day = max(days_since_the_last_tumor)\n",
        "\n",
        "\n",
        "quartile = (max_day - lower_day)/4\n",
        "first_quartile = lower_day + quartile\n",
        "second_quartile = lower_day + (2*quartile)\n",
        "third_quartile = lower_day + (3*quartile)\n",
        "\n",
        "i = 0\n",
        "\n",
        "for day in days_since_the_last_tumor:\n",
        "  if day == 0:\n",
        "    tabela_final.loc[i, 'class_sobrevida'] = -1\n",
        "  if day <= first_quartile:\n",
        "    tabela_final.loc[i, 'class_sobrevida'] = 1\n",
        "  elif day <= second_quartile:\n",
        "    tabela_final.loc[i, 'class_sobrevida'] = 2\n",
        "  elif day <= third_quartile:\n",
        "    tabela_final.loc[i, 'class_sobrevida'] = 3\n",
        "  elif day > third_quartile:\n",
        "    tabela_final.loc[i, 'class_sobrevida'] = 4\n",
        "  else:\n",
        "    tabela_final.loc[i, 'class_sobrevida'] = -1\n",
        "  \n",
        "  i += 1"
      ],
      "metadata": {
        "id": "41_n_DlNCDPK"
      },
      "execution_count": 80,
      "outputs": []
    },
    {
      "cell_type": "markdown",
      "source": [
        "Após essas alterações e a finalização da manipulação das colunas que recebem dados em formatos de data (dd/mm/aaaa), foi necessário eliminar essas colunas para que essa formatação de dados não interferisse como um ruído no treinamento e aprendizado do modelo."
      ],
      "metadata": {
        "id": "Rjr3zwvxrPQ1"
      }
    },
    {
      "cell_type": "code",
      "source": [
        "df_filtered.pop('dob')\n",
        "df_filtered.pop('date_last_fu')"
      ],
      "metadata": {
        "id": "u4RvqwCFXuAO",
        "colab": {
          "base_uri": "https://localhost:8080/"
        },
        "outputId": "903b8bfd-c1b5-4587-d543-ad0ea77b3fe7"
      },
      "execution_count": 83,
      "outputs": [
        {
          "output_type": "execute_result",
          "data": {
            "text/plain": [
              "0       01/01/2021\n",
              "1       26/04/2014\n",
              "2       17/11/2016\n",
              "3       02/05/2019\n",
              "4       24/05/2017\n",
              "           ...    \n",
              "4129    03/04/2021\n",
              "4130    22/06/2021\n",
              "4131    11/08/2021\n",
              "4132    10/10/2021\n",
              "4133    13/05/2021\n",
              "Name: date_last_fu, Length: 4134, dtype: object"
            ]
          },
          "metadata": {},
          "execution_count": 83
        }
      ]
    },
    {
      "cell_type": "markdown",
      "source": [
        "A seguir foi realizada apenas uma visualização da variável de saída do modelo para compreender como os dados estavam distribuídos dentro dessa coluna."
      ],
      "metadata": {
        "id": "uCIx2RymsCqG"
      }
    },
    {
      "cell_type": "code",
      "source": [
        "df_filtered['class_sobrevida'].value_counts()"
      ],
      "metadata": {
        "id": "JVkx4_7mZB1Y",
        "colab": {
          "base_uri": "https://localhost:8080/"
        },
        "outputId": "2ae0022f-631e-4d30-a3a7-59b8a27a7229"
      },
      "execution_count": 85,
      "outputs": [
        {
          "output_type": "execute_result",
          "data": {
            "text/plain": [
              "2.0    1935\n",
              "1.0    1432\n",
              "3.0     623\n",
              "4.0     144\n",
              "Name: class_sobrevida, dtype: int64"
            ]
          },
          "metadata": {},
          "execution_count": 85
        }
      ]
    },
    {
      "cell_type": "markdown",
      "source": [
        "Com a finalidade de facilitar a visualização e compreensão das colunas utilizadas no modelo, foi necessário renomear algumas Features, que podem ser visualizadas no código abaixo:"
      ],
      "metadata": {
        "id": "50Of2Zx15D43"
      }
    },
    {
      "cell_type": "code",
      "source": [
        "df_filtered.rename({'ultinfo_1.0':'ultinfo_1','ultinfo_2.0':'ultinfo_2',\n",
        "                     'ultinfo_3.0':'ultinfo_3', 'ultinfo_4.0':'ultinfo_4',\n",
        "                     'record_id':'pacientes', 't':'tumor', 'n':'nodulo',\n",
        "                     'm':'metastese', 'breast_feeding_time':'tempo_de_amamentacao',\n",
        "                     'dob':'data_de_nascimento', 'tobaco':'fumante', 'alcohol':'alcolatra',\n",
        "                     'date_last_fu':'data_ultima_consulta', 'familial_degree___1':'grau_parentesco_1',\n",
        "                     'familial_degree___2':'grau_parentesco_2', 'familial_degree___3':'grau_parentesco_3',\n",
        "                     'primary_diganosis':'tipo_tumor', 'tumor_subtype':'subtipo_tumoral',\n",
        "                     'menarche':'primeira_menstruacao', 'bmi':'IMC', \n",
        "                     'benign':'benigno/maligno'}, axis='columns', inplace=True)"
      ],
      "metadata": {
        "id": "9CluN1q2ZjYK"
      },
      "execution_count": 86,
      "outputs": []
    },
    {
      "cell_type": "markdown",
      "source": [
        "Foi utilizado o método query para pegar apenas a ultima informação dos pacientes que já foram a óbito por Câncer, para que seja possível conferir com o mínimo de viés possível os dados, pois partimos do suposto que os dados dos que morreram com Câncer ."
      ],
      "metadata": {
        "id": "5kHwfWre7A9E"
      }
    },
    {
      "cell_type": "code",
      "source": [
        "x_inter3 = df_filtered.query('ultinfo_3==1')\n",
        "x_inter3"
      ],
      "metadata": {
        "id": "x1n1i7n0aosF",
        "colab": {
          "base_uri": "https://localhost:8080/",
          "height": 488
        },
        "outputId": "72572adf-cd7b-45a3-d5aa-c6ca665e47bd"
      },
      "execution_count": 87,
      "outputs": [
        {
          "output_type": "execute_result",
          "data": {
            "text/plain": [
              "      pacientes  tumor  nodulo  metastese  ultinfo_1  ultinfo_2  ultinfo_3  \\\n",
              "5          1705    1.0     1.0        0.0          0          0          1   \n",
              "8          1898    4.0     2.0        1.0          0          0          1   \n",
              "12         2016    3.0     3.0        0.0          0          0          1   \n",
              "19         2350    3.0     2.0        0.0          0          0          1   \n",
              "20         2370    2.0     1.0        0.0          0          0          1   \n",
              "...         ...    ...     ...        ...        ...        ...        ...   \n",
              "4054      79944   42.0     1.0        0.0          0          0          1   \n",
              "4069      80274    3.0     1.0        0.0          0          0          1   \n",
              "4080      80930    3.0     1.0        0.0          0          0          1   \n",
              "4111      81873   42.0     1.0        1.0          0          0          1   \n",
              "4118      81965   44.0     2.0        1.0          0          0          1   \n",
              "\n",
              "      ultinfo_4  tempo_de_amamentacao  subtipo_tumoral  ...  \\\n",
              "5             0                  -1.0              4.0  ...   \n",
              "8             0                  -1.0              3.0  ...   \n",
              "12            0                  -1.0              3.0  ...   \n",
              "19            0                  -1.0              3.0  ...   \n",
              "20            0                  -1.0              3.0  ...   \n",
              "...         ...                   ...              ...  ...   \n",
              "4054          0                  12.0              4.0  ...   \n",
              "4069          0                  24.0              4.0  ...   \n",
              "4080          0                  60.0              4.0  ...   \n",
              "4111          0                   6.0              4.0  ...   \n",
              "4118          0                  29.0              4.0  ...   \n",
              "\n",
              "      primeira_menstruacao  fumante  alcolatra  grau_parentesco_1  \\\n",
              "5                     -1.0      2.0        2.0                0.0   \n",
              "8                     -1.0      2.0        2.0                0.0   \n",
              "12                    -1.0      2.0        2.0                0.0   \n",
              "19                    -1.0      2.0        2.0                0.0   \n",
              "20                    -1.0      2.0        2.0                0.0   \n",
              "...                    ...      ...        ...                ...   \n",
              "4054                   9.0      3.0        3.0                1.0   \n",
              "4069                  12.0      2.0        2.0                0.0   \n",
              "4080                  13.0      2.0        2.0                0.0   \n",
              "4111                  13.0      2.0        2.0                0.0   \n",
              "4118                  13.0      2.0        2.0                0.0   \n",
              "\n",
              "      grau_parentesco_2  grau_parentesco_3  tipo_tumor  benigno/maligno  \\\n",
              "5                   0.0                0.0         2.0              2.0   \n",
              "8                   0.0                0.0         2.0              2.0   \n",
              "12                  0.0                0.0         2.0              2.0   \n",
              "19                  0.0                0.0         2.0              2.0   \n",
              "20                  0.0                0.0         2.0              2.0   \n",
              "...                 ...                ...         ...              ...   \n",
              "4054                1.0                0.0         2.0              2.0   \n",
              "4069                0.0                0.0         2.0              2.0   \n",
              "4080                0.0                0.0         2.0              2.0   \n",
              "4111                0.0                0.0         2.0              2.0   \n",
              "4118                0.0                0.0         2.0              2.0   \n",
              "\n",
              "      idade  class_sobrevida  \n",
              "5        51              2.0  \n",
              "8        63              1.0  \n",
              "12       45              2.0  \n",
              "19       74              1.0  \n",
              "20       51              1.0  \n",
              "...     ...              ...  \n",
              "4054     37              1.0  \n",
              "4069     34              1.0  \n",
              "4080     62              1.0  \n",
              "4111     62              1.0  \n",
              "4118     63              1.0  \n",
              "\n",
              "[870 rows x 25 columns]"
            ],
            "text/html": [
              "\n",
              "  <div id=\"df-6c3c2ebe-2244-41a1-b516-ab37f932c9e5\">\n",
              "    <div class=\"colab-df-container\">\n",
              "      <div>\n",
              "<style scoped>\n",
              "    .dataframe tbody tr th:only-of-type {\n",
              "        vertical-align: middle;\n",
              "    }\n",
              "\n",
              "    .dataframe tbody tr th {\n",
              "        vertical-align: top;\n",
              "    }\n",
              "\n",
              "    .dataframe thead th {\n",
              "        text-align: right;\n",
              "    }\n",
              "</style>\n",
              "<table border=\"1\" class=\"dataframe\">\n",
              "  <thead>\n",
              "    <tr style=\"text-align: right;\">\n",
              "      <th></th>\n",
              "      <th>pacientes</th>\n",
              "      <th>tumor</th>\n",
              "      <th>nodulo</th>\n",
              "      <th>metastese</th>\n",
              "      <th>ultinfo_1</th>\n",
              "      <th>ultinfo_2</th>\n",
              "      <th>ultinfo_3</th>\n",
              "      <th>ultinfo_4</th>\n",
              "      <th>tempo_de_amamentacao</th>\n",
              "      <th>subtipo_tumoral</th>\n",
              "      <th>...</th>\n",
              "      <th>primeira_menstruacao</th>\n",
              "      <th>fumante</th>\n",
              "      <th>alcolatra</th>\n",
              "      <th>grau_parentesco_1</th>\n",
              "      <th>grau_parentesco_2</th>\n",
              "      <th>grau_parentesco_3</th>\n",
              "      <th>tipo_tumor</th>\n",
              "      <th>benigno/maligno</th>\n",
              "      <th>idade</th>\n",
              "      <th>class_sobrevida</th>\n",
              "    </tr>\n",
              "  </thead>\n",
              "  <tbody>\n",
              "    <tr>\n",
              "      <th>5</th>\n",
              "      <td>1705</td>\n",
              "      <td>1.0</td>\n",
              "      <td>1.0</td>\n",
              "      <td>0.0</td>\n",
              "      <td>0</td>\n",
              "      <td>0</td>\n",
              "      <td>1</td>\n",
              "      <td>0</td>\n",
              "      <td>-1.0</td>\n",
              "      <td>4.0</td>\n",
              "      <td>...</td>\n",
              "      <td>-1.0</td>\n",
              "      <td>2.0</td>\n",
              "      <td>2.0</td>\n",
              "      <td>0.0</td>\n",
              "      <td>0.0</td>\n",
              "      <td>0.0</td>\n",
              "      <td>2.0</td>\n",
              "      <td>2.0</td>\n",
              "      <td>51</td>\n",
              "      <td>2.0</td>\n",
              "    </tr>\n",
              "    <tr>\n",
              "      <th>8</th>\n",
              "      <td>1898</td>\n",
              "      <td>4.0</td>\n",
              "      <td>2.0</td>\n",
              "      <td>1.0</td>\n",
              "      <td>0</td>\n",
              "      <td>0</td>\n",
              "      <td>1</td>\n",
              "      <td>0</td>\n",
              "      <td>-1.0</td>\n",
              "      <td>3.0</td>\n",
              "      <td>...</td>\n",
              "      <td>-1.0</td>\n",
              "      <td>2.0</td>\n",
              "      <td>2.0</td>\n",
              "      <td>0.0</td>\n",
              "      <td>0.0</td>\n",
              "      <td>0.0</td>\n",
              "      <td>2.0</td>\n",
              "      <td>2.0</td>\n",
              "      <td>63</td>\n",
              "      <td>1.0</td>\n",
              "    </tr>\n",
              "    <tr>\n",
              "      <th>12</th>\n",
              "      <td>2016</td>\n",
              "      <td>3.0</td>\n",
              "      <td>3.0</td>\n",
              "      <td>0.0</td>\n",
              "      <td>0</td>\n",
              "      <td>0</td>\n",
              "      <td>1</td>\n",
              "      <td>0</td>\n",
              "      <td>-1.0</td>\n",
              "      <td>3.0</td>\n",
              "      <td>...</td>\n",
              "      <td>-1.0</td>\n",
              "      <td>2.0</td>\n",
              "      <td>2.0</td>\n",
              "      <td>0.0</td>\n",
              "      <td>0.0</td>\n",
              "      <td>0.0</td>\n",
              "      <td>2.0</td>\n",
              "      <td>2.0</td>\n",
              "      <td>45</td>\n",
              "      <td>2.0</td>\n",
              "    </tr>\n",
              "    <tr>\n",
              "      <th>19</th>\n",
              "      <td>2350</td>\n",
              "      <td>3.0</td>\n",
              "      <td>2.0</td>\n",
              "      <td>0.0</td>\n",
              "      <td>0</td>\n",
              "      <td>0</td>\n",
              "      <td>1</td>\n",
              "      <td>0</td>\n",
              "      <td>-1.0</td>\n",
              "      <td>3.0</td>\n",
              "      <td>...</td>\n",
              "      <td>-1.0</td>\n",
              "      <td>2.0</td>\n",
              "      <td>2.0</td>\n",
              "      <td>0.0</td>\n",
              "      <td>0.0</td>\n",
              "      <td>0.0</td>\n",
              "      <td>2.0</td>\n",
              "      <td>2.0</td>\n",
              "      <td>74</td>\n",
              "      <td>1.0</td>\n",
              "    </tr>\n",
              "    <tr>\n",
              "      <th>20</th>\n",
              "      <td>2370</td>\n",
              "      <td>2.0</td>\n",
              "      <td>1.0</td>\n",
              "      <td>0.0</td>\n",
              "      <td>0</td>\n",
              "      <td>0</td>\n",
              "      <td>1</td>\n",
              "      <td>0</td>\n",
              "      <td>-1.0</td>\n",
              "      <td>3.0</td>\n",
              "      <td>...</td>\n",
              "      <td>-1.0</td>\n",
              "      <td>2.0</td>\n",
              "      <td>2.0</td>\n",
              "      <td>0.0</td>\n",
              "      <td>0.0</td>\n",
              "      <td>0.0</td>\n",
              "      <td>2.0</td>\n",
              "      <td>2.0</td>\n",
              "      <td>51</td>\n",
              "      <td>1.0</td>\n",
              "    </tr>\n",
              "    <tr>\n",
              "      <th>...</th>\n",
              "      <td>...</td>\n",
              "      <td>...</td>\n",
              "      <td>...</td>\n",
              "      <td>...</td>\n",
              "      <td>...</td>\n",
              "      <td>...</td>\n",
              "      <td>...</td>\n",
              "      <td>...</td>\n",
              "      <td>...</td>\n",
              "      <td>...</td>\n",
              "      <td>...</td>\n",
              "      <td>...</td>\n",
              "      <td>...</td>\n",
              "      <td>...</td>\n",
              "      <td>...</td>\n",
              "      <td>...</td>\n",
              "      <td>...</td>\n",
              "      <td>...</td>\n",
              "      <td>...</td>\n",
              "      <td>...</td>\n",
              "      <td>...</td>\n",
              "    </tr>\n",
              "    <tr>\n",
              "      <th>4054</th>\n",
              "      <td>79944</td>\n",
              "      <td>42.0</td>\n",
              "      <td>1.0</td>\n",
              "      <td>0.0</td>\n",
              "      <td>0</td>\n",
              "      <td>0</td>\n",
              "      <td>1</td>\n",
              "      <td>0</td>\n",
              "      <td>12.0</td>\n",
              "      <td>4.0</td>\n",
              "      <td>...</td>\n",
              "      <td>9.0</td>\n",
              "      <td>3.0</td>\n",
              "      <td>3.0</td>\n",
              "      <td>1.0</td>\n",
              "      <td>1.0</td>\n",
              "      <td>0.0</td>\n",
              "      <td>2.0</td>\n",
              "      <td>2.0</td>\n",
              "      <td>37</td>\n",
              "      <td>1.0</td>\n",
              "    </tr>\n",
              "    <tr>\n",
              "      <th>4069</th>\n",
              "      <td>80274</td>\n",
              "      <td>3.0</td>\n",
              "      <td>1.0</td>\n",
              "      <td>0.0</td>\n",
              "      <td>0</td>\n",
              "      <td>0</td>\n",
              "      <td>1</td>\n",
              "      <td>0</td>\n",
              "      <td>24.0</td>\n",
              "      <td>4.0</td>\n",
              "      <td>...</td>\n",
              "      <td>12.0</td>\n",
              "      <td>2.0</td>\n",
              "      <td>2.0</td>\n",
              "      <td>0.0</td>\n",
              "      <td>0.0</td>\n",
              "      <td>0.0</td>\n",
              "      <td>2.0</td>\n",
              "      <td>2.0</td>\n",
              "      <td>34</td>\n",
              "      <td>1.0</td>\n",
              "    </tr>\n",
              "    <tr>\n",
              "      <th>4080</th>\n",
              "      <td>80930</td>\n",
              "      <td>3.0</td>\n",
              "      <td>1.0</td>\n",
              "      <td>0.0</td>\n",
              "      <td>0</td>\n",
              "      <td>0</td>\n",
              "      <td>1</td>\n",
              "      <td>0</td>\n",
              "      <td>60.0</td>\n",
              "      <td>4.0</td>\n",
              "      <td>...</td>\n",
              "      <td>13.0</td>\n",
              "      <td>2.0</td>\n",
              "      <td>2.0</td>\n",
              "      <td>0.0</td>\n",
              "      <td>0.0</td>\n",
              "      <td>0.0</td>\n",
              "      <td>2.0</td>\n",
              "      <td>2.0</td>\n",
              "      <td>62</td>\n",
              "      <td>1.0</td>\n",
              "    </tr>\n",
              "    <tr>\n",
              "      <th>4111</th>\n",
              "      <td>81873</td>\n",
              "      <td>42.0</td>\n",
              "      <td>1.0</td>\n",
              "      <td>1.0</td>\n",
              "      <td>0</td>\n",
              "      <td>0</td>\n",
              "      <td>1</td>\n",
              "      <td>0</td>\n",
              "      <td>6.0</td>\n",
              "      <td>4.0</td>\n",
              "      <td>...</td>\n",
              "      <td>13.0</td>\n",
              "      <td>2.0</td>\n",
              "      <td>2.0</td>\n",
              "      <td>0.0</td>\n",
              "      <td>0.0</td>\n",
              "      <td>0.0</td>\n",
              "      <td>2.0</td>\n",
              "      <td>2.0</td>\n",
              "      <td>62</td>\n",
              "      <td>1.0</td>\n",
              "    </tr>\n",
              "    <tr>\n",
              "      <th>4118</th>\n",
              "      <td>81965</td>\n",
              "      <td>44.0</td>\n",
              "      <td>2.0</td>\n",
              "      <td>1.0</td>\n",
              "      <td>0</td>\n",
              "      <td>0</td>\n",
              "      <td>1</td>\n",
              "      <td>0</td>\n",
              "      <td>29.0</td>\n",
              "      <td>4.0</td>\n",
              "      <td>...</td>\n",
              "      <td>13.0</td>\n",
              "      <td>2.0</td>\n",
              "      <td>2.0</td>\n",
              "      <td>0.0</td>\n",
              "      <td>0.0</td>\n",
              "      <td>0.0</td>\n",
              "      <td>2.0</td>\n",
              "      <td>2.0</td>\n",
              "      <td>63</td>\n",
              "      <td>1.0</td>\n",
              "    </tr>\n",
              "  </tbody>\n",
              "</table>\n",
              "<p>870 rows × 25 columns</p>\n",
              "</div>\n",
              "      <button class=\"colab-df-convert\" onclick=\"convertToInteractive('df-6c3c2ebe-2244-41a1-b516-ab37f932c9e5')\"\n",
              "              title=\"Convert this dataframe to an interactive table.\"\n",
              "              style=\"display:none;\">\n",
              "        \n",
              "  <svg xmlns=\"http://www.w3.org/2000/svg\" height=\"24px\"viewBox=\"0 0 24 24\"\n",
              "       width=\"24px\">\n",
              "    <path d=\"M0 0h24v24H0V0z\" fill=\"none\"/>\n",
              "    <path d=\"M18.56 5.44l.94 2.06.94-2.06 2.06-.94-2.06-.94-.94-2.06-.94 2.06-2.06.94zm-11 1L8.5 8.5l.94-2.06 2.06-.94-2.06-.94L8.5 2.5l-.94 2.06-2.06.94zm10 10l.94 2.06.94-2.06 2.06-.94-2.06-.94-.94-2.06-.94 2.06-2.06.94z\"/><path d=\"M17.41 7.96l-1.37-1.37c-.4-.4-.92-.59-1.43-.59-.52 0-1.04.2-1.43.59L10.3 9.45l-7.72 7.72c-.78.78-.78 2.05 0 2.83L4 21.41c.39.39.9.59 1.41.59.51 0 1.02-.2 1.41-.59l7.78-7.78 2.81-2.81c.8-.78.8-2.07 0-2.86zM5.41 20L4 18.59l7.72-7.72 1.47 1.35L5.41 20z\"/>\n",
              "  </svg>\n",
              "      </button>\n",
              "      \n",
              "  <style>\n",
              "    .colab-df-container {\n",
              "      display:flex;\n",
              "      flex-wrap:wrap;\n",
              "      gap: 12px;\n",
              "    }\n",
              "\n",
              "    .colab-df-convert {\n",
              "      background-color: #E8F0FE;\n",
              "      border: none;\n",
              "      border-radius: 50%;\n",
              "      cursor: pointer;\n",
              "      display: none;\n",
              "      fill: #1967D2;\n",
              "      height: 32px;\n",
              "      padding: 0 0 0 0;\n",
              "      width: 32px;\n",
              "    }\n",
              "\n",
              "    .colab-df-convert:hover {\n",
              "      background-color: #E2EBFA;\n",
              "      box-shadow: 0px 1px 2px rgba(60, 64, 67, 0.3), 0px 1px 3px 1px rgba(60, 64, 67, 0.15);\n",
              "      fill: #174EA6;\n",
              "    }\n",
              "\n",
              "    [theme=dark] .colab-df-convert {\n",
              "      background-color: #3B4455;\n",
              "      fill: #D2E3FC;\n",
              "    }\n",
              "\n",
              "    [theme=dark] .colab-df-convert:hover {\n",
              "      background-color: #434B5C;\n",
              "      box-shadow: 0px 1px 3px 1px rgba(0, 0, 0, 0.15);\n",
              "      filter: drop-shadow(0px 1px 2px rgba(0, 0, 0, 0.3));\n",
              "      fill: #FFFFFF;\n",
              "    }\n",
              "  </style>\n",
              "\n",
              "      <script>\n",
              "        const buttonEl =\n",
              "          document.querySelector('#df-6c3c2ebe-2244-41a1-b516-ab37f932c9e5 button.colab-df-convert');\n",
              "        buttonEl.style.display =\n",
              "          google.colab.kernel.accessAllowed ? 'block' : 'none';\n",
              "\n",
              "        async function convertToInteractive(key) {\n",
              "          const element = document.querySelector('#df-6c3c2ebe-2244-41a1-b516-ab37f932c9e5');\n",
              "          const dataTable =\n",
              "            await google.colab.kernel.invokeFunction('convertToInteractive',\n",
              "                                                     [key], {});\n",
              "          if (!dataTable) return;\n",
              "\n",
              "          const docLinkHtml = 'Like what you see? Visit the ' +\n",
              "            '<a target=\"_blank\" href=https://colab.research.google.com/notebooks/data_table.ipynb>data table notebook</a>'\n",
              "            + ' to learn more about interactive tables.';\n",
              "          element.innerHTML = '';\n",
              "          dataTable['output_type'] = 'display_data';\n",
              "          await google.colab.output.renderOutput(dataTable, element);\n",
              "          const docLink = document.createElement('div');\n",
              "          docLink.innerHTML = docLinkHtml;\n",
              "          element.appendChild(docLink);\n",
              "        }\n",
              "      </script>\n",
              "    </div>\n",
              "  </div>\n",
              "  "
            ]
          },
          "metadata": {},
          "execution_count": 87
        }
      ]
    },
    {
      "cell_type": "markdown",
      "source": [
        "#5.0 - Testando o Modelo Preditivo#"
      ],
      "metadata": {
        "id": "O3PHSD-OMIyM"
      }
    },
    {
      "cell_type": "markdown",
      "source": [
        "Para testar os modelos de predição, foi necessário saber qual melhor se encaixava com nossos dados e nosso problema. Sendo assim, preferimos nesse momento verificar a acurácia de alguns modelos mais utilizados e ver como os dados se comportam com o treinamento e teste.<br><br>\n",
        "Na célula de código abaixo, é possível visualizar a definição das variáveis de entrada e saída do modelo preditivo, bem como a porcentagem desses dados que foram selecionados para treino e para teste."
      ],
      "metadata": {
        "id": "pHOF6pZ6Mv1u"
      }
    },
    {
      "cell_type": "code",
      "source": [
        "#separando os dados:\n",
        "x_entrada = x_inter3[['tumor','nodulo','metastese', 'tempo_de_amamentacao',\n",
        "                         'fumante', 'alcolatra','primeira_menstruacao',\n",
        "                       'grau_parentesco_1','grau_parentesco_2', 'grau_parentesco_3',\n",
        "                       'tipo_tumor', 'idade']].values\n",
        "                       \n",
        "y_saida = x_inter3['class_sobrevida'].values\n",
        "\n",
        "X_train, X_test, Y_train, Y_test = train_test_split(x_entrada, y_saida, \n",
        "                                                    test_size = 0.3, \n",
        "                                                    random_state = 42)\n"
      ],
      "metadata": {
        "id": "aqQ2GvOvGgFE"
      },
      "execution_count": 88,
      "outputs": []
    },
    {
      "cell_type": "markdown",
      "source": [
        "##**5.1 - Árvore de decisão**"
      ],
      "metadata": {
        "id": "2W0zkV1N-0CT"
      }
    },
    {
      "cell_type": "markdown",
      "source": [
        "Utilizamos a árvore decisão pois gostaríamos de saber o resultados das séries escolhidas."
      ],
      "metadata": {
        "id": "VOkEmH2V9nnv"
      }
    },
    {
      "cell_type": "markdown",
      "source": [
        "Uma árvore de decisão é um mapa dos possíveis resultados de uma série de escolhas relacionadas. Ela permite prever categorias discretas com base na comparção de elementos pré-selecionados nesse modelo( no caso as features de teste) e retorna uma classificação para essa predição. "
      ],
      "metadata": {
        "id": "3FVJqTiHRrnz"
      }
    },
    {
      "cell_type": "markdown",
      "source": [
        "### 5.1.1 - Arvore de decisão sem hiper-parâmetros"
      ],
      "metadata": {
        "id": "OXm3YUfKCqIo"
      }
    },
    {
      "cell_type": "markdown",
      "source": [
        "Em um primeiro momento, foi decidido testar o modelo classificatório sem o uso de hiper-parâmetros, visando observar como os nossos dados tratados interferem no módelo sem qualquer influência de manipulação."
      ],
      "metadata": {
        "id": "zQMZK8FEC5qP"
      }
    },
    {
      "cell_type": "code",
      "source": [
        "# # Treinando o modelo\n",
        "model_tree = DecisionTreeClassifier(criterion='entropy', random_state = 42)\n",
        "\n",
        "model_tree.fit(X_train,Y_train)\n",
        "\n",
        "# Fazendo as predições\n",
        "Y_pred_tree = model_tree.predict(X_test)\n"
      ],
      "metadata": {
        "id": "mzuyGpiDNfLW"
      },
      "execution_count": 89,
      "outputs": []
    },
    {
      "cell_type": "code",
      "source": [
        "print('Arvore de decisão')\n",
        "plot_confusion_matrix(model_tree, X_test, Y_test)  \n",
        "plt.show()\n",
        "\n",
        "print('Acc treino: ', model_tree.score(X_train, Y_train ))\n",
        "print('Acc teste: ', model_tree.score(X_test, Y_test.squeeze() ))\n",
        "print('Revocação:',recall_score(Y_test,Y_pred_tree,average=None))\n",
        "print('Precisão:',precision_score(Y_test,Y_pred_tree,average=None))\n",
        "print('F1_score:',precision_score(Y_test,Y_pred_tree,average=None))\n",
        "# print('Roc:',roc_auc_score(Y_test, Y_pred_tree,multi_class='ovo'))\n"
      ],
      "metadata": {
        "id": "wXiDmo_SzlKr",
        "colab": {
          "base_uri": "https://localhost:8080/",
          "height": 438
        },
        "outputId": "e52146db-65e6-421b-847e-0b1abb450c99"
      },
      "execution_count": 90,
      "outputs": [
        {
          "output_type": "stream",
          "name": "stdout",
          "text": [
            "Arvore de decisão\n"
          ]
        },
        {
          "output_type": "stream",
          "name": "stderr",
          "text": [
            "/usr/local/lib/python3.7/dist-packages/sklearn/utils/deprecation.py:87: FutureWarning: Function plot_confusion_matrix is deprecated; Function `plot_confusion_matrix` is deprecated in 1.0 and will be removed in 1.2. Use one of the class methods: ConfusionMatrixDisplay.from_predictions or ConfusionMatrixDisplay.from_estimator.\n",
            "  warnings.warn(msg, category=FutureWarning)\n"
          ]
        },
        {
          "output_type": "display_data",
          "data": {
            "text/plain": [
              "<Figure size 432x288 with 2 Axes>"
            ],
            "image/png": "[encoded data removed]"
          },
          "metadata": {
            "needs_background": "light"
          }
        },
        {
          "output_type": "stream",
          "name": "stdout",
          "text": [
            "Acc treino:  0.9950738916256158\n",
            "Acc teste:  0.4521072796934866\n",
            "Revocação: [0.59146341 0.25333333 0.10526316 0.        ]\n",
            "Precisão: [0.61783439 0.2375     0.11764706 0.        ]\n",
            "F1_score: [0.61783439 0.2375     0.11764706 0.        ]\n"
          ]
        }
      ]
    },
    {
      "cell_type": "code",
      "source": [
        "print(classification_report(Y_test, Y_pred_tree))"
      ],
      "metadata": {
        "id": "sWqJhvcUQ6N6",
        "colab": {
          "base_uri": "https://localhost:8080/"
        },
        "outputId": "87bc35ac-00da-4a53-9120-63e8f10ab21d"
      },
      "execution_count": 91,
      "outputs": [
        {
          "output_type": "stream",
          "name": "stdout",
          "text": [
            "              precision    recall  f1-score   support\n",
            "\n",
            "         1.0       0.62      0.59      0.60       164\n",
            "         2.0       0.24      0.25      0.25        75\n",
            "         3.0       0.12      0.11      0.11        19\n",
            "         4.0       0.00      0.00      0.00         3\n",
            "\n",
            "    accuracy                           0.45       261\n",
            "   macro avg       0.24      0.24      0.24       261\n",
            "weighted avg       0.47      0.45      0.46       261\n",
            "\n"
          ]
        }
      ]
    },
    {
      "cell_type": "markdown",
      "source": [
        "Como pôde ser percebido,o modelo sem o uso de qualquer hiper parâmetro possui uma acurácia de teste de 45% , indicando uma forte taxa de erro do modelo em cima de predições falso negativas e positivas, visto que a quantidade de desses tipos de erros é inversamente proporcional à pontuação da acurácia."
      ],
      "metadata": {
        "id": "E01X8bCOtdIo"
      }
    },
    {
      "cell_type": "markdown",
      "source": [
        " ### 5.1.2-Arvore de decisão com hiper-parâmetro (Grid Search)"
      ],
      "metadata": {
        "id": "17KoeS3S33nr"
      }
    },
    {
      "cell_type": "markdown",
      "source": [
        "Visando buscar melhores resultados para a Árvore de Decisão, foi utilizado a ferramenta de busca de hiper-parâmetros Grid Search, que realiza vários testes com base nos hiper-perâmetros pré selecionados e retorna o melhor resultado dentre todas essa repetiçoes do modelo."
      ],
      "metadata": {
        "id": "artbfgxJulXE"
      }
    },
    {
      "cell_type": "code",
      "source": [
        "from sklearn.model_selection import GridSearchCV\n",
        "# Cria o GridSearchCV\n",
        "\n",
        "parameters_tree = {\n",
        "    'criterion':['gini', 'entropy', 'log_loss'],\n",
        "    'splitter':['best', 'random”'],\n",
        "    'max_depth':range(2,16,2)\n",
        "}\n",
        "grid_tree= GridSearchCV(DecisionTreeClassifier(), parameters_tree)\n",
        "# Treina os modelos e guarda na variável modelGS o melhor modelo\n",
        "grid_tree.fit(X_train, Y_train)\n",
        "\n",
        "modelGS_tree = grid_tree.best_estimator_\n",
        "\n",
        "y_pred_tree = modelGS_tree.predict(X_test)\n",
        "\n",
        "accuracy = accuracy_score(Y_test, Y_pred_tree)\n",
        "\n",
        "print('Decision Tree score: {}'.format(accuracy))\n",
        "grid_tree.best_params_\n"
      ],
      "metadata": {
        "id": "l4acp1xLayyb",
        "colab": {
          "base_uri": "https://localhost:8080/"
        },
        "outputId": "ef7ca61f-cd68-4cd8-9db4-19def43badea"
      },
      "execution_count": 92,
      "outputs": [
        {
          "output_type": "stream",
          "name": "stdout",
          "text": [
            "Decision Tree score: 0.4521072796934866\n"
          ]
        },
        {
          "output_type": "stream",
          "name": "stderr",
          "text": [
            "/usr/local/lib/python3.7/dist-packages/sklearn/model_selection/_validation.py:372: FitFailedWarning: \n",
            "140 fits failed out of a total of 210.\n",
            "The score on these train-test partitions for these parameters will be set to nan.\n",
            "If these failures are not expected, you can try to debug them by setting error_score='raise'.\n",
            "\n",
            "Below are more details about the failures:\n",
            "--------------------------------------------------------------------------------\n",
            "70 fits failed with the following error:\n",
            "Traceback (most recent call last):\n",
            "  File \"/usr/local/lib/python3.7/dist-packages/sklearn/model_selection/_validation.py\", line 680, in _fit_and_score\n",
            "    estimator.fit(X_train, y_train, **fit_params)\n",
            "  File \"/usr/local/lib/python3.7/dist-packages/sklearn/tree/_classes.py\", line 942, in fit\n",
            "    X_idx_sorted=X_idx_sorted,\n",
            "  File \"/usr/local/lib/python3.7/dist-packages/sklearn/tree/_classes.py\", line 381, in fit\n",
            "    splitter = SPLITTERS[self.splitter](\n",
            "KeyError: 'random”'\n",
            "\n",
            "--------------------------------------------------------------------------------\n",
            "70 fits failed with the following error:\n",
            "Traceback (most recent call last):\n",
            "  File \"/usr/local/lib/python3.7/dist-packages/sklearn/model_selection/_validation.py\", line 680, in _fit_and_score\n",
            "    estimator.fit(X_train, y_train, **fit_params)\n",
            "  File \"/usr/local/lib/python3.7/dist-packages/sklearn/tree/_classes.py\", line 942, in fit\n",
            "    X_idx_sorted=X_idx_sorted,\n",
            "  File \"/usr/local/lib/python3.7/dist-packages/sklearn/tree/_classes.py\", line 352, in fit\n",
            "    criterion = CRITERIA_CLF[self.criterion](\n",
            "KeyError: 'log_loss'\n",
            "\n",
            "  warnings.warn(some_fits_failed_message, FitFailedWarning)\n",
            "/usr/local/lib/python3.7/dist-packages/sklearn/model_selection/_search.py:972: UserWarning: One or more of the test scores are non-finite: [0.63056496        nan 0.61579732        nan 0.5944452         nan\n",
            " 0.58131689        nan 0.58294269        nan 0.54349004        nan\n",
            " 0.53372172        nan 0.62236824        nan 0.60923994        nan\n",
            " 0.60262837        nan 0.56325701        nan 0.54686357        nan\n",
            " 0.54514293        nan 0.53534751        nan        nan        nan\n",
            "        nan        nan        nan        nan        nan        nan\n",
            "        nan        nan        nan        nan        nan        nan]\n",
            "  category=UserWarning,\n"
          ]
        },
        {
          "output_type": "execute_result",
          "data": {
            "text/plain": [
              "{'criterion': 'gini', 'max_depth': 2, 'splitter': 'best'}"
            ]
          },
          "metadata": {},
          "execution_count": 92
        }
      ]
    },
    {
      "cell_type": "code",
      "source": [
        "print(grid_tree.best_score_)\n",
        "print(grid_tree.best_params_)"
      ],
      "metadata": {
        "colab": {
          "base_uri": "https://localhost:8080/"
        },
        "id": "g4hKCyX94pCj",
        "outputId": "c9668f92-2748-4702-bb39-a8507bf69d0a"
      },
      "execution_count": 93,
      "outputs": [
        {
          "output_type": "stream",
          "name": "stdout",
          "text": [
            "0.6305649640970058\n",
            "{'criterion': 'gini', 'max_depth': 2, 'splitter': 'best'}\n"
          ]
        }
      ]
    },
    {
      "cell_type": "code",
      "source": [
        "print('Acc treino:',modelGS_tree.score(X_train,Y_train))\n",
        "print('Acc teste:',accuracy_score(Y_test,y_pred_tree.squeeze()))\n",
        "print('Revocação:',recall_score(Y_test,y_pred_tree,average=None))\n",
        "print('Precisão:',precision_score(Y_test,y_pred_tree,average=None))\n",
        "print('F1_score:',f1_score(Y_test,y_pred_tree,average=None))"
      ],
      "metadata": {
        "colab": {
          "base_uri": "https://localhost:8080/"
        },
        "id": "KuaPhbbm4xle",
        "outputId": "343c4707-370b-4659-d08b-bed9ede664c6"
      },
      "execution_count": 94,
      "outputs": [
        {
          "output_type": "stream",
          "name": "stdout",
          "text": [
            "Acc treino: 0.6403940886699507\n",
            "Acc teste: 0.6283524904214559\n",
            "Revocação: [1. 0. 0. 0.]\n",
            "Precisão: [0.62835249 0.         0.         0.        ]\n",
            "F1_score: [0.77176471 0.         0.         0.        ]\n"
          ]
        },
        {
          "output_type": "stream",
          "name": "stderr",
          "text": [
            "/usr/local/lib/python3.7/dist-packages/sklearn/metrics/_classification.py:1318: UndefinedMetricWarning: Precision is ill-defined and being set to 0.0 in labels with no predicted samples. Use `zero_division` parameter to control this behavior.\n",
            "  _warn_prf(average, modifier, msg_start, len(result))\n"
          ]
        }
      ]
    },
    {
      "cell_type": "code",
      "source": [
        "plot_confusion_matrix(modelGS_tree, X_test, Y_test, cmap='Blues', values_format='.0f');"
      ],
      "metadata": {
        "colab": {
          "base_uri": "https://localhost:8080/",
          "height": 334
        },
        "id": "rqJTasOp490u",
        "outputId": "62aac1a2-8588-49d7-9e71-dc55f2b2dbb2"
      },
      "execution_count": 95,
      "outputs": [
        {
          "output_type": "stream",
          "name": "stderr",
          "text": [
            "/usr/local/lib/python3.7/dist-packages/sklearn/utils/deprecation.py:87: FutureWarning: Function plot_confusion_matrix is deprecated; Function `plot_confusion_matrix` is deprecated in 1.0 and will be removed in 1.2. Use one of the class methods: ConfusionMatrixDisplay.from_predictions or ConfusionMatrixDisplay.from_estimator.\n",
            "  warnings.warn(msg, category=FutureWarning)\n"
          ]
        },
        {
          "output_type": "display_data",
          "data": {
            "text/plain": [
              "<Figure size 432x288 with 2 Axes>"
            ],
            "image/png": "[encoded data removed]"
          },
          "metadata": {
            "needs_background": "light"
          }
        }
      ]
    },
    {
      "cell_type": "markdown",
      "source": [
        "Como pôde ser visualizado, utilizando dos melhores hiper-parâmetros para o modelo segundo o Grid Search, a acurácia teve um aumento de 17% em relação ao modelo anterior e, visto o aumento da pontuação do recall, que é fortemente influenciado pela quantidade de falsos negativos, acredita-se que esse tipo de dado tenha diminuído de um modelo para  outro."
      ],
      "metadata": {
        "id": "glgXoiEcvWD6"
      }
    },
    {
      "cell_type": "markdown",
      "source": [
        "###5.1.3 -Arvore de decisão com hiper-parâmetro( Randomized Search)"
      ],
      "metadata": {
        "id": "Z_DMKtCM5Ejs"
      }
    },
    {
      "cell_type": "markdown",
      "source": [
        "Buscando ainda analisar outros modelos de busca de hiper-parâmetros para servir de comparação com os resultados obtidos, foi o utilizado também o Randomized Search para a busca dos melhores hiper-parâmetros."
      ],
      "metadata": {
        "id": "34UOAswawC8a"
      }
    },
    {
      "cell_type": "code",
      "source": [
        "parametros_tree = {\n",
        "    'criterion':['gini', 'entropy', 'log_loss'],\n",
        "    'splitter':['best', 'random”'],\n",
        "    'max_depth':range(2,16,2)\n",
        "}\n",
        "randomized_search_tree = RandomizedSearchCV(estimator = DecisionTreeClassifier(),param_distributions=parametros_tree)\n",
        "randomized_search_tree.fit(X_train,Y_train.squeeze())\n",
        "\n",
        "modelRS_tree= randomized_search_tree.best_estimator_\n",
        "\n",
        "y_predRS_tree = modelRS_tree.predict(X_test)\n",
        "\n",
        "accuracy = accuracy_score(Y_test, y_predRS_tree)\n",
        "\n",
        "print('SVM score: {}'.format(accuracy))\n",
        "randomized_search_tree.best_params_"
      ],
      "metadata": {
        "colab": {
          "base_uri": "https://localhost:8080/"
        },
        "id": "QdPh3CKI5h7I",
        "outputId": "84ff7c15-e4cb-49bd-ba38-972e4f5b7e60"
      },
      "execution_count": 96,
      "outputs": [
        {
          "output_type": "stream",
          "name": "stdout",
          "text": [
            "SVM score: 0.6283524904214559\n"
          ]
        },
        {
          "output_type": "stream",
          "name": "stderr",
          "text": [
            "/usr/local/lib/python3.7/dist-packages/sklearn/model_selection/_validation.py:372: FitFailedWarning: \n",
            "25 fits failed out of a total of 50.\n",
            "The score on these train-test partitions for these parameters will be set to nan.\n",
            "If these failures are not expected, you can try to debug them by setting error_score='raise'.\n",
            "\n",
            "Below are more details about the failures:\n",
            "--------------------------------------------------------------------------------\n",
            "10 fits failed with the following error:\n",
            "Traceback (most recent call last):\n",
            "  File \"/usr/local/lib/python3.7/dist-packages/sklearn/model_selection/_validation.py\", line 680, in _fit_and_score\n",
            "    estimator.fit(X_train, y_train, **fit_params)\n",
            "  File \"/usr/local/lib/python3.7/dist-packages/sklearn/tree/_classes.py\", line 942, in fit\n",
            "    X_idx_sorted=X_idx_sorted,\n",
            "  File \"/usr/local/lib/python3.7/dist-packages/sklearn/tree/_classes.py\", line 352, in fit\n",
            "    criterion = CRITERIA_CLF[self.criterion](\n",
            "KeyError: 'log_loss'\n",
            "\n",
            "--------------------------------------------------------------------------------\n",
            "15 fits failed with the following error:\n",
            "Traceback (most recent call last):\n",
            "  File \"/usr/local/lib/python3.7/dist-packages/sklearn/model_selection/_validation.py\", line 680, in _fit_and_score\n",
            "    estimator.fit(X_train, y_train, **fit_params)\n",
            "  File \"/usr/local/lib/python3.7/dist-packages/sklearn/tree/_classes.py\", line 942, in fit\n",
            "    X_idx_sorted=X_idx_sorted,\n",
            "  File \"/usr/local/lib/python3.7/dist-packages/sklearn/tree/_classes.py\", line 381, in fit\n",
            "    splitter = SPLITTERS[self.splitter](\n",
            "KeyError: 'random”'\n",
            "\n",
            "  warnings.warn(some_fits_failed_message, FitFailedWarning)\n",
            "/usr/local/lib/python3.7/dist-packages/sklearn/model_selection/_search.py:972: UserWarning: One or more of the test scores are non-finite: [       nan 0.56325701 0.60265547        nan        nan 0.62236824\n",
            "        nan 0.60923994        nan 0.54847582]\n",
            "  category=UserWarning,\n"
          ]
        },
        {
          "output_type": "execute_result",
          "data": {
            "text/plain": [
              "{'splitter': 'best', 'max_depth': 2, 'criterion': 'entropy'}"
            ]
          },
          "metadata": {},
          "execution_count": 96
        }
      ]
    },
    {
      "cell_type": "code",
      "source": [
        "print(randomized_search_tree.best_score_)\n",
        "print(randomized_search_tree.best_params_)"
      ],
      "metadata": {
        "colab": {
          "base_uri": "https://localhost:8080/"
        },
        "id": "giiAquiO5mg3",
        "outputId": "494a7868-af30-4d4e-f3b0-4924c6ea4bec"
      },
      "execution_count": 97,
      "outputs": [
        {
          "output_type": "stream",
          "name": "stdout",
          "text": [
            "0.6223682427855304\n",
            "{'splitter': 'best', 'max_depth': 2, 'criterion': 'entropy'}\n"
          ]
        }
      ]
    },
    {
      "cell_type": "code",
      "source": [
        "print('Acc treino:',modelRS_tree.score(X_train,Y_train))\n",
        "print('Acc teste:',modelRS_tree.score(X_test,y_predRS_tree.squeeze()))\n",
        "print('Revocação:',recall_score(Y_test,y_predRS_tree,average=None))\n",
        "print('Precisão:',precision_score(Y_test,y_predRS_tree,average=None))\n",
        "print('F1_score:',precision_score(Y_test,y_predRS_tree,average=None))"
      ],
      "metadata": {
        "colab": {
          "base_uri": "https://localhost:8080/"
        },
        "id": "dChzpD2X5rpw",
        "outputId": "aa0e0cce-95cf-4539-9a29-fccef4fb5848"
      },
      "execution_count": 98,
      "outputs": [
        {
          "output_type": "stream",
          "name": "stdout",
          "text": [
            "Acc treino: 0.6403940886699507\n",
            "Acc teste: 1.0\n",
            "Revocação: [1. 0. 0. 0.]\n",
            "Precisão: [0.62835249 0.         0.         0.        ]\n",
            "F1_score: [0.62835249 0.         0.         0.        ]\n"
          ]
        },
        {
          "output_type": "stream",
          "name": "stderr",
          "text": [
            "/usr/local/lib/python3.7/dist-packages/sklearn/metrics/_classification.py:1318: UndefinedMetricWarning: Precision is ill-defined and being set to 0.0 in labels with no predicted samples. Use `zero_division` parameter to control this behavior.\n",
            "  _warn_prf(average, modifier, msg_start, len(result))\n",
            "/usr/local/lib/python3.7/dist-packages/sklearn/metrics/_classification.py:1318: UndefinedMetricWarning: Precision is ill-defined and being set to 0.0 in labels with no predicted samples. Use `zero_division` parameter to control this behavior.\n",
            "  _warn_prf(average, modifier, msg_start, len(result))\n"
          ]
        }
      ]
    },
    {
      "cell_type": "code",
      "source": [
        "plot_confusion_matrix(modelRS_tree, X_test, Y_test, cmap='Blues', values_format='.0f');"
      ],
      "metadata": {
        "colab": {
          "base_uri": "https://localhost:8080/",
          "height": 334
        },
        "id": "r37DuW5k5vos",
        "outputId": "81f58c99-55c4-49a4-ddeb-d6724046d26b"
      },
      "execution_count": 99,
      "outputs": [
        {
          "output_type": "stream",
          "name": "stderr",
          "text": [
            "/usr/local/lib/python3.7/dist-packages/sklearn/utils/deprecation.py:87: FutureWarning: Function plot_confusion_matrix is deprecated; Function `plot_confusion_matrix` is deprecated in 1.0 and will be removed in 1.2. Use one of the class methods: ConfusionMatrixDisplay.from_predictions or ConfusionMatrixDisplay.from_estimator.\n",
            "  warnings.warn(msg, category=FutureWarning)\n"
          ]
        },
        {
          "output_type": "display_data",
          "data": {
            "text/plain": [
              "<Figure size 432x288 with 2 Axes>"
            ],
            "image/png": "[encoded data removed]"
          },
          "metadata": {
            "needs_background": "light"
          }
        }
      ]
    },
    {
      "cell_type": "markdown",
      "source": [
        "Como pôde ser visualizado, utilizando os melhores hiper-parâmetros segundo o Randomized Search, o modelo teve um aumento de acurácia surpreendente para 100% , mas que não foi acompanhado com um aumento das outras métricas, indicando a presença de uma forte feature agindo como um elemento viciante para o modelo."
      ],
      "metadata": {
        "id": "K4Zlc9djwwQ4"
      }
    },
    {
      "cell_type": "markdown",
      "source": [
        "## **5.2 - KNN**"
      ],
      "metadata": {
        "id": "VDiqddQ5YLpM"
      }
    },
    {
      "cell_type": "markdown",
      "source": [
        "Buscamos utilizar o KNN para observar as amostras vizinhas e encontrar, com base nas comparações, novas predições. "
      ],
      "metadata": {
        "id": "AB-K-vXf90uI"
      }
    },
    {
      "cell_type": "markdown",
      "source": [
        "A ideia principal do KNN é determinar o rótulo de classificação de uma amostra baseado nas amostras vizinhas advindas de um conjunto de treinamento. Dessa forma, é possível predizer um resultado com base na comparação dos dados mais próximos e retorná-lo em forma de uma classificação. "
      ],
      "metadata": {
        "id": "HenkTewRh_8k"
      }
    },
    {
      "cell_type": "markdown",
      "source": [
        "### 5.2.1 - KNN sem hiper-parâmetros"
      ],
      "metadata": {
        "id": "VK04Zema6AQ_"
      }
    },
    {
      "cell_type": "markdown",
      "source": [
        "Em um primeiro momento, foi decidido testar o modelo classificatório sem o uso de hiper-parâmetros, visando observar como os nossos dados tratados interferem no módelo sem qualquer influência de manipulação."
      ],
      "metadata": {
        "id": "wRKZoTnBxpK8"
      }
    },
    {
      "cell_type": "code",
      "source": [
        "#testando o modelo\n",
        "model_knn= KNeighborsClassifier(n_neighbors=23)\n",
        "model_knn.fit(X_train, Y_train)\n",
        "\n",
        "Y_pred_knn = model_knn.predict(X_test)\n",
        "\n"
      ],
      "metadata": {
        "id": "2qY18cSJDuF3"
      },
      "execution_count": 100,
      "outputs": []
    },
    {
      "cell_type": "code",
      "source": [
        "print('KNN')\n",
        "plot_confusion_matrix(model_knn, X_test, Y_test)  \n",
        "plt.show()\n",
        "\n",
        "print('Acc treino: ', model_knn.score(X_train, Y_train ))\n",
        "print('Acc teste: ', model_knn.score(X_test, Y_test.squeeze() ))\n",
        "print('Revocação:',recall_score(Y_test,Y_pred_knn,average=None))\n",
        "print('Precisão:',precision_score(Y_test,Y_pred_knn,average=None))\n",
        "print('F1_score:',precision_score(Y_test,Y_pred_knn,average=None))"
      ],
      "metadata": {
        "id": "lq6lCdoUTW_d",
        "colab": {
          "base_uri": "https://localhost:8080/",
          "height": 507
        },
        "outputId": "2bbff735-05e3-468b-9642-35e562619e1c"
      },
      "execution_count": 101,
      "outputs": [
        {
          "output_type": "stream",
          "name": "stdout",
          "text": [
            "KNN\n"
          ]
        },
        {
          "output_type": "stream",
          "name": "stderr",
          "text": [
            "/usr/local/lib/python3.7/dist-packages/sklearn/utils/deprecation.py:87: FutureWarning: Function plot_confusion_matrix is deprecated; Function `plot_confusion_matrix` is deprecated in 1.0 and will be removed in 1.2. Use one of the class methods: ConfusionMatrixDisplay.from_predictions or ConfusionMatrixDisplay.from_estimator.\n",
            "  warnings.warn(msg, category=FutureWarning)\n"
          ]
        },
        {
          "output_type": "display_data",
          "data": {
            "text/plain": [
              "<Figure size 432x288 with 2 Axes>"
            ],
            "image/png": "[encoded data removed]"
          },
          "metadata": {
            "needs_background": "light"
          }
        },
        {
          "output_type": "stream",
          "name": "stdout",
          "text": [
            "Acc treino:  0.6535303776683087\n",
            "Acc teste:  0.6053639846743295\n",
            "Revocação: [0.90243902 0.13333333 0.         0.        ]\n",
            "Precisão: [0.64069264 0.33333333 0.         0.        ]\n",
            "F1_score: [0.64069264 0.33333333 0.         0.        ]\n"
          ]
        },
        {
          "output_type": "stream",
          "name": "stderr",
          "text": [
            "/usr/local/lib/python3.7/dist-packages/sklearn/metrics/_classification.py:1318: UndefinedMetricWarning: Precision is ill-defined and being set to 0.0 in labels with no predicted samples. Use `zero_division` parameter to control this behavior.\n",
            "  _warn_prf(average, modifier, msg_start, len(result))\n",
            "/usr/local/lib/python3.7/dist-packages/sklearn/metrics/_classification.py:1318: UndefinedMetricWarning: Precision is ill-defined and being set to 0.0 in labels with no predicted samples. Use `zero_division` parameter to control this behavior.\n",
            "  _warn_prf(average, modifier, msg_start, len(result))\n"
          ]
        }
      ]
    },
    {
      "cell_type": "code",
      "source": [
        "print(classification_report(Y_test, Y_pred_knn))"
      ],
      "metadata": {
        "id": "MZcJnw-8Spnk",
        "colab": {
          "base_uri": "https://localhost:8080/"
        },
        "outputId": "1bf66e3a-8db1-4eab-dec0-fdc171f8a1b8"
      },
      "execution_count": 102,
      "outputs": [
        {
          "output_type": "stream",
          "name": "stdout",
          "text": [
            "              precision    recall  f1-score   support\n",
            "\n",
            "         1.0       0.64      0.90      0.75       164\n",
            "         2.0       0.33      0.13      0.19        75\n",
            "         3.0       0.00      0.00      0.00        19\n",
            "         4.0       0.00      0.00      0.00         3\n",
            "\n",
            "    accuracy                           0.61       261\n",
            "   macro avg       0.24      0.26      0.23       261\n",
            "weighted avg       0.50      0.61      0.53       261\n",
            "\n"
          ]
        },
        {
          "output_type": "stream",
          "name": "stderr",
          "text": [
            "/usr/local/lib/python3.7/dist-packages/sklearn/metrics/_classification.py:1318: UndefinedMetricWarning: Precision and F-score are ill-defined and being set to 0.0 in labels with no predicted samples. Use `zero_division` parameter to control this behavior.\n",
            "  _warn_prf(average, modifier, msg_start, len(result))\n",
            "/usr/local/lib/python3.7/dist-packages/sklearn/metrics/_classification.py:1318: UndefinedMetricWarning: Precision and F-score are ill-defined and being set to 0.0 in labels with no predicted samples. Use `zero_division` parameter to control this behavior.\n",
            "  _warn_prf(average, modifier, msg_start, len(result))\n",
            "/usr/local/lib/python3.7/dist-packages/sklearn/metrics/_classification.py:1318: UndefinedMetricWarning: Precision and F-score are ill-defined and being set to 0.0 in labels with no predicted samples. Use `zero_division` parameter to control this behavior.\n",
            "  _warn_prf(average, modifier, msg_start, len(result))\n"
          ]
        }
      ]
    },
    {
      "cell_type": "markdown",
      "source": [
        "Como pôde ser percebido, o modelo sem o uso de qualquer hiper-parâmetro possui uma acurácia de teste de 60% , indicando uma forte taxa de erro do modelo em cima de predições falso negativas e positivas, visto que a quantidade de desses tipos de erros é inversamente proporcional à pontuação da acurácia.Entretanto, ainda que possuam uma considerável taxa de erro, ainda mostra um desempenho melhor que o modelo anterior para esse mesmo tipo de teste."
      ],
      "metadata": {
        "id": "O2uQi1nPxvsy"
      }
    },
    {
      "cell_type": "markdown",
      "source": [
        "### 5.2.2 KNN com hiper-parâmetros(Grid Search)"
      ],
      "metadata": {
        "id": "FWE5ZBPP6Mk6"
      }
    },
    {
      "cell_type": "markdown",
      "source": [
        "Visando buscar melhores resultados para o KNN, foi utilizado a ferramenta de busca de hiper-parâmetros Grid Search, que realiza vários testes com base nos hiper-perâmetros pré selecionados e retorna o melhor resultado dentre todas essa repetiçoes do modelo."
      ],
      "metadata": {
        "id": "9sQMe0moyqxR"
      }
    },
    {
      "cell_type": "code",
      "source": [
        "from sklearn.model_selection import GridSearchCV\n",
        "# Cria o GridSearchCV\n",
        "\n",
        "parameters_knn = {'n_neighbors':range(5,110,5), \n",
        "              'weights':['uniform'],\n",
        "              'algorithm':['auto'],\n",
        "              'leaf_size':range(1,50)\n",
        "              }\n",
        "grid_knn = GridSearchCV(KNeighborsClassifier(), parameters_knn)\n",
        "# Treina os modelos e guarda na variável modelGS o melhor modelo\n",
        "grid_knn.fit(X_train, Y_train)\n",
        "\n",
        "modelGS_knn= grid_knn.best_estimator_\n",
        "\n",
        "y_pred_knn = modelGS_knn.predict(X_test)\n",
        "\n",
        "accuracy = accuracy_score(Y_test, y_pred_knn)\n",
        "\n",
        "print('KNN score: {}'.format(accuracy))\n",
        "grid_knn.best_params_\n"
      ],
      "metadata": {
        "colab": {
          "base_uri": "https://localhost:8080/"
        },
        "id": "V0TTZF5C6fHQ",
        "outputId": "b31c28a5-5c54-4ab0-f3fa-0f9e4376aa65"
      },
      "execution_count": 103,
      "outputs": [
        {
          "output_type": "stream",
          "name": "stdout",
          "text": [
            "KNN score: 0.6130268199233716\n"
          ]
        },
        {
          "output_type": "execute_result",
          "data": {
            "text/plain": [
              "{'algorithm': 'auto', 'leaf_size': 31, 'n_neighbors': 50, 'weights': 'uniform'}"
            ]
          },
          "metadata": {},
          "execution_count": 103
        }
      ]
    },
    {
      "cell_type": "code",
      "source": [
        "print(grid_knn.best_score_)\n",
        "print(grid_knn.best_params_)"
      ],
      "metadata": {
        "colab": {
          "base_uri": "https://localhost:8080/"
        },
        "id": "xYNb4aLs6kog",
        "outputId": "9f38dc53-270c-4aec-ef87-9f879164b173"
      },
      "execution_count": 104,
      "outputs": [
        {
          "output_type": "stream",
          "name": "stdout",
          "text": [
            "0.6469719550196451\n",
            "{'algorithm': 'auto', 'leaf_size': 31, 'n_neighbors': 50, 'weights': 'uniform'}\n"
          ]
        }
      ]
    },
    {
      "cell_type": "code",
      "source": [
        "print('Acc treino:',modelGS_knn.score(X_train,Y_train))\n",
        "print('Acc teste:',accuracy_score(Y_test,y_pred_knn.squeeze()))\n",
        "print('Revocação:',recall_score(Y_test,y_pred_knn,average=None))\n",
        "print('Precisão:',precision_score(Y_test,y_pred_knn,average=None))\n",
        "print('F1_score:',f1_score(Y_test,y_pred_knn,average=None))"
      ],
      "metadata": {
        "colab": {
          "base_uri": "https://localhost:8080/"
        },
        "id": "54_EopC66oeI",
        "outputId": "5e531607-0507-4eb8-f863-b01ddc399f95"
      },
      "execution_count": 105,
      "outputs": [
        {
          "output_type": "stream",
          "name": "stdout",
          "text": [
            "Acc treino: 0.645320197044335\n",
            "Acc teste: 0.6130268199233716\n",
            "Revocação: [0.95121951 0.05333333 0.         0.        ]\n",
            "Precisão: [0.63157895 0.28571429 0.         0.        ]\n",
            "F1_score: [0.75912409 0.08988764 0.         0.        ]\n"
          ]
        },
        {
          "output_type": "stream",
          "name": "stderr",
          "text": [
            "/usr/local/lib/python3.7/dist-packages/sklearn/metrics/_classification.py:1318: UndefinedMetricWarning: Precision is ill-defined and being set to 0.0 in labels with no predicted samples. Use `zero_division` parameter to control this behavior.\n",
            "  _warn_prf(average, modifier, msg_start, len(result))\n"
          ]
        }
      ]
    },
    {
      "cell_type": "code",
      "source": [
        "plot_confusion_matrix(modelGS_knn, X_test, Y_test, cmap='Blues', values_format='.0f');"
      ],
      "metadata": {
        "colab": {
          "base_uri": "https://localhost:8080/",
          "height": 334
        },
        "id": "qI7oGe6R6sLC",
        "outputId": "2c311362-740f-4f63-c997-d7d02546f7c1"
      },
      "execution_count": 106,
      "outputs": [
        {
          "output_type": "stream",
          "name": "stderr",
          "text": [
            "/usr/local/lib/python3.7/dist-packages/sklearn/utils/deprecation.py:87: FutureWarning: Function plot_confusion_matrix is deprecated; Function `plot_confusion_matrix` is deprecated in 1.0 and will be removed in 1.2. Use one of the class methods: ConfusionMatrixDisplay.from_predictions or ConfusionMatrixDisplay.from_estimator.\n",
            "  warnings.warn(msg, category=FutureWarning)\n"
          ]
        },
        {
          "output_type": "display_data",
          "data": {
            "text/plain": [
              "<Figure size 432x288 with 2 Axes>"
            ],
            "image/png": "[encoded data removed]"
          },
          "metadata": {
            "needs_background": "light"
          }
        }
      ]
    },
    {
      "cell_type": "markdown",
      "source": [
        "Como pôde ser visualizado, utilizando dos melhores hiper-parâmetros para o modelo segundo o Grid Search, a acurácia teve um aumento de apenas 1% em relação ao knn anterior e, visto o aumento pouco significativodas outras métricas, acredita-se que o resultado aponte para um problema no processo de feature engineering que no pôde ser corrigido somente por meio de hiper-parâmetros"
      ],
      "metadata": {
        "id": "rxvS7lcjzFRe"
      }
    },
    {
      "cell_type": "markdown",
      "source": [
        "###5.2.3- KNN com hiper-parâmetros(Randomized Search)"
      ],
      "metadata": {
        "id": "jwoOcwQy6xIn"
      }
    },
    {
      "cell_type": "markdown",
      "source": [
        "Buscando ainda analisar outros modelos de busca de hiper-parâmetros para servir de comparação com os resultados obtidos, foi o utilizado também o Randomized Search para a busca dos melhores hiper-parâmetros."
      ],
      "metadata": {
        "id": "eU_pNV9Uz1vf"
      }
    },
    {
      "cell_type": "code",
      "source": [
        "parametros_knn={\n",
        "    'n_neighbors':range(5,110,5),\n",
        "    'weights':['uniform','distance'],\n",
        "    'algorithm':['auto', 'ball_tree', 'kd_tree', 'brute'],\n",
        "    'leaf_size':range(1,50),\n",
        "}\n",
        "randomized_search_knn = RandomizedSearchCV(estimator = KNeighborsClassifier(),param_distributions=parametros_knn)\n",
        "randomized_search_knn.fit(X_train,Y_train.squeeze())\n",
        "\n",
        "modelRS_knn = randomized_search_knn.best_estimator_\n",
        "\n",
        "y_predRS_knn = modelRS_knn.predict(X_test)\n",
        "\n",
        "accuracy = accuracy_score(Y_test, y_predRS_knn)\n",
        "\n",
        "print('KNN score: {}'.format(accuracy))\n",
        "randomized_search_knn.best_params_"
      ],
      "metadata": {
        "colab": {
          "base_uri": "https://localhost:8080/"
        },
        "id": "RK8xgjAY639g",
        "outputId": "5cd5f73c-e712-44ff-e28b-901182240cc9"
      },
      "execution_count": 107,
      "outputs": [
        {
          "output_type": "stream",
          "name": "stdout",
          "text": [
            "KNN score: 0.6130268199233716\n"
          ]
        },
        {
          "output_type": "execute_result",
          "data": {
            "text/plain": [
              "{'weights': 'uniform',\n",
              " 'n_neighbors': 45,\n",
              " 'leaf_size': 27,\n",
              " 'algorithm': 'kd_tree'}"
            ]
          },
          "metadata": {},
          "execution_count": 107
        }
      ]
    },
    {
      "cell_type": "code",
      "source": [
        "print(randomized_search_knn.best_score_)\n",
        "print(randomized_search_knn.best_params_)"
      ],
      "metadata": {
        "colab": {
          "base_uri": "https://localhost:8080/"
        },
        "id": "PIcXAX1T6_vx",
        "outputId": "2330b5b0-516d-4898-a8cd-f5270bb5c343"
      },
      "execution_count": 108,
      "outputs": [
        {
          "output_type": "stream",
          "name": "stdout",
          "text": [
            "0.6436526215959897\n",
            "{'weights': 'uniform', 'n_neighbors': 45, 'leaf_size': 27, 'algorithm': 'kd_tree'}\n"
          ]
        }
      ]
    },
    {
      "cell_type": "code",
      "source": [
        "knn_best= randomized_search_knn.best_estimator_\n",
        "knn_best\n",
        "print('Acc treino:',knn_best.score(X_train,Y_train))\n",
        "print('Acc teste:',knn_best.score(X_test,Y_test.squeeze()))\n",
        "print('Revocação:',recall_score(Y_test,y_predRS_knn,average=None))\n",
        "print('Precisão:',precision_score(Y_test,y_predRS_knn,average=None))\n",
        "print('F1_score:',precision_score(Y_test,y_predRS_knn,average=None))"
      ],
      "metadata": {
        "colab": {
          "base_uri": "https://localhost:8080/"
        },
        "id": "OPuiyEMu7DSb",
        "outputId": "ad423eca-9cd5-4602-a012-c8be72f2bf9e"
      },
      "execution_count": 109,
      "outputs": [
        {
          "output_type": "stream",
          "name": "stdout",
          "text": [
            "Acc treino: 0.6486042692939245\n",
            "Acc teste: 0.6130268199233716\n",
            "Revocação: [0.95121951 0.05333333 0.         0.        ]\n",
            "Precisão: [0.63673469 0.25       0.         0.        ]\n",
            "F1_score: [0.63673469 0.25       0.         0.        ]\n"
          ]
        },
        {
          "output_type": "stream",
          "name": "stderr",
          "text": [
            "/usr/local/lib/python3.7/dist-packages/sklearn/metrics/_classification.py:1318: UndefinedMetricWarning: Precision is ill-defined and being set to 0.0 in labels with no predicted samples. Use `zero_division` parameter to control this behavior.\n",
            "  _warn_prf(average, modifier, msg_start, len(result))\n",
            "/usr/local/lib/python3.7/dist-packages/sklearn/metrics/_classification.py:1318: UndefinedMetricWarning: Precision is ill-defined and being set to 0.0 in labels with no predicted samples. Use `zero_division` parameter to control this behavior.\n",
            "  _warn_prf(average, modifier, msg_start, len(result))\n"
          ]
        }
      ]
    },
    {
      "cell_type": "code",
      "source": [
        "plot_confusion_matrix(modelRS_knn, X_test, Y_test, cmap='Blues', values_format='.0f');"
      ],
      "metadata": {
        "colab": {
          "base_uri": "https://localhost:8080/",
          "height": 334
        },
        "id": "ajVoxTja7Gdn",
        "outputId": "abcb7083-877d-4a5f-8dd4-615b5e3f59f7"
      },
      "execution_count": 110,
      "outputs": [
        {
          "output_type": "stream",
          "name": "stderr",
          "text": [
            "/usr/local/lib/python3.7/dist-packages/sklearn/utils/deprecation.py:87: FutureWarning: Function plot_confusion_matrix is deprecated; Function `plot_confusion_matrix` is deprecated in 1.0 and will be removed in 1.2. Use one of the class methods: ConfusionMatrixDisplay.from_predictions or ConfusionMatrixDisplay.from_estimator.\n",
            "  warnings.warn(msg, category=FutureWarning)\n"
          ]
        },
        {
          "output_type": "display_data",
          "data": {
            "text/plain": [
              "<Figure size 432x288 with 2 Axes>"
            ],
            "image/png": "[encoded data removed]"
          },
          "metadata": {
            "needs_background": "light"
          }
        }
      ]
    },
    {
      "cell_type": "markdown",
      "source": [
        "Como pôde ser visualizado, utilizando os melhores hiper-parâmetros segundo o Randomized Search, o modelo teve o mesmo aumento de acurácia de 1% em comparação ao modelo original, além das demais métricas permanecerem sem variações significativas, reforçando o hipótese do problema de manipulação dos dados."
      ],
      "metadata": {
        "id": "FQdv-CQGz8mR"
      }
    },
    {
      "cell_type": "markdown",
      "source": [
        "##**5.3 - Random Forest**"
      ],
      "metadata": {
        "id": "Kcsz1_c6TGGZ"
      }
    },
    {
      "cell_type": "markdown",
      "source": [
        "A ideia principal do Random Forest é fazer o agrupamento de uma série de árvores de decisão criadas durante o processo de treinamento do modelo gerar predições (nesse caso classificatórias) com base nas comparações conjunta entre as estruturas arbóreas desenvolvidas<br><br>\n",
        "Esse modelo foi utilizado como mais uma métrica de comparação entre qual modelo classificatório seria o mais adequado para o problema em análise."
      ],
      "metadata": {
        "id": "LwG1k8qm0xxU"
      }
    },
    {
      "cell_type": "markdown",
      "source": [
        "###5.3.1- Random Forest sem hiper-parâmetros"
      ],
      "metadata": {
        "id": "xif974Y07Q9U"
      }
    },
    {
      "cell_type": "markdown",
      "source": [
        "Em um primeiro momento, foi decidido testar o modelo classificatório sem o uso de hiper-parâmetros, visando observar como os nossos dados tratados interferem no módelo sem qualquer influência de manipulação."
      ],
      "metadata": {
        "id": "grb3Opqv2DP-"
      }
    },
    {
      "cell_type": "code",
      "source": [
        "#testando o modelo\n",
        "model_rf= RandomForestClassifier(random_state=3,n_estimators=100, max_depth = 30, criterion = 'gini')\n",
        "model_rf.fit( X_train, Y_train)\n",
        "\n",
        "Y_pred_rf = model_rf.predict(X_test)"
      ],
      "metadata": {
        "id": "izCBQ7YiTK33"
      },
      "execution_count": 111,
      "outputs": []
    },
    {
      "cell_type": "code",
      "source": [
        "print('Random Forest')\n",
        "plot_confusion_matrix(model_rf, X_test, Y_test)  \n",
        "plt.show()\n",
        "\n",
        "print('Acc treino: ', model_rf.score(X_train, Y_train ))\n",
        "print('Acc teste: ', model_rf.score(X_test, Y_test.squeeze() ))\n",
        "print('Revocação:',recall_score(Y_test,Y_pred_rf,average=None))\n",
        "print('Precisão:',precision_score(Y_test,Y_pred_rf,average=None))\n",
        "print('F1_score:',precision_score(Y_test,Y_pred_rf,average=None))"
      ],
      "metadata": {
        "id": "6iUw485gyA8z",
        "colab": {
          "base_uri": "https://localhost:8080/",
          "height": 507
        },
        "outputId": "2bee0623-99c7-4eed-bd39-97ef08fa5230"
      },
      "execution_count": 112,
      "outputs": [
        {
          "output_type": "stream",
          "name": "stdout",
          "text": [
            "Random Forest\n"
          ]
        },
        {
          "output_type": "stream",
          "name": "stderr",
          "text": [
            "/usr/local/lib/python3.7/dist-packages/sklearn/utils/deprecation.py:87: FutureWarning: Function plot_confusion_matrix is deprecated; Function `plot_confusion_matrix` is deprecated in 1.0 and will be removed in 1.2. Use one of the class methods: ConfusionMatrixDisplay.from_predictions or ConfusionMatrixDisplay.from_estimator.\n",
            "  warnings.warn(msg, category=FutureWarning)\n"
          ]
        },
        {
          "output_type": "display_data",
          "data": {
            "text/plain": [
              "<Figure size 432x288 with 2 Axes>"
            ],
            "image/png": "[encoded data removed]"
          },
          "metadata": {
            "needs_background": "light"
          }
        },
        {
          "output_type": "stream",
          "name": "stdout",
          "text": [
            "Acc treino:  0.9950738916256158\n",
            "Acc teste:  0.5632183908045977\n",
            "Revocação: [0.81097561 0.18666667 0.         0.        ]\n",
            "Precisão: [0.65517241 0.26923077 0.         0.        ]\n",
            "F1_score: [0.65517241 0.26923077 0.         0.        ]\n"
          ]
        },
        {
          "output_type": "stream",
          "name": "stderr",
          "text": [
            "/usr/local/lib/python3.7/dist-packages/sklearn/metrics/_classification.py:1318: UndefinedMetricWarning: Precision is ill-defined and being set to 0.0 in labels with no predicted samples. Use `zero_division` parameter to control this behavior.\n",
            "  _warn_prf(average, modifier, msg_start, len(result))\n",
            "/usr/local/lib/python3.7/dist-packages/sklearn/metrics/_classification.py:1318: UndefinedMetricWarning: Precision is ill-defined and being set to 0.0 in labels with no predicted samples. Use `zero_division` parameter to control this behavior.\n",
            "  _warn_prf(average, modifier, msg_start, len(result))\n"
          ]
        }
      ]
    },
    {
      "cell_type": "code",
      "source": [
        "print(classification_report(Y_test, Y_pred_knn))"
      ],
      "metadata": {
        "id": "8EShh7aJyXJQ",
        "colab": {
          "base_uri": "https://localhost:8080/"
        },
        "outputId": "c8214e6e-d041-4193-d3bf-60c1ce493671"
      },
      "execution_count": 113,
      "outputs": [
        {
          "output_type": "stream",
          "name": "stdout",
          "text": [
            "              precision    recall  f1-score   support\n",
            "\n",
            "         1.0       0.64      0.90      0.75       164\n",
            "         2.0       0.33      0.13      0.19        75\n",
            "         3.0       0.00      0.00      0.00        19\n",
            "         4.0       0.00      0.00      0.00         3\n",
            "\n",
            "    accuracy                           0.61       261\n",
            "   macro avg       0.24      0.26      0.23       261\n",
            "weighted avg       0.50      0.61      0.53       261\n",
            "\n"
          ]
        },
        {
          "output_type": "stream",
          "name": "stderr",
          "text": [
            "/usr/local/lib/python3.7/dist-packages/sklearn/metrics/_classification.py:1318: UndefinedMetricWarning: Precision and F-score are ill-defined and being set to 0.0 in labels with no predicted samples. Use `zero_division` parameter to control this behavior.\n",
            "  _warn_prf(average, modifier, msg_start, len(result))\n",
            "/usr/local/lib/python3.7/dist-packages/sklearn/metrics/_classification.py:1318: UndefinedMetricWarning: Precision and F-score are ill-defined and being set to 0.0 in labels with no predicted samples. Use `zero_division` parameter to control this behavior.\n",
            "  _warn_prf(average, modifier, msg_start, len(result))\n",
            "/usr/local/lib/python3.7/dist-packages/sklearn/metrics/_classification.py:1318: UndefinedMetricWarning: Precision and F-score are ill-defined and being set to 0.0 in labels with no predicted samples. Use `zero_division` parameter to control this behavior.\n",
            "  _warn_prf(average, modifier, msg_start, len(result))\n"
          ]
        }
      ]
    },
    {
      "cell_type": "markdown",
      "source": [
        "Como pôde ser percebido, o modelo sem o uso de qualquer hiper-parâmetro possui uma acurácia de teste de 56% , indicando uma forte taxa de erro do modelo em cima de predições falso negativas e positivas, visto que a quantidade de desses tipos de erros é inversamente proporcional à pontuação da acurácia.Entretanto, a baixa acurácia( fortememnte influenciada pelos falsos positivos) e alta revocação(fortemente influenciada pelos falsos negativos) indica que o modelo erra mais os falsos positivos que os falsos negativos"
      ],
      "metadata": {
        "id": "eJLc5tFQ2JY2"
      }
    },
    {
      "cell_type": "markdown",
      "source": [
        "###5.3.2 - Random Forest com hiper-parâmetros(Grid Search)"
      ],
      "metadata": {
        "id": "t0pETMxK7ijV"
      }
    },
    {
      "cell_type": "markdown",
      "source": [
        "Visando buscar melhores resultados para o Random Forest, foi utilizado a ferramenta de busca de hiper-parâmetros Grid Search, que realiza vários testes com base nos hiper-perâmetros pré selecionados e retorna o melhor resultado dentre todas essa repetiçoes do modelo."
      ],
      "metadata": {
        "id": "KPjnPsnI23Hu"
      }
    },
    {
      "cell_type": "code",
      "source": [
        "from sklearn.model_selection import GridSearchCV\n",
        "# Cria o GridSearchCV\n",
        "\n",
        "parameters_rf = {'n_estimators':range(50,250, 50), \n",
        "              'criterion':['gini','entropy','log_loss'],\n",
        "              'min_samples_split':range(2,8,2),\n",
        "              }\n",
        "grid_rf = GridSearchCV(RandomForestClassifier(), parameters_rf)\n",
        "# Treina os modelos e guarda na variável modelGS o melhor modelo\n",
        "grid_rf.fit(X_train, Y_train)\n",
        "\n",
        "modelGS_rf = grid_rf.best_estimator_\n",
        "\n",
        "y_pred_rf = modelGS_rf.predict(X_test)\n",
        "\n",
        "accuracy = accuracy_score(Y_test, Y_pred_rf)\n",
        "\n",
        "print('Random Forest score: {}'.format(accuracy))\n",
        "grid_rf.best_params_\n"
      ],
      "metadata": {
        "colab": {
          "base_uri": "https://localhost:8080/"
        },
        "id": "9PMIXInP7sqc",
        "outputId": "059c4765-cea4-49a9-e435-e4bcceb43371"
      },
      "execution_count": 114,
      "outputs": [
        {
          "output_type": "stream",
          "name": "stdout",
          "text": [
            "Random Forest score: 0.5632183908045977\n"
          ]
        },
        {
          "output_type": "stream",
          "name": "stderr",
          "text": [
            "/usr/local/lib/python3.7/dist-packages/sklearn/model_selection/_validation.py:372: FitFailedWarning: \n",
            "60 fits failed out of a total of 180.\n",
            "The score on these train-test partitions for these parameters will be set to nan.\n",
            "If these failures are not expected, you can try to debug them by setting error_score='raise'.\n",
            "\n",
            "Below are more details about the failures:\n",
            "--------------------------------------------------------------------------------\n",
            "60 fits failed with the following error:\n",
            "Traceback (most recent call last):\n",
            "  File \"/usr/local/lib/python3.7/dist-packages/sklearn/model_selection/_validation.py\", line 680, in _fit_and_score\n",
            "    estimator.fit(X_train, y_train, **fit_params)\n",
            "  File \"/usr/local/lib/python3.7/dist-packages/sklearn/ensemble/_forest.py\", line 467, in fit\n",
            "    for i, t in enumerate(trees)\n",
            "  File \"/usr/local/lib/python3.7/dist-packages/joblib/parallel.py\", line 1043, in __call__\n",
            "    if self.dispatch_one_batch(iterator):\n",
            "  File \"/usr/local/lib/python3.7/dist-packages/joblib/parallel.py\", line 861, in dispatch_one_batch\n",
            "    self._dispatch(tasks)\n",
            "  File \"/usr/local/lib/python3.7/dist-packages/joblib/parallel.py\", line 779, in _dispatch\n",
            "    job = self._backend.apply_async(batch, callback=cb)\n",
            "  File \"/usr/local/lib/python3.7/dist-packages/joblib/_parallel_backends.py\", line 208, in apply_async\n",
            "    result = ImmediateResult(func)\n",
            "  File \"/usr/local/lib/python3.7/dist-packages/joblib/_parallel_backends.py\", line 572, in __init__\n",
            "    self.results = batch()\n",
            "  File \"/usr/local/lib/python3.7/dist-packages/joblib/parallel.py\", line 263, in __call__\n",
            "    for func, args, kwargs in self.items]\n",
            "  File \"/usr/local/lib/python3.7/dist-packages/joblib/parallel.py\", line 263, in <listcomp>\n",
            "    for func, args, kwargs in self.items]\n",
            "  File \"/usr/local/lib/python3.7/dist-packages/sklearn/utils/fixes.py\", line 216, in __call__\n",
            "    return self.function(*args, **kwargs)\n",
            "  File \"/usr/local/lib/python3.7/dist-packages/sklearn/ensemble/_forest.py\", line 185, in _parallel_build_trees\n",
            "    tree.fit(X, y, sample_weight=curr_sample_weight, check_input=False)\n",
            "  File \"/usr/local/lib/python3.7/dist-packages/sklearn/tree/_classes.py\", line 942, in fit\n",
            "    X_idx_sorted=X_idx_sorted,\n",
            "  File \"/usr/local/lib/python3.7/dist-packages/sklearn/tree/_classes.py\", line 352, in fit\n",
            "    criterion = CRITERIA_CLF[self.criterion](\n",
            "KeyError: 'log_loss'\n",
            "\n",
            "  warnings.warn(some_fits_failed_message, FitFailedWarning)\n",
            "/usr/local/lib/python3.7/dist-packages/sklearn/model_selection/_search.py:972: UserWarning: One or more of the test scores are non-finite: [0.62076954 0.62236824 0.61583796 0.63060561 0.6322314  0.63551009\n",
            " 0.64208102 0.62727273 0.64534616 0.63714944 0.63381656 0.62402114\n",
            " 0.61579732 0.62079664 0.61911665 0.61581087 0.63057851 0.63064625\n",
            " 0.62731337 0.63224495 0.62399404 0.63384365 0.63713589 0.62566048\n",
            "        nan        nan        nan        nan        nan        nan\n",
            "        nan        nan        nan        nan        nan        nan]\n",
            "  category=UserWarning,\n"
          ]
        },
        {
          "output_type": "execute_result",
          "data": {
            "text/plain": [
              "{'criterion': 'gini', 'min_samples_split': 6, 'n_estimators': 50}"
            ]
          },
          "metadata": {},
          "execution_count": 114
        }
      ]
    },
    {
      "cell_type": "code",
      "source": [
        "print(grid_rf.best_score_)\n",
        "print(grid_rf.best_params_)"
      ],
      "metadata": {
        "colab": {
          "base_uri": "https://localhost:8080/"
        },
        "id": "pCd458V37yKz",
        "outputId": "d4be624f-9571-44ec-e06a-b968838c2774"
      },
      "execution_count": 115,
      "outputs": [
        {
          "output_type": "stream",
          "name": "stdout",
          "text": [
            "0.6453461590570384\n",
            "{'criterion': 'gini', 'min_samples_split': 6, 'n_estimators': 50}\n"
          ]
        }
      ]
    },
    {
      "cell_type": "code",
      "source": [
        "print('Acc treino:',modelGS_rf.score(X_train,Y_train))\n",
        "print('Acc teste:',modelGS_rf.score(X_test,y_pred_rf))\n",
        "print('Revocação:',recall_score(Y_test,y_pred_rf,average=None))\n",
        "print('Precisão:',precision_score(Y_test,y_pred_rf,average=None))\n",
        "print('F1_score:',precision_score(Y_test,y_pred_rf,average=None))"
      ],
      "metadata": {
        "colab": {
          "base_uri": "https://localhost:8080/"
        },
        "id": "9Rwe0-Oq73Vg",
        "outputId": "52e18043-936e-4ec8-b406-25c334bb855e"
      },
      "execution_count": 116,
      "outputs": [
        {
          "output_type": "stream",
          "name": "stdout",
          "text": [
            "Acc treino: 0.8784893267651889\n",
            "Acc teste: 1.0\n",
            "Revocação: [0.82317073 0.16       0.         0.        ]\n",
            "Precisão: [0.64593301 0.24       0.         0.        ]\n",
            "F1_score: [0.64593301 0.24       0.         0.        ]\n"
          ]
        },
        {
          "output_type": "stream",
          "name": "stderr",
          "text": [
            "/usr/local/lib/python3.7/dist-packages/sklearn/metrics/_classification.py:1318: UndefinedMetricWarning: Precision is ill-defined and being set to 0.0 in labels with no predicted samples. Use `zero_division` parameter to control this behavior.\n",
            "  _warn_prf(average, modifier, msg_start, len(result))\n",
            "/usr/local/lib/python3.7/dist-packages/sklearn/metrics/_classification.py:1318: UndefinedMetricWarning: Precision is ill-defined and being set to 0.0 in labels with no predicted samples. Use `zero_division` parameter to control this behavior.\n",
            "  _warn_prf(average, modifier, msg_start, len(result))\n"
          ]
        }
      ]
    },
    {
      "cell_type": "code",
      "source": [
        "plot_confusion_matrix(modelGS_rf, X_test, Y_test, cmap='Blues', values_format='.0f');"
      ],
      "metadata": {
        "colab": {
          "base_uri": "https://localhost:8080/",
          "height": 334
        },
        "id": "X6UzU1IN78hu",
        "outputId": "4db65700-fc05-413b-b331-d15c5e3817b8"
      },
      "execution_count": 117,
      "outputs": [
        {
          "output_type": "stream",
          "name": "stderr",
          "text": [
            "/usr/local/lib/python3.7/dist-packages/sklearn/utils/deprecation.py:87: FutureWarning: Function plot_confusion_matrix is deprecated; Function `plot_confusion_matrix` is deprecated in 1.0 and will be removed in 1.2. Use one of the class methods: ConfusionMatrixDisplay.from_predictions or ConfusionMatrixDisplay.from_estimator.\n",
            "  warnings.warn(msg, category=FutureWarning)\n"
          ]
        },
        {
          "output_type": "display_data",
          "data": {
            "text/plain": [
              "<Figure size 432x288 with 2 Axes>"
            ],
            "image/png": "[encoded data removed]"
          },
          "metadata": {
            "needs_background": "light"
          }
        }
      ]
    },
    {
      "cell_type": "markdown",
      "source": [
        "Como pôde ser visualizado, utilizando dos melhores hiper-parâmetros para o modelo segundo o Grid Search, a acurácia teve um surpreendente aumento para 100% de acurácia de teste mas que não foi acompanhado por um aumento das outras métricas, indicando que essa surpreendente pontuação possui grandes chances de estar ligada à um vício do modelo em relação à alguns dados"
      ],
      "metadata": {
        "id": "Cw0NAdJf3ZCL"
      }
    },
    {
      "cell_type": "markdown",
      "source": [
        "###5.3.3- Random Forest com hiper-parâmetros(Randomized Search)"
      ],
      "metadata": {
        "id": "YSoaz8fC8Cp6"
      }
    },
    {
      "cell_type": "markdown",
      "source": [
        "Buscando ainda analisar outros modelos de busca de hiper-parâmetros para servir de comparação com os resultados obtidos, foi o utilizado também o Randomized Search para a busca dos melhores hiper-parâmetros."
      ],
      "metadata": {
        "id": "sZ6S7dvc4GvW"
      }
    },
    {
      "cell_type": "code",
      "source": [
        "parametros_rf={\n",
        "    'n_estimators':range(1,350),\n",
        "    'criterion':['gini','entropy','log_loss'],\n",
        "    'min_samples_split':range(1,10),\n",
        "}\n",
        "randomized_search_rf=RandomizedSearchCV(estimator = RandomForestClassifier(),param_distributions=parametros_rf)\n",
        "randomized_search_rf.fit(X_train,Y_train.squeeze())\n",
        "\n",
        "modelRS_rf = randomized_search_rf.best_estimator_\n",
        "\n",
        "y_predRS_rf = modelRS_rf.predict(X_test)\n",
        "\n",
        "accuracy = accuracy_score(Y_test, y_predRS_rf)\n",
        "\n",
        "print('Random Forest score: {}'.format(accuracy))\n",
        "randomized_search_rf.best_params_\n"
      ],
      "metadata": {
        "colab": {
          "base_uri": "https://localhost:8080/"
        },
        "id": "DtPj0GoC8WxU",
        "outputId": "bd0e1dae-8747-49e3-c020-85f36b51ed68"
      },
      "execution_count": 118,
      "outputs": [
        {
          "output_type": "stream",
          "name": "stderr",
          "text": [
            "/usr/local/lib/python3.7/dist-packages/sklearn/model_selection/_validation.py:372: FitFailedWarning: \n",
            "20 fits failed out of a total of 50.\n",
            "The score on these train-test partitions for these parameters will be set to nan.\n",
            "If these failures are not expected, you can try to debug them by setting error_score='raise'.\n",
            "\n",
            "Below are more details about the failures:\n",
            "--------------------------------------------------------------------------------\n",
            "10 fits failed with the following error:\n",
            "Traceback (most recent call last):\n",
            "  File \"/usr/local/lib/python3.7/dist-packages/sklearn/model_selection/_validation.py\", line 680, in _fit_and_score\n",
            "    estimator.fit(X_train, y_train, **fit_params)\n",
            "  File \"/usr/local/lib/python3.7/dist-packages/sklearn/ensemble/_forest.py\", line 467, in fit\n",
            "    for i, t in enumerate(trees)\n",
            "  File \"/usr/local/lib/python3.7/dist-packages/joblib/parallel.py\", line 1043, in __call__\n",
            "    if self.dispatch_one_batch(iterator):\n",
            "  File \"/usr/local/lib/python3.7/dist-packages/joblib/parallel.py\", line 861, in dispatch_one_batch\n",
            "    self._dispatch(tasks)\n",
            "  File \"/usr/local/lib/python3.7/dist-packages/joblib/parallel.py\", line 779, in _dispatch\n",
            "    job = self._backend.apply_async(batch, callback=cb)\n",
            "  File \"/usr/local/lib/python3.7/dist-packages/joblib/_parallel_backends.py\", line 208, in apply_async\n",
            "    result = ImmediateResult(func)\n",
            "  File \"/usr/local/lib/python3.7/dist-packages/joblib/_parallel_backends.py\", line 572, in __init__\n",
            "    self.results = batch()\n",
            "  File \"/usr/local/lib/python3.7/dist-packages/joblib/parallel.py\", line 263, in __call__\n",
            "    for func, args, kwargs in self.items]\n",
            "  File \"/usr/local/lib/python3.7/dist-packages/joblib/parallel.py\", line 263, in <listcomp>\n",
            "    for func, args, kwargs in self.items]\n",
            "  File \"/usr/local/lib/python3.7/dist-packages/sklearn/utils/fixes.py\", line 216, in __call__\n",
            "    return self.function(*args, **kwargs)\n",
            "  File \"/usr/local/lib/python3.7/dist-packages/sklearn/ensemble/_forest.py\", line 185, in _parallel_build_trees\n",
            "    tree.fit(X, y, sample_weight=curr_sample_weight, check_input=False)\n",
            "  File \"/usr/local/lib/python3.7/dist-packages/sklearn/tree/_classes.py\", line 942, in fit\n",
            "    X_idx_sorted=X_idx_sorted,\n",
            "  File \"/usr/local/lib/python3.7/dist-packages/sklearn/tree/_classes.py\", line 352, in fit\n",
            "    criterion = CRITERIA_CLF[self.criterion](\n",
            "KeyError: 'log_loss'\n",
            "\n",
            "--------------------------------------------------------------------------------\n",
            "10 fits failed with the following error:\n",
            "Traceback (most recent call last):\n",
            "  File \"/usr/local/lib/python3.7/dist-packages/sklearn/model_selection/_validation.py\", line 680, in _fit_and_score\n",
            "    estimator.fit(X_train, y_train, **fit_params)\n",
            "  File \"/usr/local/lib/python3.7/dist-packages/sklearn/ensemble/_forest.py\", line 467, in fit\n",
            "    for i, t in enumerate(trees)\n",
            "  File \"/usr/local/lib/python3.7/dist-packages/joblib/parallel.py\", line 1043, in __call__\n",
            "    if self.dispatch_one_batch(iterator):\n",
            "  File \"/usr/local/lib/python3.7/dist-packages/joblib/parallel.py\", line 861, in dispatch_one_batch\n",
            "    self._dispatch(tasks)\n",
            "  File \"/usr/local/lib/python3.7/dist-packages/joblib/parallel.py\", line 779, in _dispatch\n",
            "    job = self._backend.apply_async(batch, callback=cb)\n",
            "  File \"/usr/local/lib/python3.7/dist-packages/joblib/_parallel_backends.py\", line 208, in apply_async\n",
            "    result = ImmediateResult(func)\n",
            "  File \"/usr/local/lib/python3.7/dist-packages/joblib/_parallel_backends.py\", line 572, in __init__\n",
            "    self.results = batch()\n",
            "  File \"/usr/local/lib/python3.7/dist-packages/joblib/parallel.py\", line 263, in __call__\n",
            "    for func, args, kwargs in self.items]\n",
            "  File \"/usr/local/lib/python3.7/dist-packages/joblib/parallel.py\", line 263, in <listcomp>\n",
            "    for func, args, kwargs in self.items]\n",
            "  File \"/usr/local/lib/python3.7/dist-packages/sklearn/utils/fixes.py\", line 216, in __call__\n",
            "    return self.function(*args, **kwargs)\n",
            "  File \"/usr/local/lib/python3.7/dist-packages/sklearn/ensemble/_forest.py\", line 185, in _parallel_build_trees\n",
            "    tree.fit(X, y, sample_weight=curr_sample_weight, check_input=False)\n",
            "  File \"/usr/local/lib/python3.7/dist-packages/sklearn/tree/_classes.py\", line 942, in fit\n",
            "    X_idx_sorted=X_idx_sorted,\n",
            "  File \"/usr/local/lib/python3.7/dist-packages/sklearn/tree/_classes.py\", line 254, in fit\n",
            "    % self.min_samples_split\n",
            "ValueError: min_samples_split must be an integer greater than 1 or a float in (0.0, 1.0]; got the integer 1\n",
            "\n",
            "  warnings.warn(some_fits_failed_message, FitFailedWarning)\n",
            "/usr/local/lib/python3.7/dist-packages/sklearn/model_selection/_search.py:972: UserWarning: One or more of the test scores are non-finite: [       nan 0.61747731 0.61908955        nan        nan 0.63389785\n",
            " 0.63717653 0.63220431 0.62728628        nan]\n",
            "  category=UserWarning,\n"
          ]
        },
        {
          "output_type": "stream",
          "name": "stdout",
          "text": [
            "Random Forest score: 0.5632183908045977\n"
          ]
        },
        {
          "output_type": "execute_result",
          "data": {
            "text/plain": [
              "{'n_estimators': 176, 'min_samples_split': 5, 'criterion': 'entropy'}"
            ]
          },
          "metadata": {},
          "execution_count": 118
        }
      ]
    },
    {
      "cell_type": "code",
      "source": [
        "print(randomized_search_rf.best_score_)\n",
        "print(randomized_search_rf.best_params_)"
      ],
      "metadata": {
        "colab": {
          "base_uri": "https://localhost:8080/"
        },
        "id": "yAOM7iAh8cxX",
        "outputId": "43c98402-30b6-4daf-fea3-06348cfcb44e"
      },
      "execution_count": 119,
      "outputs": [
        {
          "output_type": "stream",
          "name": "stdout",
          "text": [
            "0.6371765343449397\n",
            "{'n_estimators': 176, 'min_samples_split': 5, 'criterion': 'entropy'}\n"
          ]
        }
      ]
    },
    {
      "cell_type": "code",
      "source": [
        "print('Acc treino:',modelRS_rf.score(X_train,Y_train))\n",
        "print('Acc teste:',modelRS_rf.score(X_test,y_predRS_rf.squeeze()))\n",
        "print('Revocação:',recall_score(Y_test,y_predRS_rf,average=None))\n",
        "print('Precisão:',precision_score(Y_test,y_predRS_rf,average=None))\n",
        "print('F1_score:',precision_score(Y_test,y_predRS_rf,average=None))"
      ],
      "metadata": {
        "colab": {
          "base_uri": "https://localhost:8080/"
        },
        "id": "d4TJKwoa8i26",
        "outputId": "a398c541-d1eb-42fe-a6bb-67d306be641b"
      },
      "execution_count": 120,
      "outputs": [
        {
          "output_type": "stream",
          "name": "stdout",
          "text": [
            "Acc treino: 0.9310344827586207\n",
            "Acc teste: 1.0\n",
            "Revocação: [0.82926829 0.14666667 0.         0.        ]\n",
            "Precisão: [0.64761905 0.23404255 0.         0.        ]\n",
            "F1_score: [0.64761905 0.23404255 0.         0.        ]\n"
          ]
        },
        {
          "output_type": "stream",
          "name": "stderr",
          "text": [
            "/usr/local/lib/python3.7/dist-packages/sklearn/metrics/_classification.py:1318: UndefinedMetricWarning: Precision is ill-defined and being set to 0.0 in labels with no predicted samples. Use `zero_division` parameter to control this behavior.\n",
            "  _warn_prf(average, modifier, msg_start, len(result))\n",
            "/usr/local/lib/python3.7/dist-packages/sklearn/metrics/_classification.py:1318: UndefinedMetricWarning: Precision is ill-defined and being set to 0.0 in labels with no predicted samples. Use `zero_division` parameter to control this behavior.\n",
            "  _warn_prf(average, modifier, msg_start, len(result))\n"
          ]
        }
      ]
    },
    {
      "cell_type": "code",
      "source": [
        "plot_confusion_matrix(modelRS_rf, X_test, Y_test, cmap='Blues', values_format='.0f');"
      ],
      "metadata": {
        "colab": {
          "base_uri": "https://localhost:8080/",
          "height": 334
        },
        "id": "iGd7ALrg8nTC",
        "outputId": "0d5c8a89-fe17-4014-d901-d36d68df4548"
      },
      "execution_count": 121,
      "outputs": [
        {
          "output_type": "stream",
          "name": "stderr",
          "text": [
            "/usr/local/lib/python3.7/dist-packages/sklearn/utils/deprecation.py:87: FutureWarning: Function plot_confusion_matrix is deprecated; Function `plot_confusion_matrix` is deprecated in 1.0 and will be removed in 1.2. Use one of the class methods: ConfusionMatrixDisplay.from_predictions or ConfusionMatrixDisplay.from_estimator.\n",
            "  warnings.warn(msg, category=FutureWarning)\n"
          ]
        },
        {
          "output_type": "display_data",
          "data": {
            "text/plain": [
              "<Figure size 432x288 with 2 Axes>"
            ],
            "image/png": "[encoded data removed]"
          },
          "metadata": {
            "needs_background": "light"
          }
        }
      ]
    },
    {
      "cell_type": "markdown",
      "source": [
        "Como pôde ser visualizado, utilizando os melhores hiper-parâmetros segundo o Randomized Search, o modelo teve o mesmo aumento de acurácia para 100% sem a alteração das demais métricas, reforçando a teoria do vício do modelo durante o processo de treino."
      ],
      "metadata": {
        "id": "EaNuLYZ34Krp"
      }
    },
    {
      "cell_type": "markdown",
      "source": [
        "##**5.4 - SVM**"
      ],
      "metadata": {
        "id": "nbowOHXgysNs"
      }
    },
    {
      "cell_type": "markdown",
      "source": [
        "O SVM é um algoritmo que busca uma linha de separação entre duas classes distintas, analisando os dois pontos, um de cada grupo, mais próximos da outra classe. Isto é, o SVM escolhe a reta entre dois grupos que se distancia mais de cada um e, após descoberta essa reta, o programa conseguirá predizer a qual classe pertence um novo dado ao checar de qual lado da reta ele está.<br><br>\n",
        "Esse modelo foi utilizado como mais uma métrica de comparação entre qual modelo classificatório seria o mais adequado para o problema em análise.\n"
      ],
      "metadata": {
        "id": "z5nwja6L47wB"
      }
    },
    {
      "cell_type": "markdown",
      "source": [
        "###5.4.1- SVM sem hiper-parâmetros"
      ],
      "metadata": {
        "id": "NTweMlrp8tZ-"
      }
    },
    {
      "cell_type": "markdown",
      "source": [
        "Em um primeiro momento, foi decidido testar o modelo classificatório sem o uso de hiper-parâmetros, visando observar como os nossos dados tratados interferem no módelo sem qualquer influência de manipulação."
      ],
      "metadata": {
        "id": "rWGLkvjG5fbN"
      }
    },
    {
      "cell_type": "code",
      "source": [
        "#testando o modelo\n",
        "model_svm= SVC(random_state=3)\n",
        "model_svm.fit( X_train, Y_train)\n",
        "\n",
        "Y_pred_svm = model_svm.predict(X_test)"
      ],
      "metadata": {
        "id": "rxsJE9AyyxVv"
      },
      "execution_count": 122,
      "outputs": []
    },
    {
      "cell_type": "code",
      "source": [
        "print('SVM')\n",
        "plot_confusion_matrix(model_rf, X_test, Y_test)  \n",
        "plt.show()\n",
        "\n",
        "print('Acc treino: ', model_svm.score(X_train, Y_train ))\n",
        "print('Acc teste: ', model_svm.score(X_test, Y_test.squeeze() ))\n",
        "print('Revocação:',recall_score(Y_test,Y_pred_svm,average=None))\n",
        "print('Precisão:',precision_score(Y_test,Y_pred_svm,average=None))\n",
        "print('F1_score:',precision_score(Y_test,Y_pred_svm,average=None))"
      ],
      "metadata": {
        "id": "0iFspP4N0_BO",
        "colab": {
          "base_uri": "https://localhost:8080/",
          "height": 507
        },
        "outputId": "e3e2d333-43ae-4658-a75e-d11a3a1d2e51"
      },
      "execution_count": 123,
      "outputs": [
        {
          "output_type": "stream",
          "name": "stdout",
          "text": [
            "SVM\n"
          ]
        },
        {
          "output_type": "stream",
          "name": "stderr",
          "text": [
            "/usr/local/lib/python3.7/dist-packages/sklearn/utils/deprecation.py:87: FutureWarning: Function plot_confusion_matrix is deprecated; Function `plot_confusion_matrix` is deprecated in 1.0 and will be removed in 1.2. Use one of the class methods: ConfusionMatrixDisplay.from_predictions or ConfusionMatrixDisplay.from_estimator.\n",
            "  warnings.warn(msg, category=FutureWarning)\n"
          ]
        },
        {
          "output_type": "display_data",
          "data": {
            "text/plain": [
              "<Figure size 432x288 with 2 Axes>"
            ],
            "image/png": "[encoded data removed]"
          },
          "metadata": {
            "needs_background": "light"
          }
        },
        {
          "output_type": "stream",
          "name": "stdout",
          "text": [
            "Acc treino:  0.6403940886699507\n",
            "Acc teste:  0.6283524904214559\n",
            "Revocação: [1. 0. 0. 0.]\n",
            "Precisão: [0.62835249 0.         0.         0.        ]\n",
            "F1_score: [0.62835249 0.         0.         0.        ]\n"
          ]
        },
        {
          "output_type": "stream",
          "name": "stderr",
          "text": [
            "/usr/local/lib/python3.7/dist-packages/sklearn/metrics/_classification.py:1318: UndefinedMetricWarning: Precision is ill-defined and being set to 0.0 in labels with no predicted samples. Use `zero_division` parameter to control this behavior.\n",
            "  _warn_prf(average, modifier, msg_start, len(result))\n",
            "/usr/local/lib/python3.7/dist-packages/sklearn/metrics/_classification.py:1318: UndefinedMetricWarning: Precision is ill-defined and being set to 0.0 in labels with no predicted samples. Use `zero_division` parameter to control this behavior.\n",
            "  _warn_prf(average, modifier, msg_start, len(result))\n"
          ]
        }
      ]
    },
    {
      "cell_type": "code",
      "source": [
        "print(classification_report(Y_test, Y_pred_svm))"
      ],
      "metadata": {
        "id": "fUmLE-OX1VxE",
        "colab": {
          "base_uri": "https://localhost:8080/"
        },
        "outputId": "767db8fc-bf12-4016-dce1-c9c65013651f"
      },
      "execution_count": 124,
      "outputs": [
        {
          "output_type": "stream",
          "name": "stdout",
          "text": [
            "              precision    recall  f1-score   support\n",
            "\n",
            "         1.0       0.63      1.00      0.77       164\n",
            "         2.0       0.00      0.00      0.00        75\n",
            "         3.0       0.00      0.00      0.00        19\n",
            "         4.0       0.00      0.00      0.00         3\n",
            "\n",
            "    accuracy                           0.63       261\n",
            "   macro avg       0.16      0.25      0.19       261\n",
            "weighted avg       0.39      0.63      0.48       261\n",
            "\n"
          ]
        },
        {
          "output_type": "stream",
          "name": "stderr",
          "text": [
            "/usr/local/lib/python3.7/dist-packages/sklearn/metrics/_classification.py:1318: UndefinedMetricWarning: Precision and F-score are ill-defined and being set to 0.0 in labels with no predicted samples. Use `zero_division` parameter to control this behavior.\n",
            "  _warn_prf(average, modifier, msg_start, len(result))\n",
            "/usr/local/lib/python3.7/dist-packages/sklearn/metrics/_classification.py:1318: UndefinedMetricWarning: Precision and F-score are ill-defined and being set to 0.0 in labels with no predicted samples. Use `zero_division` parameter to control this behavior.\n",
            "  _warn_prf(average, modifier, msg_start, len(result))\n",
            "/usr/local/lib/python3.7/dist-packages/sklearn/metrics/_classification.py:1318: UndefinedMetricWarning: Precision and F-score are ill-defined and being set to 0.0 in labels with no predicted samples. Use `zero_division` parameter to control this behavior.\n",
            "  _warn_prf(average, modifier, msg_start, len(result))\n"
          ]
        }
      ]
    },
    {
      "cell_type": "markdown",
      "source": [
        "Como pôde ser percebido, o modelo sem o uso de qualquer hiper-parâmetro possui uma acurácia de teste de 62% , indicando uma forte taxa de erro do modelo em cima de predições falso negativas e positivas, visto que a quantidade de desses tipos de erros é inversamente proporcional à pontuação da acurácia.Entretanto, a baixa acurácia( fortememnte influenciada pelos falsos positivos) e alta revocação(fortemente influenciada pelos falsos negativos) indica que o modelo erra mais os falsos positivos que os falsos negativos, ainda que o valor exorbitantemente alto da revocação (100%) sinalize para um vício do modelo durante o treinamento."
      ],
      "metadata": {
        "id": "-Ssk0-Ra5k3X"
      }
    },
    {
      "cell_type": "markdown",
      "source": [
        "###5.4.2 - SVM com hiper-parâmetros(Grid Search)"
      ],
      "metadata": {
        "id": "Ynk10SQq82tQ"
      }
    },
    {
      "cell_type": "markdown",
      "source": [
        "Visando buscar melhores resultados para o SVM, foi utilizado a ferramenta de busca de hiper-parâmetros Grid Search, que realiza vários testes com base nos hiper-perâmetros pré selecionados e retorna o melhor resultado dentre todas essa repetiçoes do modelo."
      ],
      "metadata": {
        "id": "TjEJjMbR6QBe"
      }
    },
    {
      "cell_type": "code",
      "source": [
        "from sklearn.model_selection import GridSearchCV\n",
        "# Cria o GridSearchCV\n",
        "\n",
        "parameters_svm = {\n",
        "              'kernel':['rbf'],#['linear','poly','rbf','sigmoid','precomputed'],\n",
        "              'gamma':['scale','auto'],\n",
        "              'degree':range(1,10)\n",
        "              }\n",
        "grid_svm = GridSearchCV(SVC(), parameters_svm)\n",
        "# Treina os modelos e guarda na variável modelGS o melhor modelo\n",
        "grid_svm.fit(X_train, Y_train)\n",
        "modelo_SVM = grid_svm.best_estimator_\n",
        "\n",
        "y_pred_svm = modelo_SVM.predict(X_test)\n",
        "\n",
        "accuracy = accuracy_score(Y_test, Y_pred_svm)\n",
        "\n",
        "print('SVM score: {}'.format(accuracy))\n",
        "grid_svm.best_params_"
      ],
      "metadata": {
        "colab": {
          "base_uri": "https://localhost:8080/"
        },
        "id": "n1UKI-Cz9GVI",
        "outputId": "043e2775-9d4c-469c-a0ad-01b92f561f5c"
      },
      "execution_count": 125,
      "outputs": [
        {
          "output_type": "stream",
          "name": "stdout",
          "text": [
            "SVM score: 0.6283524904214559\n"
          ]
        },
        {
          "output_type": "execute_result",
          "data": {
            "text/plain": [
              "{'degree': 1, 'gamma': 'scale', 'kernel': 'rbf'}"
            ]
          },
          "metadata": {},
          "execution_count": 125
        }
      ]
    },
    {
      "cell_type": "code",
      "source": [
        "print(grid_svm.best_score_)\n",
        "print(grid_svm.best_params_)"
      ],
      "metadata": {
        "colab": {
          "base_uri": "https://localhost:8080/"
        },
        "id": "CxFba3gN9TGz",
        "outputId": "bc389e28-0be9-42ba-88ea-39ce4971310c"
      },
      "execution_count": 126,
      "outputs": [
        {
          "output_type": "stream",
          "name": "stdout",
          "text": [
            "0.6387616854084813\n",
            "{'degree': 1, 'gamma': 'scale', 'kernel': 'rbf'}\n"
          ]
        }
      ]
    },
    {
      "cell_type": "code",
      "source": [
        "print('Acc treino:',modelo_SVM.score(X_train,Y_train))\n",
        "print('Acc teste:',accuracy_score(Y_test, y_pred_svm))\n",
        "print('Revocação:',recall_score(Y_test,y_pred_svm,average=None))\n",
        "print('Precisão:',precision_score(Y_test,y_pred_svm,average=None))\n",
        "print('F1_score:',f1_score(Y_test,y_pred_svm,average=None))"
      ],
      "metadata": {
        "colab": {
          "base_uri": "https://localhost:8080/"
        },
        "id": "ywb6sDs09W8O",
        "outputId": "4150eeda-e36b-4855-b943-ac4ecf6c421c"
      },
      "execution_count": 127,
      "outputs": [
        {
          "output_type": "stream",
          "name": "stdout",
          "text": [
            "Acc treino: 0.6403940886699507\n",
            "Acc teste: 0.6283524904214559\n",
            "Revocação: [1. 0. 0. 0.]\n",
            "Precisão: [0.62835249 0.         0.         0.        ]\n",
            "F1_score: [0.77176471 0.         0.         0.        ]\n"
          ]
        },
        {
          "output_type": "stream",
          "name": "stderr",
          "text": [
            "/usr/local/lib/python3.7/dist-packages/sklearn/metrics/_classification.py:1318: UndefinedMetricWarning: Precision is ill-defined and being set to 0.0 in labels with no predicted samples. Use `zero_division` parameter to control this behavior.\n",
            "  _warn_prf(average, modifier, msg_start, len(result))\n"
          ]
        }
      ]
    },
    {
      "cell_type": "code",
      "source": [
        "plot_confusion_matrix(modelo_SVM, X_train, Y_train, cmap='Blues', values_format='.0f')"
      ],
      "metadata": {
        "colab": {
          "base_uri": "https://localhost:8080/",
          "height": 351
        },
        "id": "OQSzVYaK9ayU",
        "outputId": "6250f1a3-1faa-4b9a-aa5e-e8e9c9927013"
      },
      "execution_count": 128,
      "outputs": [
        {
          "output_type": "stream",
          "name": "stderr",
          "text": [
            "/usr/local/lib/python3.7/dist-packages/sklearn/utils/deprecation.py:87: FutureWarning: Function plot_confusion_matrix is deprecated; Function `plot_confusion_matrix` is deprecated in 1.0 and will be removed in 1.2. Use one of the class methods: ConfusionMatrixDisplay.from_predictions or ConfusionMatrixDisplay.from_estimator.\n",
            "  warnings.warn(msg, category=FutureWarning)\n"
          ]
        },
        {
          "output_type": "execute_result",
          "data": {
            "text/plain": [
              "<sklearn.metrics._plot.confusion_matrix.ConfusionMatrixDisplay at 0x7fbf99a9c9d0>"
            ]
          },
          "metadata": {},
          "execution_count": 128
        },
        {
          "output_type": "display_data",
          "data": {
            "text/plain": [
              "<Figure size 432x288 with 2 Axes>"
            ],
            "image/png": "[encoded data removed]"
          },
          "metadata": {
            "needs_background": "light"
          }
        }
      ]
    },
    {
      "cell_type": "markdown",
      "source": [
        "Como pôde ser visualizado, utilizando dos melhores hiper-parâmetros para o modelo segundo o Grid Search, as métricas de desempenho permanecem praticamente inalteradas( apenas um leve aumento do f1-score), sugerindo que mesmo com os melhores parâmetros para esse modelo, ainda é perceptível um forte ruído na manipulação dos dados."
      ],
      "metadata": {
        "id": "VqEEx0wE6cw3"
      }
    },
    {
      "cell_type": "markdown",
      "source": [
        "### 5.4.3-SVM com hiper-parâmetros(Randomized Search)"
      ],
      "metadata": {
        "id": "frEAOkXX9i8D"
      }
    },
    {
      "cell_type": "markdown",
      "source": [
        "Buscando ainda analisar outros modelos de busca de hiper-parâmetros para servir de comparação com os resultados obtidos, foi o utilizado também o Randomized Search para a busca dos melhores hiper-parâmetros."
      ],
      "metadata": {
        "id": "sUaxriTV6_Qr"
      }
    },
    {
      "cell_type": "code",
      "source": [
        "parametros_svm = {\n",
        "    'kernel':['rbf'],#['linear','poly','rbf','sigmoid','precomputed'],\n",
        "    'gamma':['scale','auto'],\n",
        "    #'float':range(1,50),\n",
        "    'degree':range(1,5)\n",
        "}\n",
        "randomized_search_svm = RandomizedSearchCV(estimator = SVC(),param_distributions=parametros_svm)\n",
        "randomized_search_svm.fit(X_train,Y_train.squeeze())\n",
        "\n",
        "modelRS_svm = randomized_search_svm.best_estimator_\n",
        "\n",
        "y_predRS_svm = modelRS_svm.predict(X_test)\n",
        "\n",
        "accuracy = accuracy_score(Y_test, y_predRS_svm)\n",
        "\n",
        "print('SVM score: {}'.format(accuracy))\n",
        "randomized_search_svm.best_params_"
      ],
      "metadata": {
        "colab": {
          "base_uri": "https://localhost:8080/"
        },
        "id": "leG8h1Wf9qY-",
        "outputId": "38e22eac-ea1c-4687-cfc6-924eea08a386"
      },
      "execution_count": 129,
      "outputs": [
        {
          "output_type": "stream",
          "name": "stderr",
          "text": [
            "/usr/local/lib/python3.7/dist-packages/sklearn/model_selection/_search.py:296: UserWarning: The total space of parameters 8 is smaller than n_iter=10. Running 8 iterations. For exhaustive searches, use GridSearchCV.\n",
            "  UserWarning,\n"
          ]
        },
        {
          "output_type": "stream",
          "name": "stdout",
          "text": [
            "SVM score: 0.6283524904214559\n"
          ]
        },
        {
          "output_type": "execute_result",
          "data": {
            "text/plain": [
              "{'kernel': 'rbf', 'gamma': 'scale', 'degree': 1}"
            ]
          },
          "metadata": {},
          "execution_count": 129
        }
      ]
    },
    {
      "cell_type": "code",
      "source": [
        "print(randomized_search_svm.best_score_)\n",
        "print(randomized_search_svm.best_params_)"
      ],
      "metadata": {
        "colab": {
          "base_uri": "https://localhost:8080/"
        },
        "id": "3cLTppAR9tkP",
        "outputId": "9f90c1a7-37a6-4d1c-a3ad-96f880b8aefc"
      },
      "execution_count": 130,
      "outputs": [
        {
          "output_type": "stream",
          "name": "stdout",
          "text": [
            "0.6387616854084813\n",
            "{'kernel': 'rbf', 'gamma': 'scale', 'degree': 1}\n"
          ]
        }
      ]
    },
    {
      "cell_type": "code",
      "source": [
        "svm_best= randomized_search_svm.best_estimator_\n",
        "svm_best\n",
        "print('Acc treino:',svm_best.score(X_train,Y_train))\n",
        "print('Acc teste:',svm_best.score(X_test,Y_test.squeeze()))\n",
        "print('Revocação:',recall_score(Y_test,y_predRS_svm,average=None))\n",
        "print('Precisão:',precision_score(Y_test,y_predRS_svm,average=None))\n",
        "print('F1_score:',precision_score(Y_test,y_predRS_svm,average=None))"
      ],
      "metadata": {
        "colab": {
          "base_uri": "https://localhost:8080/"
        },
        "id": "7q4aqYrB9xK6",
        "outputId": "e4b9671f-7baf-4e0e-f819-520a83895169"
      },
      "execution_count": 131,
      "outputs": [
        {
          "output_type": "stream",
          "name": "stdout",
          "text": [
            "Acc treino: 0.6403940886699507\n",
            "Acc teste: 0.6283524904214559\n",
            "Revocação: [1. 0. 0. 0.]\n",
            "Precisão: [0.62835249 0.         0.         0.        ]\n",
            "F1_score: [0.62835249 0.         0.         0.        ]\n"
          ]
        },
        {
          "output_type": "stream",
          "name": "stderr",
          "text": [
            "/usr/local/lib/python3.7/dist-packages/sklearn/metrics/_classification.py:1318: UndefinedMetricWarning: Precision is ill-defined and being set to 0.0 in labels with no predicted samples. Use `zero_division` parameter to control this behavior.\n",
            "  _warn_prf(average, modifier, msg_start, len(result))\n",
            "/usr/local/lib/python3.7/dist-packages/sklearn/metrics/_classification.py:1318: UndefinedMetricWarning: Precision is ill-defined and being set to 0.0 in labels with no predicted samples. Use `zero_division` parameter to control this behavior.\n",
            "  _warn_prf(average, modifier, msg_start, len(result))\n"
          ]
        }
      ]
    },
    {
      "cell_type": "code",
      "source": [
        "plot_confusion_matrix(modelRS_svm, X_test, Y_test, cmap='Blues', values_format='.0f');"
      ],
      "metadata": {
        "colab": {
          "base_uri": "https://localhost:8080/",
          "height": 334
        },
        "id": "h7FRs8np9z8N",
        "outputId": "3a40853a-8ce1-4c7f-97af-4eca9d7f1161"
      },
      "execution_count": 132,
      "outputs": [
        {
          "output_type": "stream",
          "name": "stderr",
          "text": [
            "/usr/local/lib/python3.7/dist-packages/sklearn/utils/deprecation.py:87: FutureWarning: Function plot_confusion_matrix is deprecated; Function `plot_confusion_matrix` is deprecated in 1.0 and will be removed in 1.2. Use one of the class methods: ConfusionMatrixDisplay.from_predictions or ConfusionMatrixDisplay.from_estimator.\n",
            "  warnings.warn(msg, category=FutureWarning)\n"
          ]
        },
        {
          "output_type": "display_data",
          "data": {
            "text/plain": [
              "<Figure size 432x288 with 2 Axes>"
            ],
            "image/png": "[encoded data removed]"
          },
          "metadata": {
            "needs_background": "light"
          }
        }
      ]
    },
    {
      "cell_type": "markdown",
      "source": [
        "Como pôde ser visualizado, utilizando os melhores hiper-parâmetros segundo o Randomized Search, o modelo ainda obteve resultados quase sem nenhuma variação em relação ao modelo original, indicando que ambas as buscas por hiper-parâmetros possuem um forte ruído na feature engineering dos dados que compromete o pleno funcionamento do modelo."
      ],
      "metadata": {
        "id": "WGlhT3x78Sl6"
      }
    },
    {
      "cell_type": "markdown",
      "source": [
        "#6.0 - Análise dos resultados\n",
        "\n",
        "Em um primeiro momento, foi decidido como parâmetro de avaliação de desempenho a acurácia dos modelos de aprendizagem de máquina, visto que essa métrica engloba todas possíveis variáveis de resultado, como os verdadeiros positivos, verdadeiros negativos, falsos positivos e falsos negativos.\n",
        "\n",
        "Dessa forma, com base nos resultados finais obtidos nos testes, conclui-se que o melhor método de aprendizagem de máquina para este projeto até o momento é a Árvore de decisão e o SVM,ambos empatados  com uma acurácia de 62% utilizando as métricas do Grid Search para o árvore e a ausência de métricas para o SVM .\n",
        "\n",
        "Esse valor indica que , dentre todos os resultados dos testes de predições, o número de valores verdadeiros positivos e negativos para os modelos representam 62% do total, o que sugere uma revisão no tratamentos dos dados de modo a eliminar os falsos positivos e negativos, responsáveis por abaixar essa porcentagem e diminuir a precisão e recall do modelo, o que consequentemente abaixam a acurácia de modo geral.\n",
        "\n",
        "Ademais, vale ressaltar que foram desconsiderados os resultados de acurácia dos modelos cujo resultado foi igual a 100% sem que esse valor fosse compatível com as outras métricas, indicando o possível vício de treinamento e fortes ruídos em uma ou mais features durante a limpeza e manipulação dos dados.\n",
        "\n",
        "Em suma, será realizado uma revisão no processo de feature engeneering para buscar otimizar ainda mais o resultados para a entrega final, além de avaliar os pesos que cada coluna possui sobre a classificação de cada modelo de treinamento de modo a buscar e eliminar possíveis dados viciantes.\n"
      ],
      "metadata": {
        "id": "MpqpVdNUtQ7R"
      }
    }
  ]
}